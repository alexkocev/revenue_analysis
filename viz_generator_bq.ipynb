{
 "cells": [
  {
   "cell_type": "code",
   "execution_count": null,
   "metadata": {},
   "outputs": [],
   "source": [
    "\n",
    "# -- IMPORTS --\n",
    "import pandas as pd\n",
    "import matplotlib.pyplot as plt\n",
    "import plotly.express as px\n",
    "import plotly.graph_objects as go\n",
    "import plotly.io as pio\n",
    "import re\n",
    "from collections import defaultdict\n",
    "from tqdm import tqdm\n",
    "import numpy as np\n",
    "from scipy.stats import pearsonr\n",
    "import openpyxl\n",
    "import yfinance as yf\n",
    "pio.renderers.default = 'notebook' # viz outputs in the notebook\n",
    "\n",
    "# -- M2 DATA IMPORT --\n",
    "file_path = \"data/bq_magento.csv\"  \n",
    "data_m2 = pd.read_csv(file_path)\n",
    "data_m2['datetime'] = pd.to_datetime(data_m2['datetime'])\n",
    "data_m2 = data_m2.drop(columns=['quantity'])\n",
    "\n",
    "\n",
    "# -- GA4 DATA IMPORT --\n",
    "file_path = \"data/bq_ga4.csv\"   \n",
    "data_ga4 = pd.read_csv(file_path)\n",
    "data_ga4['datetime'] = pd.to_datetime(data_ga4['datetime'])\n",
    "\n",
    "# -- Build GA4 Source table --\n",
    "data_ga4_source = data_ga4.groupby(\n",
    "    ['transaction_id', 'datetime']\n",
    ").agg(\n",
    "    traffic_source=('traffic_source', 'first'),        \n",
    "    traffic_medium=('traffic_medium', 'first'),        \n",
    "    traffic_name=('traffic_name', 'first'),          \n",
    "    revenue=('revenue', 'first'),       \n",
    "    quantity=('quantity', 'first')  \n",
    ").reset_index()\n",
    "# Capitalize traffic source and replace (direct)\n",
    "data_ga4_source['traffic_source'] = data_ga4_source['traffic_source'].str.capitalize()\n",
    "data_ga4_source['traffic_source'] = data_ga4_source['traffic_source'].replace('(direct)', 'Direct')\n",
    "\n",
    "# -- Build GA4 Item table --\n",
    "data_ga4_item = data_ga4[['transaction_id', 'datetime', 'item_name', \n",
    "                          'category_name1', 'category_name2', 'category_name3', 'category_name4', 'category_name5', \n",
    "                          'item_revenue', 'item_quantity' ]].copy()\n",
    "# Lowercase and title the category columns\n",
    "for col in [\"category_name1\", \"category_name2\", \"category_name3\", \"category_name4\"]:\n",
    "    data_ga4_item[col] = data_ga4_item[col].str.lower()\n",
    "for col in [\"category_name1\", \"category_name2\", \"category_name3\", \"category_name4\"]:\n",
    "    data_ga4_item[col] = data_ga4_item[col].str.title()\n"
   ]
  },
  {
   "cell_type": "code",
   "execution_count": 2,
   "metadata": {},
   "outputs": [
    {
     "name": "stderr",
     "output_type": "stream",
     "text": [
      "Processing Users: 100%|██████████| 6893366/6893366 [02:44<00:00, 41789.82it/s]\n"
     ]
    }
   ],
   "source": [
    "# -- UNIFY USERS ie. create user_id --\n",
    "def clean_name_address(text: str) -> str:\n",
    "    \"\"\"\n",
    "    1) Lowercase\n",
    "    2) Remove all NON-alphanumeric characters (anything except letters, digits, and spaces),\n",
    "       replacing them with a single space\n",
    "    3) Replace multiple spaces with a single space\n",
    "    4) Strip leading/trailing spaces\n",
    "    \"\"\"\n",
    "    if not isinstance(text, str):\n",
    "        text = str(text) if pd.notnull(text) else \"\"\n",
    "    \n",
    "    # Lowercase\n",
    "    text = text.lower().strip()\n",
    "    \n",
    "    # Replace any sequence of non-alphanumeric (including punctuation) with a space\n",
    "    # Here [^a-z0-9 ] means \"any char that is NOT (a to z or 0-9 or space)\".\n",
    "    text = re.sub(r'[^a-z0-9 ]+', ' ', text)\n",
    "    \n",
    "    # Collapse multiple spaces into one\n",
    "    text = re.sub(r'\\s+', ' ', text)\n",
    "    \n",
    "    return text.strip()\n",
    "\n",
    "def clean_email(text: str) -> str:\n",
    "    \"\"\"\n",
    "    1) Lowercase\n",
    "    2) Strip leading/trailing spaces\n",
    "    \n",
    "    We do NOT remove non-alphanumeric chars from email because\n",
    "    valid addresses may contain '.', '+', '_', etc. \n",
    "    \"\"\"\n",
    "    if not isinstance(text, str):\n",
    "        text = str(text) if pd.notnull(text) else \"\"\n",
    "    \n",
    "    return text.lower().strip()\n",
    "\n",
    "\n",
    "def generate_user_id(df):\n",
    "    user_mapping = {}\n",
    "    user_counter = 1\n",
    "    user_ids = []\n",
    "    \n",
    "    df['user_name'] = df['user_name'].apply(clean_name_address)\n",
    "    df['shipping_address'] = df['shipping_address'].apply(clean_name_address)\n",
    "    df['email'] = df['email'].apply(clean_email)\n",
    "        \n",
    "    for index, row in tqdm(df.iterrows(), total=len(df), desc=\"Processing Users\"):\n",
    " \n",
    "        email, name, address = row['email'], row['user_name'], row['shipping_address']\n",
    "\n",
    "        # Priority: Same email = same user\n",
    "        if email in user_mapping:\n",
    "            user_ids.append(user_mapping[email])\n",
    "        \n",
    "        # Otherwise, check for same name + same address\n",
    "        elif (name, address) in user_mapping:\n",
    "            user_ids.append(user_mapping[(name, address)])\n",
    "        \n",
    "        # Otherwise, create a new user_id\n",
    "        else:\n",
    "            user_mapping[email] = user_counter\n",
    "            user_mapping[(name, address)] = user_counter\n",
    "            user_ids.append(user_counter)\n",
    "            user_counter += 1\n",
    "    \n",
    "    df['user_id'] = pd.Series(user_ids, dtype=str)\n",
    "    return df\n",
    "\n",
    "data_m2 = generate_user_id(data_m2)\n",
    "\n",
    "# Merge data_m2 and data_ga4_item using a left join on the 'transaction_id' column\n",
    "data_ga4_item = pd.merge(data_ga4_item, data_m2, on='transaction_id', how='left')\n"
   ]
  },
  {
   "cell_type": "code",
   "execution_count": 3,
   "metadata": {},
   "outputs": [
    {
     "data": {
      "text/html": [
       "<div>\n",
       "<style scoped>\n",
       "    .dataframe tbody tr th:only-of-type {\n",
       "        vertical-align: middle;\n",
       "    }\n",
       "\n",
       "    .dataframe tbody tr th {\n",
       "        vertical-align: top;\n",
       "    }\n",
       "\n",
       "    .dataframe thead th {\n",
       "        text-align: right;\n",
       "    }\n",
       "</style>\n",
       "<table border=\"1\" class=\"dataframe\">\n",
       "  <thead>\n",
       "    <tr style=\"text-align: right;\">\n",
       "      <th></th>\n",
       "      <th>revenue</th>\n",
       "      <th>percent_revenue</th>\n",
       "    </tr>\n",
       "    <tr>\n",
       "      <th>currency</th>\n",
       "      <th></th>\n",
       "      <th></th>\n",
       "    </tr>\n",
       "  </thead>\n",
       "  <tbody>\n",
       "    <tr>\n",
       "      <th>EUR</th>\n",
       "      <td>1.321353e+08</td>\n",
       "      <td>72.4</td>\n",
       "    </tr>\n",
       "    <tr>\n",
       "      <th>GBP</th>\n",
       "      <td>3.202682e+07</td>\n",
       "      <td>17.5</td>\n",
       "    </tr>\n",
       "    <tr>\n",
       "      <th>USD</th>\n",
       "      <td>1.259031e+07</td>\n",
       "      <td>6.9</td>\n",
       "    </tr>\n",
       "    <tr>\n",
       "      <th>SEK</th>\n",
       "      <td>2.970547e+06</td>\n",
       "      <td>1.6</td>\n",
       "    </tr>\n",
       "    <tr>\n",
       "      <th>DKK</th>\n",
       "      <td>9.463986e+05</td>\n",
       "      <td>0.5</td>\n",
       "    </tr>\n",
       "    <tr>\n",
       "      <th>PLN</th>\n",
       "      <td>9.225214e+05</td>\n",
       "      <td>0.5</td>\n",
       "    </tr>\n",
       "    <tr>\n",
       "      <th>NOK</th>\n",
       "      <td>8.687061e+05</td>\n",
       "      <td>0.5</td>\n",
       "    </tr>\n",
       "    <tr>\n",
       "      <th>CHF</th>\n",
       "      <td>9.784140e+04</td>\n",
       "      <td>0.1</td>\n",
       "    </tr>\n",
       "    <tr>\n",
       "      <th>HUF</th>\n",
       "      <td>2.256500e+04</td>\n",
       "      <td>0.0</td>\n",
       "    </tr>\n",
       "  </tbody>\n",
       "</table>\n",
       "</div>"
      ],
      "text/plain": [
       "               revenue  percent_revenue\n",
       "currency                               \n",
       "EUR       1.321353e+08             72.4\n",
       "GBP       3.202682e+07             17.5\n",
       "USD       1.259031e+07              6.9\n",
       "SEK       2.970547e+06              1.6\n",
       "DKK       9.463986e+05              0.5\n",
       "PLN       9.225214e+05              0.5\n",
       "NOK       8.687061e+05              0.5\n",
       "CHF       9.784140e+04              0.1\n",
       "HUF       2.256500e+04              0.0"
      ]
     },
     "execution_count": 3,
     "metadata": {},
     "output_type": "execute_result"
    }
   ],
   "source": [
    "# EXPLORATION\n",
    "\n",
    "# -----------------------------------------------------------------------------------------\n",
    "# -- Viz currencies --\n",
    "data_m2.groupby(['currency']).agg(revenue=('revenue', 'sum')) \\\n",
    "    .assign(percent_revenue=lambda x: ((x['revenue'] / x['revenue'].sum()) * 100).round(1)) \\\n",
    "    .sort_values(by='revenue', ascending=False)"
   ]
  },
  {
   "cell_type": "code",
   "execution_count": 4,
   "metadata": {},
   "outputs": [],
   "source": [
    "# ------------------------- Choose the Currency for the analysis -------------------------------\n",
    "currency_to_choose = 'EUR'\n",
    "# -----------------------------------------------------------------------------------------"
   ]
  },
  {
   "cell_type": "code",
   "execution_count": 5,
   "metadata": {},
   "outputs": [
    {
     "data": {
      "text/plain": [
       "email\n",
       "tara@qwertee.com                     2311\n",
       "marc.menigault@gmail.com             1425\n",
       "slackoonofsemantics@hotmail.co.uk    1423\n",
       "secret-2005@web.de                    903\n",
       "se_green@hotmail.com                  765\n",
       "marion_korsmeier@yahoo.de             705\n",
       "madrose13@yahoo.com                   673\n",
       "lostinmeath@gmail.com                 633\n",
       "qweller@yahoo.com                     625\n",
       "machworld@gmail.com                   624\n",
       "elesium8@yahoo.com                    555\n",
       "kristian@epicpanda.dk                 533\n",
       "tomknalla1@gmail.com                  516\n",
       "adam_zukes@yahoo.co.uk                510\n",
       "benbe1987@gmx.net                     480\n",
       "cfl@langewische.com                   450\n",
       "hollyt75@hotmail.com                  445\n",
       "tim@qwertee.com                       441\n",
       "diacom@gmx.de                         433\n",
       "danny_o1@gmx.de                       425\n",
       "Name: transaction_id, dtype: int64"
      ]
     },
     "execution_count": 5,
     "metadata": {},
     "output_type": "execute_result"
    }
   ],
   "source": [
    "\n",
    "# -----------------------------------------------------------------------------------------\n",
    "# -- Viz top emails --\n",
    "\n",
    "emails = data_m2.groupby('email')['transaction_id'].count()\n",
    "emails = emails.sort_values(ascending=False)\n",
    "emails.head(20)"
   ]
  },
  {
   "cell_type": "code",
   "execution_count": 6,
   "metadata": {},
   "outputs": [],
   "source": [
    "# ------------------------- Remove wrong or internal emails -------------------------------\n",
    "email_keywords_to_ignore = ['qwertee', 'test']\n",
    "# -----------------------------------------------------------------------------------------\n",
    "\n",
    "pattern = '|'.join(email_keywords_to_ignore)\n",
    "data_m2 = data_m2[~data_m2['user_id'].str.contains(pattern, case=False, na=False)]"
   ]
  },
  {
   "cell_type": "code",
   "execution_count": 7,
   "metadata": {},
   "outputs": [
    {
     "data": {
      "text/html": [
       "<div>\n",
       "<style scoped>\n",
       "    .dataframe tbody tr th:only-of-type {\n",
       "        vertical-align: middle;\n",
       "    }\n",
       "\n",
       "    .dataframe tbody tr th {\n",
       "        vertical-align: top;\n",
       "    }\n",
       "\n",
       "    .dataframe thead th {\n",
       "        text-align: right;\n",
       "    }\n",
       "</style>\n",
       "<table border=\"1\" class=\"dataframe\">\n",
       "  <thead>\n",
       "    <tr style=\"text-align: right;\">\n",
       "      <th></th>\n",
       "      <th>category_name1</th>\n",
       "      <th>pct1</th>\n",
       "      <th>category_name2</th>\n",
       "      <th>pct2</th>\n",
       "      <th>category_name3</th>\n",
       "      <th>pct3</th>\n",
       "      <th>category_name4</th>\n",
       "      <th>pct4</th>\n",
       "    </tr>\n",
       "  </thead>\n",
       "  <tbody>\n",
       "    <tr>\n",
       "      <th>0</th>\n",
       "      <td>Mens</td>\n",
       "      <td>92.5%</td>\n",
       "      <td>(Not Set)</td>\n",
       "      <td>54.3%</td>\n",
       "      <td>(Not Set)</td>\n",
       "      <td>100.0%</td>\n",
       "      <td>(Not Set)</td>\n",
       "      <td>100.0%</td>\n",
       "    </tr>\n",
       "    <tr>\n",
       "      <th>1</th>\n",
       "      <td>Womens</td>\n",
       "      <td>13.8%</td>\n",
       "      <td>189241</td>\n",
       "      <td>2.5%</td>\n",
       "      <td>NaN</td>\n",
       "      <td>NaN</td>\n",
       "      <td>NaN</td>\n",
       "      <td>NaN</td>\n",
       "    </tr>\n",
       "    <tr>\n",
       "      <th>2</th>\n",
       "      <td>Sticker</td>\n",
       "      <td>5.3%</td>\n",
       "      <td>1178679</td>\n",
       "      <td>1.6%</td>\n",
       "      <td>NaN</td>\n",
       "      <td>NaN</td>\n",
       "      <td>NaN</td>\n",
       "      <td>NaN</td>\n",
       "    </tr>\n",
       "    <tr>\n",
       "      <th>3</th>\n",
       "      <td>Kids</td>\n",
       "      <td>2.4%</td>\n",
       "      <td>88244</td>\n",
       "      <td>1.6%</td>\n",
       "      <td>NaN</td>\n",
       "      <td>NaN</td>\n",
       "      <td>NaN</td>\n",
       "      <td>NaN</td>\n",
       "    </tr>\n",
       "    <tr>\n",
       "      <th>4</th>\n",
       "      <td>Print</td>\n",
       "      <td>1.5%</td>\n",
       "      <td>178483</td>\n",
       "      <td>1.4%</td>\n",
       "      <td>NaN</td>\n",
       "      <td>NaN</td>\n",
       "      <td>NaN</td>\n",
       "      <td>NaN</td>\n",
       "    </tr>\n",
       "  </tbody>\n",
       "</table>\n",
       "</div>"
      ],
      "text/plain": [
       "  category_name1   pct1 category_name2   pct2 category_name3    pct3  \\\n",
       "0           Mens  92.5%      (Not Set)  54.3%      (Not Set)  100.0%   \n",
       "1         Womens  13.8%         189241   2.5%            NaN     NaN   \n",
       "2        Sticker   5.3%        1178679   1.6%            NaN     NaN   \n",
       "3           Kids   2.4%          88244   1.6%            NaN     NaN   \n",
       "4          Print   1.5%         178483   1.4%            NaN     NaN   \n",
       "\n",
       "  category_name4    pct4  \n",
       "0      (Not Set)  100.0%  \n",
       "1            NaN     NaN  \n",
       "2            NaN     NaN  \n",
       "3            NaN     NaN  \n",
       "4            NaN     NaN  "
      ]
     },
     "execution_count": 7,
     "metadata": {},
     "output_type": "execute_result"
    }
   ],
   "source": [
    "# -----------------------------------------------------------------------------------------\n",
    "# -- Viz top categories --\n",
    "\n",
    "# Total unique transactions\n",
    "total_txn = data_ga4_item[\"transaction_id\"].nunique()\n",
    "\n",
    "# Helper function to get percentage of transactions per category\n",
    "def category_percentages(df, col):\n",
    "    counts = df.groupby(col)[\"transaction_id\"].nunique().sort_values(ascending=False)\n",
    "    pct = (counts / total_txn) * 100\n",
    "    pct = pct.round(1)  # Round to 1 decimal\n",
    "    pct = pct.astype(str) + \"%\"  # Add the '%' sign\n",
    "    return pct.reset_index(name=\"percentage_of_transactions\")\n",
    "\n",
    "# For each category column, compute + sort by percentage\n",
    "cat1_df = category_percentages(data_ga4_item, \"category_name1\")\n",
    "cat2_df = category_percentages(data_ga4_item, \"category_name2\")\n",
    "cat3_df = category_percentages(data_ga4_item, \"category_name3\")\n",
    "cat4_df = category_percentages(data_ga4_item, \"category_name4\")\n",
    "\n",
    "cat1_df.columns = [\"category_name1\", \"pct1\"]\n",
    "cat2_df.columns = [\"category_name2\", \"pct2\"]\n",
    "cat3_df.columns = [\"category_name3\", \"pct3\"]\n",
    "cat4_df.columns = [\"category_name4\", \"pct4\"]\n",
    "\n",
    "categ_df = pd.concat(\n",
    "    [cat1_df.reset_index(drop=True),\n",
    "     cat2_df.reset_index(drop=True),\n",
    "     cat3_df.reset_index(drop=True),\n",
    "     cat4_df.reset_index(drop=True)],\n",
    "    axis=1\n",
    ")\n",
    "\n",
    "categ_df.head(5)"
   ]
  },
  {
   "cell_type": "code",
   "execution_count": 8,
   "metadata": {},
   "outputs": [],
   "source": [
    "# ------------------ Keep category level that makes sense ---------------------------------\n",
    "category_to_analyse = \"category_name1\"\n",
    "# -----------------------------------------------------------------------------------------"
   ]
  },
  {
   "cell_type": "code",
   "execution_count": 9,
   "metadata": {},
   "outputs": [
    {
     "data": {
      "text/html": [
       "<div>\n",
       "<style scoped>\n",
       "    .dataframe tbody tr th:only-of-type {\n",
       "        vertical-align: middle;\n",
       "    }\n",
       "\n",
       "    .dataframe tbody tr th {\n",
       "        vertical-align: top;\n",
       "    }\n",
       "\n",
       "    .dataframe thead th {\n",
       "        text-align: right;\n",
       "    }\n",
       "</style>\n",
       "<table border=\"1\" class=\"dataframe\">\n",
       "  <thead>\n",
       "    <tr style=\"text-align: right;\">\n",
       "      <th></th>\n",
       "      <th>order_status</th>\n",
       "      <th>total_revenue</th>\n",
       "      <th>unique_transactions</th>\n",
       "      <th>percentage_of_transactions</th>\n",
       "    </tr>\n",
       "  </thead>\n",
       "  <tbody>\n",
       "    <tr>\n",
       "      <th>10</th>\n",
       "      <td>shipped</td>\n",
       "      <td>1.683143e+08</td>\n",
       "      <td>6544585</td>\n",
       "      <td>95.115920</td>\n",
       "    </tr>\n",
       "    <tr>\n",
       "      <th>5</th>\n",
       "      <td>new</td>\n",
       "      <td>1.254321e+07</td>\n",
       "      <td>229167</td>\n",
       "      <td>3.330605</td>\n",
       "    </tr>\n",
       "    <tr>\n",
       "      <th>0</th>\n",
       "      <td>cancelled</td>\n",
       "      <td>1.052759e+06</td>\n",
       "      <td>100790</td>\n",
       "      <td>1.464834</td>\n",
       "    </tr>\n",
       "    <tr>\n",
       "      <th>1</th>\n",
       "      <td>complete</td>\n",
       "      <td>2.244253e+05</td>\n",
       "      <td>9019</td>\n",
       "      <td>0.131078</td>\n",
       "    </tr>\n",
       "    <tr>\n",
       "      <th>8</th>\n",
       "      <td>printing</td>\n",
       "      <td>1.873942e+05</td>\n",
       "      <td>4183</td>\n",
       "      <td>0.060794</td>\n",
       "    </tr>\n",
       "    <tr>\n",
       "      <th>4</th>\n",
       "      <td>in production</td>\n",
       "      <td>1.642849e+05</td>\n",
       "      <td>3415</td>\n",
       "      <td>0.049632</td>\n",
       "    </tr>\n",
       "    <tr>\n",
       "      <th>7</th>\n",
       "      <td>pending review</td>\n",
       "      <td>5.537040e+04</td>\n",
       "      <td>1402</td>\n",
       "      <td>0.020376</td>\n",
       "    </tr>\n",
       "    <tr>\n",
       "      <th>9</th>\n",
       "      <td>re-ship</td>\n",
       "      <td>3.801092e+04</td>\n",
       "      <td>775</td>\n",
       "      <td>0.011263</td>\n",
       "    </tr>\n",
       "    <tr>\n",
       "      <th>3</th>\n",
       "      <td>exchanged</td>\n",
       "      <td>1.145350e+03</td>\n",
       "      <td>28</td>\n",
       "      <td>0.000407</td>\n",
       "    </tr>\n",
       "    <tr>\n",
       "      <th>2</th>\n",
       "      <td>did not arrive</td>\n",
       "      <td>3.395000e+01</td>\n",
       "      <td>1</td>\n",
       "      <td>0.000015</td>\n",
       "    </tr>\n",
       "  </tbody>\n",
       "</table>\n",
       "</div>"
      ],
      "text/plain": [
       "      order_status  total_revenue  unique_transactions  \\\n",
       "10         shipped   1.683143e+08              6544585   \n",
       "5              new   1.254321e+07               229167   \n",
       "0        cancelled   1.052759e+06               100790   \n",
       "1         complete   2.244253e+05                 9019   \n",
       "8         printing   1.873942e+05                 4183   \n",
       "4    in production   1.642849e+05                 3415   \n",
       "7   pending review   5.537040e+04                 1402   \n",
       "9          re-ship   3.801092e+04                  775   \n",
       "3        exchanged   1.145350e+03                   28   \n",
       "2   did not arrive   3.395000e+01                    1   \n",
       "\n",
       "    percentage_of_transactions  \n",
       "10                   95.115920  \n",
       "5                     3.330605  \n",
       "0                     1.464834  \n",
       "1                     0.131078  \n",
       "8                     0.060794  \n",
       "4                     0.049632  \n",
       "7                     0.020376  \n",
       "9                     0.011263  \n",
       "3                     0.000407  \n",
       "2                     0.000015  "
      ]
     },
     "execution_count": 9,
     "metadata": {},
     "output_type": "execute_result"
    }
   ],
   "source": [
    "# -----------------------------------------------------------------------------------------\n",
    "# -- Viz top order status --\n",
    "\n",
    "# Lowercase the order_status (optional)\n",
    "data_m2[\"order_status\"] = data_m2[\"order_status\"].str.lower()\n",
    "# Calculate total unique transactions\n",
    "total_txn = data_m2[\"transaction_id\"].nunique()\n",
    "# Group by order_status:\n",
    "grouped = data_m2.groupby(\"order_status\").agg(\n",
    "    total_revenue=(\"revenue\", \"sum\"),\n",
    "    unique_transactions=(\"transaction_id\", \"nunique\")\n",
    ").reset_index()\n",
    "# Compute percentage of unique transactions\n",
    "grouped[\"percentage_of_transactions\"] = (\n",
    "    grouped[\"unique_transactions\"] / total_txn * 100\n",
    ")\n",
    "# Sort descending by percentage of transactions\n",
    "order_status_df = grouped.sort_values(\"percentage_of_transactions\", ascending=False)\n",
    "\n",
    "order_status_df.head(10)"
   ]
  },
  {
   "cell_type": "code",
   "execution_count": 10,
   "metadata": {},
   "outputs": [],
   "source": [
    "# ------------ Remmove order status that show refunds or cancelations ---------------------\n",
    "order_status_keyWords_Refund_Cancel = [\"cancel\", \"refund\"]\n",
    "# -----------------------------------------------------------------------------------------"
   ]
  },
  {
   "cell_type": "code",
   "execution_count": 11,
   "metadata": {},
   "outputs": [
    {
     "name": "stdout",
     "output_type": "stream",
     "text": [
      "Source: Magento 2 from Nov 25, 2010 to Feb 11, 2025\n",
      "Source: GA4 from Jun 14, 2023 to Feb 11, 2025\n"
     ]
    }
   ],
   "source": [
    "# -----------------------------------------------------------------------------------------\n",
    "# -- Viz date range --\n",
    "print(f\"Source: Magento 2 from {data_m2['datetime'].min().strftime('%b %d, %Y')} to {data_m2['datetime'].max().strftime('%b %d, %Y')}\")\n",
    "print(f\"Source: GA4 from {data_ga4_source['datetime'].min().strftime('%b %d, %Y')} to {data_ga4_source['datetime'].max().strftime('%b %d, %Y')}\")"
   ]
  },
  {
   "cell_type": "code",
   "execution_count": 12,
   "metadata": {},
   "outputs": [
    {
     "name": "stdout",
     "output_type": "stream",
     "text": [
      "Data date range: 2010-11-25 23:39:40 to 2025-02-11 15:14:15\n",
      "Fetching exchange rates from 2010-11-18 23:39:40 to 2025-02-18 15:14:15\n",
      "Unique currencies found: ['GBP' 'EUR' 'USD' 'PLN' 'SEK' 'HUF' 'CHF' 'DKK' 'NOK']\n",
      "Fetching exchange rates for: GBPEUR=X\n"
     ]
    },
    {
     "name": "stderr",
     "output_type": "stream",
     "text": [
      "[*********************100%***********************]  1 of 1 completed\n"
     ]
    },
    {
     "name": "stdout",
     "output_type": "stream",
     "text": [
      "Fetching exchange rates for: USDEUR=X\n"
     ]
    },
    {
     "name": "stderr",
     "output_type": "stream",
     "text": [
      "[*********************100%***********************]  1 of 1 completed\n"
     ]
    },
    {
     "name": "stdout",
     "output_type": "stream",
     "text": [
      "Fetching exchange rates for: PLNEUR=X\n"
     ]
    },
    {
     "name": "stderr",
     "output_type": "stream",
     "text": [
      "[*********************100%***********************]  1 of 1 completed\n"
     ]
    },
    {
     "name": "stdout",
     "output_type": "stream",
     "text": [
      "Fetching exchange rates for: SEKEUR=X\n"
     ]
    },
    {
     "name": "stderr",
     "output_type": "stream",
     "text": [
      "[*********************100%***********************]  1 of 1 completed\n"
     ]
    },
    {
     "name": "stdout",
     "output_type": "stream",
     "text": [
      "Fetching exchange rates for: HUFEUR=X\n"
     ]
    },
    {
     "name": "stderr",
     "output_type": "stream",
     "text": [
      "[*********************100%***********************]  1 of 1 completed\n"
     ]
    },
    {
     "name": "stdout",
     "output_type": "stream",
     "text": [
      "Fetching exchange rates for: CHFEUR=X\n"
     ]
    },
    {
     "name": "stderr",
     "output_type": "stream",
     "text": [
      "[*********************100%***********************]  1 of 1 completed\n"
     ]
    },
    {
     "name": "stdout",
     "output_type": "stream",
     "text": [
      "Fetching exchange rates for: DKKEUR=X\n"
     ]
    },
    {
     "name": "stderr",
     "output_type": "stream",
     "text": [
      "[*********************100%***********************]  1 of 1 completed\n",
      "[*********************100%***********************]  1 of 1 completed"
     ]
    },
    {
     "name": "stdout",
     "output_type": "stream",
     "text": [
      "Fetching exchange rates for: NOKEUR=X\n"
     ]
    },
    {
     "name": "stderr",
     "output_type": "stream",
     "text": [
      "\n"
     ]
    }
   ],
   "source": [
    "# -- Convert multiple currency revenue to one --\n",
    "\"\"\"\n",
    "Converts the revenue column in the dataframe to the specified base currency using historical exchange rates.\n",
    "Rounds the converted revenue to 2 decimals.\n",
    "\"\"\"\n",
    "# Create date column for merging\n",
    "data_m2['date'] = data_m2['datetime'].dt.date\n",
    "\n",
    "# Get min and max dates from the data (with a small buffer)\n",
    "start_date = data_m2['datetime'].min() - pd.Timedelta(days=7)\n",
    "end_date = data_m2['datetime'].max() + pd.Timedelta(days=7)\n",
    "\n",
    "print(f\"Data date range: {data_m2['datetime'].min()} to {data_m2['datetime'].max()}\")\n",
    "print(f\"Fetching exchange rates from {start_date} to {end_date}\")\n",
    "\n",
    "# Get unique currencies in the dataframe\n",
    "unique_currencies = data_m2['currency'].unique()\n",
    "print(f\"Unique currencies found: {unique_currencies}\")\n",
    "\n",
    "# Dictionary to store exchange rate data for each currency pair\n",
    "exchange_rates_dict = {}\n",
    "\n",
    "# Fetch historical exchange rates for each currency to the base currency\n",
    "for currency in unique_currencies:\n",
    "    if currency == currency_to_choose:\n",
    "        # If the currency is the base currency, set rate = 1\n",
    "        exchange_rates_dict[currency] = pd.Series(1, index=pd.date_range(start=start_date, end=end_date, freq='D'))\n",
    " \n",
    "    else:\n",
    "        currency_pair = currency + currency_to_choose + '=X'\n",
    "        print(f\"Fetching exchange rates for: {currency_pair}\")\n",
    "\n",
    "        # Download historical exchange rates\n",
    "        rates_df = yf.download(\n",
    "            currency_pair, \n",
    "            start=start_date.strftime('%Y-%m-%d'), \n",
    "            end=end_date.strftime('%Y-%m-%d'), \n",
    "            interval='1d'\n",
    "        )['Close']\n",
    "        \n",
    "        # Convert index to date for merging\n",
    "        rates_df.index = rates_df.index.date\n",
    "        exchange_rates_dict[currency] = rates_df\n",
    "\n",
    "# Create a result dataframe\n",
    "data_m2['revenue_converted'] = data_m2['revenue']  # Initialize with original values\n",
    "\n",
    "# Ensure 'date' column in data_m2 is in datetime format\n",
    "data_m2['date'] = pd.to_datetime(data_m2['date'])\n",
    "\n",
    "# Loop through exchange rates and update the 'rate' column\n",
    "for currency, rates in exchange_rates_dict.items():\n",
    "    rates.index = pd.to_datetime(rates.index)\n",
    "    rates = rates.reindex(pd.date_range(start=rates.index.min(), end=rates.index.max(), freq='D')).ffill()\n",
    "    rate_mapping = rates.squeeze().to_dict()\n",
    "    \n",
    "    mask = data_m2['currency'] == currency\n",
    "    data_m2.loc[mask, 'rate'] = data_m2.loc[mask, 'date'].map(rate_mapping)\n",
    "\n",
    "# If the currency is the base currency, set the rate to 1\n",
    "mask_base_currency = data_m2['currency'] == currency_to_choose\n",
    "data_m2.loc[mask_base_currency, 'rate'] = 1\n",
    "\n",
    "data_m2['revenue_converted'] = data_m2['revenue'] * data_m2['rate']\n",
    "\n",
    "# Keep only usefull columns\n",
    "data_m2 = data_m2[['transaction_id', 'user_id', 'datetime', 'revenue_converted', 'discount', 'order_status']]\n"
   ]
  },
  {
   "cell_type": "code",
   "execution_count": null,
   "metadata": {},
   "outputs": [],
   "source": []
  },
  {
   "cell_type": "code",
   "execution_count": null,
   "metadata": {},
   "outputs": [
    {
     "name": "stderr",
     "output_type": "stream",
     "text": [
      "/var/folders/1g/1g1qpwbx00bbshb8d59s25l00000gn/T/ipykernel_56916/4290030980.py:10: SettingWithCopyWarning: \n",
      "A value is trying to be set on a copy of a slice from a DataFrame.\n",
      "Try using .loc[row_indexer,col_indexer] = value instead\n",
      "\n",
      "See the caveats in the documentation: https://pandas.pydata.org/pandas-docs/stable/user_guide/indexing.html#returning-a-view-versus-a-copy\n",
      "  data_m2_noCancel_noRefund['datetime'] = pd.to_datetime(data_m2_noCancel_noRefund['datetime'])\n"
     ]
    },
    {
     "data": {
      "application/vnd.plotly.v1+json": {
       "config": {
        "plotlyServerURL": "https://plot.ly"
       },
       "data": [
        {
         "line": {
          "color": "lightblue"
         },
         "mode": "lines",
         "name": "Revenue Over Time",
         "type": "scatter",
         "x": [
          "2010-11-01T00:00:00",
          "2010-12-01T00:00:00",
          "2011-01-01T00:00:00",
          "2011-02-01T00:00:00",
          "2011-03-01T00:00:00",
          "2011-04-01T00:00:00",
          "2011-05-01T00:00:00",
          "2011-06-01T00:00:00",
          "2011-07-01T00:00:00",
          "2011-08-01T00:00:00",
          "2011-09-01T00:00:00",
          "2011-10-01T00:00:00",
          "2011-11-01T00:00:00",
          "2011-12-01T00:00:00",
          "2012-01-01T00:00:00",
          "2012-02-01T00:00:00",
          "2012-03-01T00:00:00",
          "2012-04-01T00:00:00",
          "2012-05-01T00:00:00",
          "2012-06-01T00:00:00",
          "2012-07-01T00:00:00",
          "2012-08-01T00:00:00",
          "2012-09-01T00:00:00",
          "2012-10-01T00:00:00",
          "2012-11-01T00:00:00",
          "2012-12-01T00:00:00",
          "2013-01-01T00:00:00",
          "2013-02-01T00:00:00",
          "2013-03-01T00:00:00",
          "2013-04-01T00:00:00",
          "2013-05-01T00:00:00",
          "2013-06-01T00:00:00",
          "2013-07-01T00:00:00",
          "2013-08-01T00:00:00",
          "2013-09-01T00:00:00",
          "2013-10-01T00:00:00",
          "2013-11-01T00:00:00",
          "2013-12-01T00:00:00",
          "2014-01-01T00:00:00",
          "2014-02-01T00:00:00",
          "2014-03-01T00:00:00",
          "2014-04-01T00:00:00",
          "2014-05-01T00:00:00",
          "2014-06-01T00:00:00",
          "2014-07-01T00:00:00",
          "2014-08-01T00:00:00",
          "2014-09-01T00:00:00",
          "2014-10-01T00:00:00",
          "2014-11-01T00:00:00",
          "2014-12-01T00:00:00",
          "2015-01-01T00:00:00",
          "2015-02-01T00:00:00",
          "2015-03-01T00:00:00",
          "2015-04-01T00:00:00",
          "2015-05-01T00:00:00",
          "2015-06-01T00:00:00",
          "2015-07-01T00:00:00",
          "2015-08-01T00:00:00",
          "2015-09-01T00:00:00",
          "2015-10-01T00:00:00",
          "2015-11-01T00:00:00",
          "2015-12-01T00:00:00",
          "2016-01-01T00:00:00",
          "2016-02-01T00:00:00",
          "2016-03-01T00:00:00",
          "2016-04-01T00:00:00",
          "2016-05-01T00:00:00",
          "2016-06-01T00:00:00",
          "2016-07-01T00:00:00",
          "2016-08-01T00:00:00",
          "2016-09-01T00:00:00",
          "2016-10-01T00:00:00",
          "2016-11-01T00:00:00",
          "2016-12-01T00:00:00",
          "2017-01-01T00:00:00",
          "2017-02-01T00:00:00",
          "2017-03-01T00:00:00",
          "2017-04-01T00:00:00",
          "2017-05-01T00:00:00",
          "2017-06-01T00:00:00",
          "2017-07-01T00:00:00",
          "2017-08-01T00:00:00",
          "2017-09-01T00:00:00",
          "2017-10-01T00:00:00",
          "2017-11-01T00:00:00",
          "2017-12-01T00:00:00",
          "2018-01-01T00:00:00",
          "2018-02-01T00:00:00",
          "2018-03-01T00:00:00",
          "2018-04-01T00:00:00",
          "2018-05-01T00:00:00",
          "2018-06-01T00:00:00",
          "2018-07-01T00:00:00",
          "2018-08-01T00:00:00",
          "2018-09-01T00:00:00",
          "2018-10-01T00:00:00",
          "2018-11-01T00:00:00",
          "2018-12-01T00:00:00",
          "2019-01-01T00:00:00",
          "2019-02-01T00:00:00",
          "2019-03-01T00:00:00",
          "2019-04-01T00:00:00",
          "2019-05-01T00:00:00",
          "2019-06-01T00:00:00",
          "2019-07-01T00:00:00",
          "2019-08-01T00:00:00",
          "2019-09-01T00:00:00",
          "2019-10-01T00:00:00",
          "2019-11-01T00:00:00",
          "2019-12-01T00:00:00",
          "2020-01-01T00:00:00",
          "2020-02-01T00:00:00",
          "2020-03-01T00:00:00",
          "2020-04-01T00:00:00",
          "2020-05-01T00:00:00",
          "2020-06-01T00:00:00",
          "2020-07-01T00:00:00",
          "2020-08-01T00:00:00",
          "2020-09-01T00:00:00",
          "2020-10-01T00:00:00",
          "2020-11-01T00:00:00",
          "2020-12-01T00:00:00",
          "2021-01-01T00:00:00",
          "2021-02-01T00:00:00",
          "2021-03-01T00:00:00",
          "2021-04-01T00:00:00",
          "2021-05-01T00:00:00",
          "2021-06-01T00:00:00",
          "2021-07-01T00:00:00",
          "2021-08-01T00:00:00",
          "2021-09-01T00:00:00",
          "2021-10-01T00:00:00",
          "2021-11-01T00:00:00",
          "2021-12-01T00:00:00",
          "2022-01-01T00:00:00",
          "2022-02-01T00:00:00",
          "2022-03-01T00:00:00",
          "2022-04-01T00:00:00",
          "2022-05-01T00:00:00",
          "2022-06-01T00:00:00",
          "2022-07-01T00:00:00",
          "2022-08-01T00:00:00",
          "2022-09-01T00:00:00",
          "2022-10-01T00:00:00",
          "2022-11-01T00:00:00",
          "2022-12-01T00:00:00",
          "2023-01-01T00:00:00",
          "2023-02-01T00:00:00",
          "2023-03-01T00:00:00",
          "2023-04-01T00:00:00",
          "2023-05-01T00:00:00",
          "2023-06-01T00:00:00",
          "2023-07-01T00:00:00",
          "2023-08-01T00:00:00",
          "2023-09-01T00:00:00",
          "2023-10-01T00:00:00",
          "2023-11-01T00:00:00",
          "2023-12-01T00:00:00",
          "2024-01-01T00:00:00",
          "2024-02-01T00:00:00",
          "2024-03-01T00:00:00",
          "2024-04-01T00:00:00",
          "2024-05-01T00:00:00",
          "2024-06-01T00:00:00",
          "2024-07-01T00:00:00",
          "2024-08-01T00:00:00",
          "2024-09-01T00:00:00",
          "2024-10-01T00:00:00",
          "2024-11-01T00:00:00",
          "2024-12-01T00:00:00",
          "2025-01-01T00:00:00"
         ],
         "y": [
          468.1456415891647,
          2113.525412738323,
          8837.964471232892,
          19942.497957921027,
          21047.60303275585,
          28374.628680503367,
          27046.905473327635,
          45371.31343352795,
          55633.00639430284,
          69117.75863980055,
          67105.19102907777,
          78233.67481313348,
          66500.26403047443,
          84144.78880038857,
          81388.70902980566,
          80298.03559758067,
          161920.21492581963,
          196119.30634012818,
          218152.1643254459,
          223277.64972575306,
          313959.8529383123,
          317576.058538723,
          343821.9128419518,
          340087.6214682221,
          317980.1704595685,
          387743.7303070426,
          299705.43140687945,
          425635.13984211086,
          429197.3414952952,
          491634.66176151036,
          562237.461819458,
          625152.5050490439,
          564868.8511292279,
          668251.9098632574,
          647517.535404992,
          697001.1821819305,
          728511.9371207536,
          661516.5994666636,
          629898.666050601,
          727489.9426223754,
          738977.80982548,
          844288.2583747506,
          1155966.1087838947,
          847897.4610698223,
          1058901.1669948995,
          1117086.8818119168,
          988293.7375633419,
          1024036.2461892844,
          1095795.4817359806,
          812588.3908593416,
          850864.5844011426,
          858196.2161491036,
          925545.6026411771,
          872871.6819638967,
          902335.4990912497,
          790754.4284958839,
          952685.0561220438,
          1415142.1172465323,
          1057827.2732004165,
          1296365.9812217772,
          1511605.6264085234,
          1078902.7983828164,
          1201218.9995363741,
          1134361.0905715174,
          1078231.7182303315,
          1456526.8456002707,
          1149466.9575495666,
          1185899.6391552086,
          1488999.6910633207,
          1178338.0889804298,
          1085636.5195091336,
          1054133.5948713631,
          1708908.1059675037,
          1281155.4664883881,
          1017666.0600918835,
          1281809.4600848793,
          1286452.105876891,
          1387563.6658037603,
          1315558.1410499127,
          1280766.4022492052,
          1404238.1924304813,
          1290326.9537372857,
          1224683.110711288,
          1076859.707739526,
          2343393.8871216,
          1324511.0991583103,
          770905.003451538,
          864047.5619286943,
          995466.2208313447,
          1561245.657069761,
          1029991.634327358,
          1074027.3279373765,
          1126479.5184466809,
          1599792.911045453,
          1187117.43043935,
          1235838.7170546115,
          2650709.646258411,
          1319688.956622228,
          938170.1037659318,
          1006974.9827515156,
          1281220.8315606534,
          1795278.4824564368,
          1228569.7535647838,
          1339146.1514958502,
          1784765.3426968665,
          1262607.2860553802,
          1494941.5089289546,
          1350713.1547114153,
          2261837.6585685955,
          1791494.9059623587,
          982520.0401579076,
          1109111.458380857,
          947675.6977841461,
          1360867.0766807676,
          2406711.272319791,
          1483485.0540747535,
          1592572.322719564,
          1989935.374936033,
          1328348.6272482008,
          1330655.4348717963,
          2337737.729820999,
          1624787.2820710593,
          852009.808144877,
          803316.2797614521,
          864273.2953548896,
          1638683.4416080343,
          1079773.9168823033,
          1248748.4081466408,
          1344718.524308846,
          892886.2757622475,
          1074881.0005450433,
          930828.1232961238,
          2022917.8590076172,
          979045.7351146413,
          878123.511702019,
          1226007.0420014,
          967947.9199822551,
          1603870.0545213544,
          1182447.7031754982,
          1698755.942503662,
          1591999.2449598091,
          1421760.6479463112,
          1548044.5346488892,
          1610773.9062424325,
          2299178.3074106835,
          916920.9540875984,
          925261.2111890763,
          1398726.996978767,
          903303.390767414,
          1791684.2675662297,
          1216208.252641182,
          1616999.189130417,
          1527871.336579932,
          1141065.733581894,
          1245392.9043332625,
          1209429.2616560329,
          2286335.5277830474,
          895816.4047572112,
          841941.5536090309,
          1285727.0499427938,
          902521.4088405722,
          1702508.3196768237,
          961010.0681283283,
          1511301.087748067,
          1578430.8013612088,
          1310773.2127053884,
          1539867.409116214,
          1368227.1408924998,
          1997552.7768591756,
          1077594.0273899487,
          696045.2318175136
         ]
        }
       ],
       "layout": {
        "height": 500,
        "template": {
         "data": {
          "bar": [
           {
            "error_x": {
             "color": "#2a3f5f"
            },
            "error_y": {
             "color": "#2a3f5f"
            },
            "marker": {
             "line": {
              "color": "white",
              "width": 0.5
             },
             "pattern": {
              "fillmode": "overlay",
              "size": 10,
              "solidity": 0.2
             }
            },
            "type": "bar"
           }
          ],
          "barpolar": [
           {
            "marker": {
             "line": {
              "color": "white",
              "width": 0.5
             },
             "pattern": {
              "fillmode": "overlay",
              "size": 10,
              "solidity": 0.2
             }
            },
            "type": "barpolar"
           }
          ],
          "carpet": [
           {
            "aaxis": {
             "endlinecolor": "#2a3f5f",
             "gridcolor": "#C8D4E3",
             "linecolor": "#C8D4E3",
             "minorgridcolor": "#C8D4E3",
             "startlinecolor": "#2a3f5f"
            },
            "baxis": {
             "endlinecolor": "#2a3f5f",
             "gridcolor": "#C8D4E3",
             "linecolor": "#C8D4E3",
             "minorgridcolor": "#C8D4E3",
             "startlinecolor": "#2a3f5f"
            },
            "type": "carpet"
           }
          ],
          "choropleth": [
           {
            "colorbar": {
             "outlinewidth": 0,
             "ticks": ""
            },
            "type": "choropleth"
           }
          ],
          "contour": [
           {
            "colorbar": {
             "outlinewidth": 0,
             "ticks": ""
            },
            "colorscale": [
             [
              0,
              "#0d0887"
             ],
             [
              0.1111111111111111,
              "#46039f"
             ],
             [
              0.2222222222222222,
              "#7201a8"
             ],
             [
              0.3333333333333333,
              "#9c179e"
             ],
             [
              0.4444444444444444,
              "#bd3786"
             ],
             [
              0.5555555555555556,
              "#d8576b"
             ],
             [
              0.6666666666666666,
              "#ed7953"
             ],
             [
              0.7777777777777778,
              "#fb9f3a"
             ],
             [
              0.8888888888888888,
              "#fdca26"
             ],
             [
              1,
              "#f0f921"
             ]
            ],
            "type": "contour"
           }
          ],
          "contourcarpet": [
           {
            "colorbar": {
             "outlinewidth": 0,
             "ticks": ""
            },
            "type": "contourcarpet"
           }
          ],
          "heatmap": [
           {
            "colorbar": {
             "outlinewidth": 0,
             "ticks": ""
            },
            "colorscale": [
             [
              0,
              "#0d0887"
             ],
             [
              0.1111111111111111,
              "#46039f"
             ],
             [
              0.2222222222222222,
              "#7201a8"
             ],
             [
              0.3333333333333333,
              "#9c179e"
             ],
             [
              0.4444444444444444,
              "#bd3786"
             ],
             [
              0.5555555555555556,
              "#d8576b"
             ],
             [
              0.6666666666666666,
              "#ed7953"
             ],
             [
              0.7777777777777778,
              "#fb9f3a"
             ],
             [
              0.8888888888888888,
              "#fdca26"
             ],
             [
              1,
              "#f0f921"
             ]
            ],
            "type": "heatmap"
           }
          ],
          "heatmapgl": [
           {
            "colorbar": {
             "outlinewidth": 0,
             "ticks": ""
            },
            "colorscale": [
             [
              0,
              "#0d0887"
             ],
             [
              0.1111111111111111,
              "#46039f"
             ],
             [
              0.2222222222222222,
              "#7201a8"
             ],
             [
              0.3333333333333333,
              "#9c179e"
             ],
             [
              0.4444444444444444,
              "#bd3786"
             ],
             [
              0.5555555555555556,
              "#d8576b"
             ],
             [
              0.6666666666666666,
              "#ed7953"
             ],
             [
              0.7777777777777778,
              "#fb9f3a"
             ],
             [
              0.8888888888888888,
              "#fdca26"
             ],
             [
              1,
              "#f0f921"
             ]
            ],
            "type": "heatmapgl"
           }
          ],
          "histogram": [
           {
            "marker": {
             "pattern": {
              "fillmode": "overlay",
              "size": 10,
              "solidity": 0.2
             }
            },
            "type": "histogram"
           }
          ],
          "histogram2d": [
           {
            "colorbar": {
             "outlinewidth": 0,
             "ticks": ""
            },
            "colorscale": [
             [
              0,
              "#0d0887"
             ],
             [
              0.1111111111111111,
              "#46039f"
             ],
             [
              0.2222222222222222,
              "#7201a8"
             ],
             [
              0.3333333333333333,
              "#9c179e"
             ],
             [
              0.4444444444444444,
              "#bd3786"
             ],
             [
              0.5555555555555556,
              "#d8576b"
             ],
             [
              0.6666666666666666,
              "#ed7953"
             ],
             [
              0.7777777777777778,
              "#fb9f3a"
             ],
             [
              0.8888888888888888,
              "#fdca26"
             ],
             [
              1,
              "#f0f921"
             ]
            ],
            "type": "histogram2d"
           }
          ],
          "histogram2dcontour": [
           {
            "colorbar": {
             "outlinewidth": 0,
             "ticks": ""
            },
            "colorscale": [
             [
              0,
              "#0d0887"
             ],
             [
              0.1111111111111111,
              "#46039f"
             ],
             [
              0.2222222222222222,
              "#7201a8"
             ],
             [
              0.3333333333333333,
              "#9c179e"
             ],
             [
              0.4444444444444444,
              "#bd3786"
             ],
             [
              0.5555555555555556,
              "#d8576b"
             ],
             [
              0.6666666666666666,
              "#ed7953"
             ],
             [
              0.7777777777777778,
              "#fb9f3a"
             ],
             [
              0.8888888888888888,
              "#fdca26"
             ],
             [
              1,
              "#f0f921"
             ]
            ],
            "type": "histogram2dcontour"
           }
          ],
          "mesh3d": [
           {
            "colorbar": {
             "outlinewidth": 0,
             "ticks": ""
            },
            "type": "mesh3d"
           }
          ],
          "parcoords": [
           {
            "line": {
             "colorbar": {
              "outlinewidth": 0,
              "ticks": ""
             }
            },
            "type": "parcoords"
           }
          ],
          "pie": [
           {
            "automargin": true,
            "type": "pie"
           }
          ],
          "scatter": [
           {
            "fillpattern": {
             "fillmode": "overlay",
             "size": 10,
             "solidity": 0.2
            },
            "type": "scatter"
           }
          ],
          "scatter3d": [
           {
            "line": {
             "colorbar": {
              "outlinewidth": 0,
              "ticks": ""
             }
            },
            "marker": {
             "colorbar": {
              "outlinewidth": 0,
              "ticks": ""
             }
            },
            "type": "scatter3d"
           }
          ],
          "scattercarpet": [
           {
            "marker": {
             "colorbar": {
              "outlinewidth": 0,
              "ticks": ""
             }
            },
            "type": "scattercarpet"
           }
          ],
          "scattergeo": [
           {
            "marker": {
             "colorbar": {
              "outlinewidth": 0,
              "ticks": ""
             }
            },
            "type": "scattergeo"
           }
          ],
          "scattergl": [
           {
            "marker": {
             "colorbar": {
              "outlinewidth": 0,
              "ticks": ""
             }
            },
            "type": "scattergl"
           }
          ],
          "scattermapbox": [
           {
            "marker": {
             "colorbar": {
              "outlinewidth": 0,
              "ticks": ""
             }
            },
            "type": "scattermapbox"
           }
          ],
          "scatterpolar": [
           {
            "marker": {
             "colorbar": {
              "outlinewidth": 0,
              "ticks": ""
             }
            },
            "type": "scatterpolar"
           }
          ],
          "scatterpolargl": [
           {
            "marker": {
             "colorbar": {
              "outlinewidth": 0,
              "ticks": ""
             }
            },
            "type": "scatterpolargl"
           }
          ],
          "scatterternary": [
           {
            "marker": {
             "colorbar": {
              "outlinewidth": 0,
              "ticks": ""
             }
            },
            "type": "scatterternary"
           }
          ],
          "surface": [
           {
            "colorbar": {
             "outlinewidth": 0,
             "ticks": ""
            },
            "colorscale": [
             [
              0,
              "#0d0887"
             ],
             [
              0.1111111111111111,
              "#46039f"
             ],
             [
              0.2222222222222222,
              "#7201a8"
             ],
             [
              0.3333333333333333,
              "#9c179e"
             ],
             [
              0.4444444444444444,
              "#bd3786"
             ],
             [
              0.5555555555555556,
              "#d8576b"
             ],
             [
              0.6666666666666666,
              "#ed7953"
             ],
             [
              0.7777777777777778,
              "#fb9f3a"
             ],
             [
              0.8888888888888888,
              "#fdca26"
             ],
             [
              1,
              "#f0f921"
             ]
            ],
            "type": "surface"
           }
          ],
          "table": [
           {
            "cells": {
             "fill": {
              "color": "#EBF0F8"
             },
             "line": {
              "color": "white"
             }
            },
            "header": {
             "fill": {
              "color": "#C8D4E3"
             },
             "line": {
              "color": "white"
             }
            },
            "type": "table"
           }
          ]
         },
         "layout": {
          "annotationdefaults": {
           "arrowcolor": "#2a3f5f",
           "arrowhead": 0,
           "arrowwidth": 1
          },
          "autotypenumbers": "strict",
          "coloraxis": {
           "colorbar": {
            "outlinewidth": 0,
            "ticks": ""
           }
          },
          "colorscale": {
           "diverging": [
            [
             0,
             "#8e0152"
            ],
            [
             0.1,
             "#c51b7d"
            ],
            [
             0.2,
             "#de77ae"
            ],
            [
             0.3,
             "#f1b6da"
            ],
            [
             0.4,
             "#fde0ef"
            ],
            [
             0.5,
             "#f7f7f7"
            ],
            [
             0.6,
             "#e6f5d0"
            ],
            [
             0.7,
             "#b8e186"
            ],
            [
             0.8,
             "#7fbc41"
            ],
            [
             0.9,
             "#4d9221"
            ],
            [
             1,
             "#276419"
            ]
           ],
           "sequential": [
            [
             0,
             "#0d0887"
            ],
            [
             0.1111111111111111,
             "#46039f"
            ],
            [
             0.2222222222222222,
             "#7201a8"
            ],
            [
             0.3333333333333333,
             "#9c179e"
            ],
            [
             0.4444444444444444,
             "#bd3786"
            ],
            [
             0.5555555555555556,
             "#d8576b"
            ],
            [
             0.6666666666666666,
             "#ed7953"
            ],
            [
             0.7777777777777778,
             "#fb9f3a"
            ],
            [
             0.8888888888888888,
             "#fdca26"
            ],
            [
             1,
             "#f0f921"
            ]
           ],
           "sequentialminus": [
            [
             0,
             "#0d0887"
            ],
            [
             0.1111111111111111,
             "#46039f"
            ],
            [
             0.2222222222222222,
             "#7201a8"
            ],
            [
             0.3333333333333333,
             "#9c179e"
            ],
            [
             0.4444444444444444,
             "#bd3786"
            ],
            [
             0.5555555555555556,
             "#d8576b"
            ],
            [
             0.6666666666666666,
             "#ed7953"
            ],
            [
             0.7777777777777778,
             "#fb9f3a"
            ],
            [
             0.8888888888888888,
             "#fdca26"
            ],
            [
             1,
             "#f0f921"
            ]
           ]
          },
          "colorway": [
           "#636efa",
           "#EF553B",
           "#00cc96",
           "#ab63fa",
           "#FFA15A",
           "#19d3f3",
           "#FF6692",
           "#B6E880",
           "#FF97FF",
           "#FECB52"
          ],
          "font": {
           "color": "#2a3f5f"
          },
          "geo": {
           "bgcolor": "white",
           "lakecolor": "white",
           "landcolor": "white",
           "showlakes": true,
           "showland": true,
           "subunitcolor": "#C8D4E3"
          },
          "hoverlabel": {
           "align": "left"
          },
          "hovermode": "closest",
          "mapbox": {
           "style": "light"
          },
          "paper_bgcolor": "white",
          "plot_bgcolor": "white",
          "polar": {
           "angularaxis": {
            "gridcolor": "#EBF0F8",
            "linecolor": "#EBF0F8",
            "ticks": ""
           },
           "bgcolor": "white",
           "radialaxis": {
            "gridcolor": "#EBF0F8",
            "linecolor": "#EBF0F8",
            "ticks": ""
           }
          },
          "scene": {
           "xaxis": {
            "backgroundcolor": "white",
            "gridcolor": "#DFE8F3",
            "gridwidth": 2,
            "linecolor": "#EBF0F8",
            "showbackground": true,
            "ticks": "",
            "zerolinecolor": "#EBF0F8"
           },
           "yaxis": {
            "backgroundcolor": "white",
            "gridcolor": "#DFE8F3",
            "gridwidth": 2,
            "linecolor": "#EBF0F8",
            "showbackground": true,
            "ticks": "",
            "zerolinecolor": "#EBF0F8"
           },
           "zaxis": {
            "backgroundcolor": "white",
            "gridcolor": "#DFE8F3",
            "gridwidth": 2,
            "linecolor": "#EBF0F8",
            "showbackground": true,
            "ticks": "",
            "zerolinecolor": "#EBF0F8"
           }
          },
          "shapedefaults": {
           "line": {
            "color": "#2a3f5f"
           }
          },
          "ternary": {
           "aaxis": {
            "gridcolor": "#DFE8F3",
            "linecolor": "#A2B1C6",
            "ticks": ""
           },
           "baxis": {
            "gridcolor": "#DFE8F3",
            "linecolor": "#A2B1C6",
            "ticks": ""
           },
           "bgcolor": "white",
           "caxis": {
            "gridcolor": "#DFE8F3",
            "linecolor": "#A2B1C6",
            "ticks": ""
           }
          },
          "title": {
           "x": 0.05
          },
          "xaxis": {
           "automargin": true,
           "gridcolor": "#EBF0F8",
           "linecolor": "#EBF0F8",
           "ticks": "",
           "title": {
            "standoff": 15
           },
           "zerolinecolor": "#EBF0F8",
           "zerolinewidth": 2
          },
          "yaxis": {
           "automargin": true,
           "gridcolor": "#EBF0F8",
           "linecolor": "#EBF0F8",
           "ticks": "",
           "title": {
            "standoff": 15
           },
           "zerolinecolor": "#EBF0F8",
           "zerolinewidth": 2
          }
         }
        },
        "title": {
         "text": "Revenue Over Time (Grouped by Month)"
        },
        "width": 900,
        "xaxis": {
         "title": {
          "text": ""
         }
        },
        "yaxis": {
         "title": {
          "text": "Total Revenue ($)"
         }
        }
       }
      }
     },
     "metadata": {},
     "output_type": "display_data"
    }
   ],
   "source": [
    "# -- 1.1 REVENUE TIMELINE CHART (Grouped by Month) --\n",
    "\n",
    "# Remove canceled/refunded, keep only revenue > 0\n",
    "data_m2_noCancel_noRefund = data_m2[\n",
    "    ~data_m2['order_status'].str.contains(\"|\".join(order_status_keyWords_Refund_Cancel), case=False, na=False) & \n",
    "    (data_m2['revenue_converted'] > 0)\n",
    "].copy()\n",
    "\n",
    "# Ensure the datetime column is in the correct format\n",
    "data_m2_noCancel_noRefund['datetime'] = pd.to_datetime(data_m2_noCancel_noRefund['datetime'])\n",
    "\n",
    "# Group the data by month and sum the revenue\n",
    "# Use the 'datetime' column and extract the month and year to group by\n",
    "revenue_timeline = data_m2_noCancel_noRefund.groupby(data_m2_noCancel_noRefund['datetime'].dt.to_period('M')).agg({'revenue_converted': 'sum'}).reset_index()\n",
    "\n",
    "# Convert period to a regular datetime for better plotting\n",
    "revenue_timeline['datetime'] = revenue_timeline['datetime'].dt.to_timestamp()\n",
    "\n",
    "# AFTER you've created revenue_timeline, remove the last row if it corresponds to the current (incomplete) month:\n",
    "current_month = pd.Timestamp.now().month\n",
    "current_year = pd.Timestamp.now().year\n",
    "\n",
    "# Check if the last row in revenue_timeline is from the current month/year, and drop if so\n",
    "if (revenue_timeline.iloc[-1]['datetime'].month == current_month and\n",
    "    revenue_timeline.iloc[-1]['datetime'].year == current_year):\n",
    "    revenue_timeline = revenue_timeline.iloc[:-1]\n",
    "    \n",
    "# Create the Plotly figure\n",
    "fig_revenue_timeline = go.Figure()\n",
    "\n",
    "# Add a trace for the revenue timeline\n",
    "fig_revenue_timeline.add_trace(go.Scatter(\n",
    "    x=revenue_timeline['datetime'],  \n",
    "    y=revenue_timeline['revenue_converted'],  \n",
    "    mode='lines',                 \n",
    "    name='Revenue Over Time',\n",
    "    line=dict(color='lightblue')  \n",
    "))\n",
    "\n",
    "# Customize the layout\n",
    "fig_revenue_timeline.update_layout(\n",
    "    title='Revenue Over Time (Grouped by Month)',\n",
    "    xaxis_title='',\n",
    "    yaxis_title='Total Revenue ($)',\n",
    "    template='plotly_white',\n",
    "    width=900,\n",
    "    height=500\n",
    ")\n",
    "\n",
    "fig_revenue_timeline.show()\n"
   ]
  },
  {
   "cell_type": "code",
   "execution_count": null,
   "metadata": {},
   "outputs": [
    {
     "data": {
      "application/vnd.plotly.v1+json": {
       "config": {
        "plotlyServerURL": "https://plot.ly"
       },
       "data": [
        {
         "marker": {
          "color": "lightblue"
         },
         "name": "Monthly Revenue",
         "showlegend": false,
         "type": "bar",
         "x": [
          "January",
          "February",
          "March",
          "April",
          "May",
          "June",
          "July",
          "August",
          "September",
          "October",
          "November",
          "December"
         ],
         "xaxis": "x",
         "y": [
          6.078304469327691,
          6.962564306621754,
          6.371417563190127,
          9.266820676243306,
          7.995148986758574,
          8.29207394826506,
          9.075523067332261,
          8.68147701497945,
          8.215584542152705,
          8.088034716767334,
          13.08726088463612,
          7.885789823725607
         ],
         "yaxis": "y"
        },
        {
         "line": {
          "color": "blue",
          "dash": "dash"
         },
         "mode": "lines",
         "name": "Monthly Average",
         "showlegend": false,
         "type": "scatter",
         "x": [
          "January",
          "February",
          "March",
          "April",
          "May",
          "June",
          "July",
          "August",
          "September",
          "October",
          "November",
          "December"
         ],
         "xaxis": "x",
         "y": [
          8.333333333333332,
          8.333333333333332,
          8.333333333333332,
          8.333333333333332,
          8.333333333333332,
          8.333333333333332,
          8.333333333333332,
          8.333333333333332,
          8.333333333333332,
          8.333333333333332,
          8.333333333333332,
          8.333333333333332
         ],
         "yaxis": "y"
        },
        {
         "marker": {
          "color": "#75B7E5"
         },
         "name": "Weekday Revenue",
         "showlegend": false,
         "type": "bar",
         "x": [
          "Monday",
          "Tuesday",
          "Wednesday",
          "Thursday",
          "Friday",
          "Saturday",
          "Sunday"
         ],
         "xaxis": "x2",
         "y": [
          13.26178079316073,
          13.65962957775798,
          13.753516332981578,
          14.50984262952252,
          16.980082869589545,
          13.766353932863515,
          14.06879386412414
         ],
         "yaxis": "y2"
        },
        {
         "line": {
          "color": "blue",
          "dash": "dash"
         },
         "mode": "lines",
         "name": "Weekday Average",
         "showlegend": false,
         "type": "scatter",
         "x": [
          "Monday",
          "Tuesday",
          "Wednesday",
          "Thursday",
          "Friday",
          "Saturday",
          "Sunday"
         ],
         "xaxis": "x2",
         "y": [
          14.285714285714286,
          14.285714285714286,
          14.285714285714286,
          14.285714285714286,
          14.285714285714286,
          14.285714285714286,
          14.285714285714286
         ],
         "yaxis": "y2"
        }
       ],
       "layout": {
        "annotations": [
         {
          "font": {
           "size": 16
          },
          "showarrow": false,
          "text": "Monthly Revenue Percentage",
          "x": 0.225,
          "xanchor": "center",
          "xref": "paper",
          "y": 1,
          "yanchor": "bottom",
          "yref": "paper"
         },
         {
          "font": {
           "size": 16
          },
          "showarrow": false,
          "text": "Weekday Revenue Percentage",
          "x": 0.775,
          "xanchor": "center",
          "xref": "paper",
          "y": 1,
          "yanchor": "bottom",
          "yref": "paper"
         }
        ],
        "height": 500,
        "margin": {
         "t": 30
        },
        "showlegend": false,
        "template": {
         "data": {
          "bar": [
           {
            "error_x": {
             "color": "#2a3f5f"
            },
            "error_y": {
             "color": "#2a3f5f"
            },
            "marker": {
             "line": {
              "color": "white",
              "width": 0.5
             },
             "pattern": {
              "fillmode": "overlay",
              "size": 10,
              "solidity": 0.2
             }
            },
            "type": "bar"
           }
          ],
          "barpolar": [
           {
            "marker": {
             "line": {
              "color": "white",
              "width": 0.5
             },
             "pattern": {
              "fillmode": "overlay",
              "size": 10,
              "solidity": 0.2
             }
            },
            "type": "barpolar"
           }
          ],
          "carpet": [
           {
            "aaxis": {
             "endlinecolor": "#2a3f5f",
             "gridcolor": "#C8D4E3",
             "linecolor": "#C8D4E3",
             "minorgridcolor": "#C8D4E3",
             "startlinecolor": "#2a3f5f"
            },
            "baxis": {
             "endlinecolor": "#2a3f5f",
             "gridcolor": "#C8D4E3",
             "linecolor": "#C8D4E3",
             "minorgridcolor": "#C8D4E3",
             "startlinecolor": "#2a3f5f"
            },
            "type": "carpet"
           }
          ],
          "choropleth": [
           {
            "colorbar": {
             "outlinewidth": 0,
             "ticks": ""
            },
            "type": "choropleth"
           }
          ],
          "contour": [
           {
            "colorbar": {
             "outlinewidth": 0,
             "ticks": ""
            },
            "colorscale": [
             [
              0,
              "#0d0887"
             ],
             [
              0.1111111111111111,
              "#46039f"
             ],
             [
              0.2222222222222222,
              "#7201a8"
             ],
             [
              0.3333333333333333,
              "#9c179e"
             ],
             [
              0.4444444444444444,
              "#bd3786"
             ],
             [
              0.5555555555555556,
              "#d8576b"
             ],
             [
              0.6666666666666666,
              "#ed7953"
             ],
             [
              0.7777777777777778,
              "#fb9f3a"
             ],
             [
              0.8888888888888888,
              "#fdca26"
             ],
             [
              1,
              "#f0f921"
             ]
            ],
            "type": "contour"
           }
          ],
          "contourcarpet": [
           {
            "colorbar": {
             "outlinewidth": 0,
             "ticks": ""
            },
            "type": "contourcarpet"
           }
          ],
          "heatmap": [
           {
            "colorbar": {
             "outlinewidth": 0,
             "ticks": ""
            },
            "colorscale": [
             [
              0,
              "#0d0887"
             ],
             [
              0.1111111111111111,
              "#46039f"
             ],
             [
              0.2222222222222222,
              "#7201a8"
             ],
             [
              0.3333333333333333,
              "#9c179e"
             ],
             [
              0.4444444444444444,
              "#bd3786"
             ],
             [
              0.5555555555555556,
              "#d8576b"
             ],
             [
              0.6666666666666666,
              "#ed7953"
             ],
             [
              0.7777777777777778,
              "#fb9f3a"
             ],
             [
              0.8888888888888888,
              "#fdca26"
             ],
             [
              1,
              "#f0f921"
             ]
            ],
            "type": "heatmap"
           }
          ],
          "heatmapgl": [
           {
            "colorbar": {
             "outlinewidth": 0,
             "ticks": ""
            },
            "colorscale": [
             [
              0,
              "#0d0887"
             ],
             [
              0.1111111111111111,
              "#46039f"
             ],
             [
              0.2222222222222222,
              "#7201a8"
             ],
             [
              0.3333333333333333,
              "#9c179e"
             ],
             [
              0.4444444444444444,
              "#bd3786"
             ],
             [
              0.5555555555555556,
              "#d8576b"
             ],
             [
              0.6666666666666666,
              "#ed7953"
             ],
             [
              0.7777777777777778,
              "#fb9f3a"
             ],
             [
              0.8888888888888888,
              "#fdca26"
             ],
             [
              1,
              "#f0f921"
             ]
            ],
            "type": "heatmapgl"
           }
          ],
          "histogram": [
           {
            "marker": {
             "pattern": {
              "fillmode": "overlay",
              "size": 10,
              "solidity": 0.2
             }
            },
            "type": "histogram"
           }
          ],
          "histogram2d": [
           {
            "colorbar": {
             "outlinewidth": 0,
             "ticks": ""
            },
            "colorscale": [
             [
              0,
              "#0d0887"
             ],
             [
              0.1111111111111111,
              "#46039f"
             ],
             [
              0.2222222222222222,
              "#7201a8"
             ],
             [
              0.3333333333333333,
              "#9c179e"
             ],
             [
              0.4444444444444444,
              "#bd3786"
             ],
             [
              0.5555555555555556,
              "#d8576b"
             ],
             [
              0.6666666666666666,
              "#ed7953"
             ],
             [
              0.7777777777777778,
              "#fb9f3a"
             ],
             [
              0.8888888888888888,
              "#fdca26"
             ],
             [
              1,
              "#f0f921"
             ]
            ],
            "type": "histogram2d"
           }
          ],
          "histogram2dcontour": [
           {
            "colorbar": {
             "outlinewidth": 0,
             "ticks": ""
            },
            "colorscale": [
             [
              0,
              "#0d0887"
             ],
             [
              0.1111111111111111,
              "#46039f"
             ],
             [
              0.2222222222222222,
              "#7201a8"
             ],
             [
              0.3333333333333333,
              "#9c179e"
             ],
             [
              0.4444444444444444,
              "#bd3786"
             ],
             [
              0.5555555555555556,
              "#d8576b"
             ],
             [
              0.6666666666666666,
              "#ed7953"
             ],
             [
              0.7777777777777778,
              "#fb9f3a"
             ],
             [
              0.8888888888888888,
              "#fdca26"
             ],
             [
              1,
              "#f0f921"
             ]
            ],
            "type": "histogram2dcontour"
           }
          ],
          "mesh3d": [
           {
            "colorbar": {
             "outlinewidth": 0,
             "ticks": ""
            },
            "type": "mesh3d"
           }
          ],
          "parcoords": [
           {
            "line": {
             "colorbar": {
              "outlinewidth": 0,
              "ticks": ""
             }
            },
            "type": "parcoords"
           }
          ],
          "pie": [
           {
            "automargin": true,
            "type": "pie"
           }
          ],
          "scatter": [
           {
            "fillpattern": {
             "fillmode": "overlay",
             "size": 10,
             "solidity": 0.2
            },
            "type": "scatter"
           }
          ],
          "scatter3d": [
           {
            "line": {
             "colorbar": {
              "outlinewidth": 0,
              "ticks": ""
             }
            },
            "marker": {
             "colorbar": {
              "outlinewidth": 0,
              "ticks": ""
             }
            },
            "type": "scatter3d"
           }
          ],
          "scattercarpet": [
           {
            "marker": {
             "colorbar": {
              "outlinewidth": 0,
              "ticks": ""
             }
            },
            "type": "scattercarpet"
           }
          ],
          "scattergeo": [
           {
            "marker": {
             "colorbar": {
              "outlinewidth": 0,
              "ticks": ""
             }
            },
            "type": "scattergeo"
           }
          ],
          "scattergl": [
           {
            "marker": {
             "colorbar": {
              "outlinewidth": 0,
              "ticks": ""
             }
            },
            "type": "scattergl"
           }
          ],
          "scattermapbox": [
           {
            "marker": {
             "colorbar": {
              "outlinewidth": 0,
              "ticks": ""
             }
            },
            "type": "scattermapbox"
           }
          ],
          "scatterpolar": [
           {
            "marker": {
             "colorbar": {
              "outlinewidth": 0,
              "ticks": ""
             }
            },
            "type": "scatterpolar"
           }
          ],
          "scatterpolargl": [
           {
            "marker": {
             "colorbar": {
              "outlinewidth": 0,
              "ticks": ""
             }
            },
            "type": "scatterpolargl"
           }
          ],
          "scatterternary": [
           {
            "marker": {
             "colorbar": {
              "outlinewidth": 0,
              "ticks": ""
             }
            },
            "type": "scatterternary"
           }
          ],
          "surface": [
           {
            "colorbar": {
             "outlinewidth": 0,
             "ticks": ""
            },
            "colorscale": [
             [
              0,
              "#0d0887"
             ],
             [
              0.1111111111111111,
              "#46039f"
             ],
             [
              0.2222222222222222,
              "#7201a8"
             ],
             [
              0.3333333333333333,
              "#9c179e"
             ],
             [
              0.4444444444444444,
              "#bd3786"
             ],
             [
              0.5555555555555556,
              "#d8576b"
             ],
             [
              0.6666666666666666,
              "#ed7953"
             ],
             [
              0.7777777777777778,
              "#fb9f3a"
             ],
             [
              0.8888888888888888,
              "#fdca26"
             ],
             [
              1,
              "#f0f921"
             ]
            ],
            "type": "surface"
           }
          ],
          "table": [
           {
            "cells": {
             "fill": {
              "color": "#EBF0F8"
             },
             "line": {
              "color": "white"
             }
            },
            "header": {
             "fill": {
              "color": "#C8D4E3"
             },
             "line": {
              "color": "white"
             }
            },
            "type": "table"
           }
          ]
         },
         "layout": {
          "annotationdefaults": {
           "arrowcolor": "#2a3f5f",
           "arrowhead": 0,
           "arrowwidth": 1
          },
          "autotypenumbers": "strict",
          "coloraxis": {
           "colorbar": {
            "outlinewidth": 0,
            "ticks": ""
           }
          },
          "colorscale": {
           "diverging": [
            [
             0,
             "#8e0152"
            ],
            [
             0.1,
             "#c51b7d"
            ],
            [
             0.2,
             "#de77ae"
            ],
            [
             0.3,
             "#f1b6da"
            ],
            [
             0.4,
             "#fde0ef"
            ],
            [
             0.5,
             "#f7f7f7"
            ],
            [
             0.6,
             "#e6f5d0"
            ],
            [
             0.7,
             "#b8e186"
            ],
            [
             0.8,
             "#7fbc41"
            ],
            [
             0.9,
             "#4d9221"
            ],
            [
             1,
             "#276419"
            ]
           ],
           "sequential": [
            [
             0,
             "#0d0887"
            ],
            [
             0.1111111111111111,
             "#46039f"
            ],
            [
             0.2222222222222222,
             "#7201a8"
            ],
            [
             0.3333333333333333,
             "#9c179e"
            ],
            [
             0.4444444444444444,
             "#bd3786"
            ],
            [
             0.5555555555555556,
             "#d8576b"
            ],
            [
             0.6666666666666666,
             "#ed7953"
            ],
            [
             0.7777777777777778,
             "#fb9f3a"
            ],
            [
             0.8888888888888888,
             "#fdca26"
            ],
            [
             1,
             "#f0f921"
            ]
           ],
           "sequentialminus": [
            [
             0,
             "#0d0887"
            ],
            [
             0.1111111111111111,
             "#46039f"
            ],
            [
             0.2222222222222222,
             "#7201a8"
            ],
            [
             0.3333333333333333,
             "#9c179e"
            ],
            [
             0.4444444444444444,
             "#bd3786"
            ],
            [
             0.5555555555555556,
             "#d8576b"
            ],
            [
             0.6666666666666666,
             "#ed7953"
            ],
            [
             0.7777777777777778,
             "#fb9f3a"
            ],
            [
             0.8888888888888888,
             "#fdca26"
            ],
            [
             1,
             "#f0f921"
            ]
           ]
          },
          "colorway": [
           "#636efa",
           "#EF553B",
           "#00cc96",
           "#ab63fa",
           "#FFA15A",
           "#19d3f3",
           "#FF6692",
           "#B6E880",
           "#FF97FF",
           "#FECB52"
          ],
          "font": {
           "color": "#2a3f5f"
          },
          "geo": {
           "bgcolor": "white",
           "lakecolor": "white",
           "landcolor": "white",
           "showlakes": true,
           "showland": true,
           "subunitcolor": "#C8D4E3"
          },
          "hoverlabel": {
           "align": "left"
          },
          "hovermode": "closest",
          "mapbox": {
           "style": "light"
          },
          "paper_bgcolor": "white",
          "plot_bgcolor": "white",
          "polar": {
           "angularaxis": {
            "gridcolor": "#EBF0F8",
            "linecolor": "#EBF0F8",
            "ticks": ""
           },
           "bgcolor": "white",
           "radialaxis": {
            "gridcolor": "#EBF0F8",
            "linecolor": "#EBF0F8",
            "ticks": ""
           }
          },
          "scene": {
           "xaxis": {
            "backgroundcolor": "white",
            "gridcolor": "#DFE8F3",
            "gridwidth": 2,
            "linecolor": "#EBF0F8",
            "showbackground": true,
            "ticks": "",
            "zerolinecolor": "#EBF0F8"
           },
           "yaxis": {
            "backgroundcolor": "white",
            "gridcolor": "#DFE8F3",
            "gridwidth": 2,
            "linecolor": "#EBF0F8",
            "showbackground": true,
            "ticks": "",
            "zerolinecolor": "#EBF0F8"
           },
           "zaxis": {
            "backgroundcolor": "white",
            "gridcolor": "#DFE8F3",
            "gridwidth": 2,
            "linecolor": "#EBF0F8",
            "showbackground": true,
            "ticks": "",
            "zerolinecolor": "#EBF0F8"
           }
          },
          "shapedefaults": {
           "line": {
            "color": "#2a3f5f"
           }
          },
          "ternary": {
           "aaxis": {
            "gridcolor": "#DFE8F3",
            "linecolor": "#A2B1C6",
            "ticks": ""
           },
           "baxis": {
            "gridcolor": "#DFE8F3",
            "linecolor": "#A2B1C6",
            "ticks": ""
           },
           "bgcolor": "white",
           "caxis": {
            "gridcolor": "#DFE8F3",
            "linecolor": "#A2B1C6",
            "ticks": ""
           }
          },
          "title": {
           "x": 0.05
          },
          "xaxis": {
           "automargin": true,
           "gridcolor": "#EBF0F8",
           "linecolor": "#EBF0F8",
           "ticks": "",
           "title": {
            "standoff": 15
           },
           "zerolinecolor": "#EBF0F8",
           "zerolinewidth": 2
          },
          "yaxis": {
           "automargin": true,
           "gridcolor": "#EBF0F8",
           "linecolor": "#EBF0F8",
           "ticks": "",
           "title": {
            "standoff": 15
           },
           "zerolinecolor": "#EBF0F8",
           "zerolinewidth": 2
          }
         }
        },
        "width": 1200,
        "xaxis": {
         "anchor": "y",
         "domain": [
          0,
          0.45
         ],
         "tickangle": 45
        },
        "xaxis2": {
         "anchor": "y2",
         "domain": [
          0.55,
          1
         ],
         "tickangle": 45
        },
        "yaxis": {
         "anchor": "x",
         "domain": [
          0,
          1
         ],
         "title": {
          "text": "Revenue Percentage (%)"
         }
        },
        "yaxis2": {
         "anchor": "x2",
         "domain": [
          0,
          1
         ],
         "matches": "y",
         "showticklabels": false
        }
       }
      }
     },
     "metadata": {},
     "output_type": "display_data"
    }
   ],
   "source": [
    "# -- 1.2 REVENUE TIMELINE CHART (Grouped by Month) --\n",
    "\n",
    "import plotly.graph_objects as go\n",
    "from plotly.subplots import make_subplots\n",
    "# Remove canceled/refunded, keep only revenue > 0\n",
    "data_m2_noCancel_noRefund = data_m2[\n",
    "    ~data_m2['order_status'].str.contains(\"|\".join(order_status_keyWords_Refund_Cancel), case=False, na=False) & \n",
    "    (data_m2['revenue_converted'] > 0)\n",
    "].copy()\n",
    "\n",
    "# Ensure the datetime column is in the correct format\n",
    "data_m2_noCancel_noRefund.loc[:, 'datetime'] = pd.to_datetime(data_m2_noCancel_noRefund['datetime'])\n",
    "\n",
    "\n",
    "# -- MONTH Data Preparation --\n",
    "# Extract month and group by month, summing the revenue for each month\n",
    "data_m2_noCancel_noRefund.loc[:, 'month'] = data_m2_noCancel_noRefund['datetime'].dt.month\n",
    "\n",
    "# Group by month and sum the revenue\n",
    "revenue_by_month = data_m2_noCancel_noRefund.groupby('month').agg({'revenue_converted': 'sum'}).reset_index()\n",
    "\n",
    "# Calculate the total revenue\n",
    "total_revenue = revenue_by_month['revenue_converted'].sum()\n",
    "\n",
    "# Calculate the revenue percentage for each month\n",
    "revenue_by_month['revenue_percentage'] = (revenue_by_month['revenue_converted'] / total_revenue) * 100\n",
    "\n",
    "# Handle the monthly average revenue\n",
    "monthly_average = revenue_by_month['revenue_percentage'].mean()\n",
    "\n",
    "# Map month number to month name\n",
    "month_names = ['January', 'February', 'March', 'April', 'May', 'June', 'July', 'August', 'September', 'October', 'November', 'December']\n",
    "revenue_by_month['month_name'] = revenue_by_month['month'].apply(lambda x: month_names[x-1])\n",
    "\n",
    "\n",
    "\n",
    "# -- WEEK Data Preparation --\n",
    "# Extract the weekday (0 = Monday, 1 = Tuesday, ..., 6 = Sunday)\n",
    "data_m2_noCancel_noRefund.loc[:, 'weekday'] = data_m2_noCancel_noRefund['datetime'].dt.weekday\n",
    "\n",
    "# Group by weekday and sum the revenue for each weekday (now including Saturday and Sunday)\n",
    "revenue_by_weekday = data_m2_noCancel_noRefund.groupby('weekday').agg({'revenue_converted': 'sum'}).reset_index()\n",
    "\n",
    "# Calculate the total revenue\n",
    "total_revenue = revenue_by_weekday['revenue_converted'].sum()\n",
    "\n",
    "# Calculate the revenue percentage for each weekday\n",
    "revenue_by_weekday['revenue_percentage'] = (revenue_by_weekday['revenue_converted'] / total_revenue) * 100\n",
    "\n",
    "# Handle the weekday average revenue percentage\n",
    "weekday_average = revenue_by_weekday['revenue_percentage'].mean()\n",
    "\n",
    "# Map weekday number to weekday name (including Saturday and Sunday)\n",
    "weekday_names = ['Monday', 'Tuesday', 'Wednesday', 'Thursday', 'Friday', 'Saturday', 'Sunday']\n",
    "revenue_by_weekday['weekday_name'] = revenue_by_weekday['weekday'].apply(lambda x: weekday_names[x])\n",
    "\n",
    "\n",
    "\n",
    "\n",
    "\n",
    "# Create subplots with shared y-axis\n",
    "fig_revenue_distributin_month_and_weekday = make_subplots(\n",
    "    rows=1, cols=2,\n",
    "    subplot_titles=('Monthly Revenue Percentage', 'Weekday Revenue Percentage'),\n",
    "    shared_yaxes=True\n",
    ")\n",
    "\n",
    "# Add monthly revenue bars to the left subplot\n",
    "fig_revenue_distributin_month_and_weekday.add_trace(\n",
    "    go.Bar(\n",
    "        x=revenue_by_month['month_name'],\n",
    "        y=revenue_by_month['revenue_percentage'],\n",
    "        name='Monthly Revenue',\n",
    "        marker=dict(color='lightblue'),\n",
    "        showlegend=False  # Hide legend\n",
    "    ),\n",
    "    row=1, col=1\n",
    ")\n",
    "\n",
    "# Add monthly average line to the left subplot\n",
    "fig_revenue_distributin_month_and_weekday.add_trace(\n",
    "    go.Scatter(\n",
    "        x=revenue_by_month['month_name'],\n",
    "        y=[monthly_average] * len(revenue_by_month),\n",
    "        mode='lines',\n",
    "        name='Monthly Average',\n",
    "        line=dict(color='blue', dash='dash'),\n",
    "        showlegend=False  # Hide legend\n",
    "    ),\n",
    "    row=1, col=1\n",
    ")\n",
    "\n",
    "# Add weekday revenue bars to the right subplot\n",
    "fig_revenue_distributin_month_and_weekday.add_trace(\n",
    "    go.Bar(\n",
    "        x=revenue_by_weekday['weekday_name'],\n",
    "        y=revenue_by_weekday['revenue_percentage'],\n",
    "        name='Weekday Revenue',\n",
    "        marker=dict(color='#75B7E5'),\n",
    "        showlegend=False  # Hide legend\n",
    "    ),\n",
    "    row=1, col=2\n",
    ")\n",
    "\n",
    "# Add weekday average line to the right subplot\n",
    "fig_revenue_distributin_month_and_weekday.add_trace(\n",
    "    go.Scatter(\n",
    "        x=revenue_by_weekday['weekday_name'],\n",
    "        y=[weekday_average] * len(revenue_by_weekday),\n",
    "        mode='lines',\n",
    "        name='Weekday Average',\n",
    "        line=dict(color='blue', dash='dash'),\n",
    "        showlegend=False  # Hide legend\n",
    "    ),\n",
    "    row=1, col=2\n",
    ")\n",
    "\n",
    "# Update layout\n",
    "fig_revenue_distributin_month_and_weekday.update_layout(\n",
    "    showlegend=False,  # Hide legend\n",
    "    template='plotly_white',\n",
    "    width=1200,\n",
    "    height=500,\n",
    "    yaxis_title='Revenue Percentage (%)',\n",
    "    margin=dict(t=30)  # Reduce top margin since we removed the title\n",
    ")\n",
    "\n",
    "# Update x-axis properties for both subplots\n",
    "fig_revenue_distributin_month_and_weekday.update_xaxes(tickangle=45, row=1, col=1)\n",
    "fig_revenue_distributin_month_and_weekday.update_xaxes(tickangle=45, row=1, col=2)\n",
    "\n",
    "# Show the figure\n",
    "fig_revenue_distributin_month_and_weekday.show()"
   ]
  },
  {
   "cell_type": "code",
   "execution_count": null,
   "metadata": {},
   "outputs": [],
   "source": []
  },
  {
   "cell_type": "code",
   "execution_count": null,
   "metadata": {},
   "outputs": [
    {
     "data": {
      "application/vnd.plotly.v1+json": {
       "config": {
        "plotlyServerURL": "https://plot.ly"
       },
       "data": [
        {
         "marker": {
          "color": "blue"
         },
         "name": "% of Revenue by Client",
         "type": "bar",
         "x": [
          1,
          2,
          3,
          4,
          5,
          6,
          7,
          8,
          9,
          10,
          11,
          12,
          13,
          14,
          15,
          16,
          17,
          18,
          19,
          20,
          21,
          22,
          23,
          24,
          25,
          26,
          27,
          28,
          29,
          30,
          31,
          32,
          33,
          34,
          35,
          36,
          37,
          38,
          39,
          40,
          41,
          42,
          43,
          44,
          45,
          46,
          47,
          48,
          49,
          50,
          51,
          52,
          53,
          54,
          55,
          56,
          57,
          58,
          59,
          60,
          61,
          62,
          63,
          64,
          65,
          66,
          67,
          68,
          69,
          70,
          71,
          72,
          73,
          74,
          75,
          76,
          77,
          78,
          79,
          80,
          81,
          82,
          83,
          84,
          85,
          86,
          87,
          88,
          89,
          90,
          91,
          92,
          93,
          94,
          95,
          96,
          97,
          98,
          99,
          100,
          101,
          102,
          103,
          104,
          105,
          106,
          107,
          108,
          109,
          110,
          111,
          112,
          113,
          114,
          115,
          116,
          117,
          118,
          119,
          120,
          121,
          122,
          123,
          124,
          125,
          126,
          127,
          128,
          129,
          130,
          131,
          132,
          133,
          134,
          135,
          136,
          137,
          138,
          139,
          140,
          141,
          142,
          143,
          144,
          145,
          146,
          147,
          148,
          149,
          150,
          151,
          152,
          153,
          154,
          155,
          156,
          157,
          158,
          159,
          160,
          161,
          162,
          163,
          164,
          165,
          166,
          167,
          168,
          169,
          170,
          171,
          172,
          173,
          174,
          175,
          176,
          177,
          178,
          179,
          180,
          181,
          182,
          183,
          184,
          185,
          186,
          187,
          188,
          189,
          190,
          191,
          192,
          193,
          194,
          195,
          196,
          197,
          198,
          199,
          200,
          201,
          202,
          203,
          204,
          205,
          206,
          207,
          208,
          209,
          210,
          211,
          212,
          213,
          214,
          215,
          216,
          217,
          218,
          219,
          220,
          221,
          222,
          223,
          224,
          225,
          226,
          227,
          228,
          229,
          230,
          231,
          232,
          233,
          234,
          235,
          236,
          237,
          238,
          239,
          240,
          241,
          242,
          243,
          244,
          245,
          246,
          247,
          248,
          249,
          250,
          251,
          252,
          253,
          254,
          255,
          256,
          257,
          258,
          259,
          260,
          261,
          262,
          263,
          264,
          265,
          266,
          267,
          268,
          269,
          270,
          271,
          272,
          273,
          274,
          275,
          276,
          277,
          278,
          279,
          280,
          281,
          282,
          283,
          284,
          285,
          286,
          287,
          288,
          289,
          290,
          291,
          292,
          293,
          294,
          295,
          296,
          297,
          298,
          299,
          300,
          301,
          302,
          303,
          304,
          305,
          306,
          307,
          308,
          309,
          310,
          311,
          312,
          313,
          314,
          315,
          316,
          317,
          318,
          319,
          320,
          321,
          322,
          323,
          324,
          325,
          326,
          327,
          328,
          329,
          330,
          331,
          332,
          333,
          334,
          335,
          336,
          337,
          338,
          339,
          340,
          341,
          342,
          343,
          344,
          345,
          346,
          347,
          348,
          349,
          350,
          351,
          352,
          353,
          354,
          355,
          356,
          357,
          358,
          359,
          360,
          361,
          362,
          363,
          364,
          365,
          366,
          367,
          368,
          369,
          370,
          371,
          372,
          373,
          374,
          375,
          376,
          377,
          378,
          379,
          380,
          381,
          382,
          383,
          384,
          385,
          386,
          387,
          388,
          389,
          390,
          391,
          392,
          393,
          394,
          395,
          396,
          397,
          398,
          399,
          400,
          401,
          402,
          403,
          404,
          405,
          406,
          407,
          408,
          409,
          410,
          411,
          412,
          413,
          414,
          415,
          416,
          417,
          418,
          419,
          420,
          421,
          422,
          423,
          424,
          425,
          426,
          427,
          428,
          429,
          430,
          431,
          432,
          433,
          434,
          435,
          436,
          437,
          438,
          439,
          440,
          441,
          442,
          443,
          444,
          445,
          446,
          447,
          448,
          449,
          450,
          451,
          452,
          453,
          454,
          455,
          456,
          457,
          458,
          459,
          460,
          461,
          462,
          463,
          464,
          465,
          466,
          467,
          468,
          469,
          470,
          471,
          472,
          473,
          474,
          475,
          476,
          477,
          478,
          479,
          480,
          481,
          482,
          483,
          484,
          485,
          486,
          487,
          488,
          489,
          490,
          491,
          492,
          493,
          494,
          495,
          496,
          497,
          498,
          499,
          500,
          501,
          502,
          503,
          504,
          505,
          506,
          507,
          508,
          509,
          510,
          511,
          512,
          513,
          514,
          515,
          516,
          517,
          518,
          519,
          520,
          521,
          522,
          523,
          524,
          525,
          526,
          527,
          528,
          529,
          530,
          531,
          532,
          533,
          534,
          535,
          536,
          537,
          538,
          539,
          540,
          541,
          542,
          543,
          544,
          545,
          546,
          547,
          548,
          549,
          550,
          551,
          552,
          553,
          554,
          555,
          556,
          557,
          558,
          559,
          560,
          561,
          562,
          563,
          564,
          565,
          566,
          567,
          568,
          569,
          570,
          571,
          572,
          573,
          574,
          575,
          576,
          577,
          578,
          579,
          580,
          581,
          582,
          583,
          584,
          585,
          586,
          587,
          588,
          589,
          590,
          591,
          592,
          593,
          594,
          595,
          596,
          597,
          598,
          599,
          600,
          601,
          602,
          603,
          604,
          605,
          606,
          607,
          608,
          609,
          610,
          611,
          612,
          613,
          614,
          615,
          616,
          617,
          618,
          619,
          620,
          621,
          622,
          623,
          624,
          625,
          626,
          627,
          628,
          629,
          630,
          631,
          632,
          633,
          634,
          635,
          636,
          637,
          638,
          639,
          640,
          641,
          642,
          643,
          644,
          645,
          646,
          647,
          648,
          649,
          650,
          651,
          652,
          653,
          654,
          655,
          656,
          657,
          658,
          659,
          660,
          661,
          662,
          663,
          664,
          665,
          666,
          667,
          668,
          669,
          670,
          671,
          672,
          673,
          674,
          675,
          676,
          677,
          678,
          679,
          680,
          681,
          682,
          683,
          684,
          685,
          686,
          687,
          688,
          689,
          690,
          691,
          692,
          693,
          694,
          695,
          696,
          697,
          698,
          699,
          700,
          701,
          702,
          703,
          704,
          705,
          706,
          707,
          708,
          709,
          710,
          711,
          712,
          713,
          714,
          715,
          716,
          717,
          718,
          719,
          720,
          721,
          722,
          723,
          724,
          725,
          726,
          727,
          728,
          729,
          730,
          731,
          732,
          733,
          734,
          735,
          736,
          737,
          738,
          739,
          740,
          741,
          742,
          743,
          744,
          745,
          746,
          747,
          748,
          749,
          750,
          751,
          752,
          753,
          754,
          755,
          756,
          757,
          758,
          759,
          760,
          761,
          762,
          763,
          764,
          765,
          766,
          767,
          768,
          769,
          770,
          771,
          772,
          773,
          774,
          775,
          776,
          777,
          778,
          779,
          780,
          781,
          782,
          783,
          784,
          785,
          786,
          787,
          788,
          789,
          790,
          791,
          792,
          793,
          794,
          795,
          796,
          797,
          798,
          799,
          800,
          801,
          802,
          803,
          804,
          805,
          806,
          807,
          808,
          809,
          810,
          811,
          812,
          813,
          814,
          815,
          816,
          817,
          818,
          819,
          820,
          821,
          822,
          823,
          824,
          825,
          826,
          827,
          828,
          829,
          830,
          831,
          832,
          833,
          834,
          835,
          836,
          837,
          838,
          839,
          840,
          841,
          842,
          843,
          844,
          845,
          846,
          847,
          848,
          849,
          850,
          851,
          852,
          853,
          854,
          855,
          856,
          857,
          858,
          859,
          860,
          861,
          862,
          863,
          864,
          865,
          866,
          867,
          868,
          869,
          870,
          871,
          872,
          873,
          874,
          875,
          876,
          877,
          878,
          879,
          880,
          881,
          882,
          883,
          884,
          885,
          886,
          887,
          888,
          889,
          890,
          891,
          892,
          893,
          894,
          895,
          896,
          897,
          898,
          899,
          900,
          901,
          902,
          903,
          904,
          905,
          906,
          907,
          908,
          909,
          910,
          911,
          912,
          913,
          914,
          915,
          916,
          917,
          918,
          919,
          920,
          921,
          922,
          923,
          924,
          925,
          926,
          927,
          928,
          929,
          930,
          931,
          932,
          933,
          934,
          935,
          936,
          937,
          938,
          939,
          940,
          941,
          942,
          943,
          944,
          945,
          946,
          947,
          948,
          949,
          950,
          951,
          952,
          953,
          954,
          955,
          956,
          957,
          958,
          959,
          960,
          961,
          962,
          963,
          964,
          965,
          966,
          967,
          968,
          969,
          970,
          971,
          972,
          973,
          974,
          975,
          976,
          977,
          978,
          979,
          980,
          981,
          982,
          983,
          984,
          985,
          986,
          987,
          988,
          989,
          990,
          991,
          992,
          993,
          994,
          995,
          996,
          997,
          998,
          999,
          1000
         ],
         "y": [
          0.04414419485296377,
          0.03016669387571865,
          0.026570053696954407,
          0.020850706105561053,
          0.014102451756878902,
          0.013527058162416485,
          0.013106461279556163,
          0.01212888645453143,
          0.01193334268910785,
          0.010505800092760741,
          0.01027509057403324,
          0.009012161788915563,
          0.008688616112105777,
          0.008673495305258573,
          0.00831026800922342,
          0.006581698745886879,
          0.006551209071931833,
          0.006457940023902234,
          0.006208262548535586,
          0.006093227030271048,
          0.006078245274040641,
          0.00594636704941874,
          0.005926351015374758,
          0.005791099561742861,
          0.005666210977181136,
          0.005651415741982447,
          0.005633718467760503,
          0.005471802612876683,
          0.00515223215187711,
          0.005142480902909936,
          0.0051274991466795285,
          0.005062282814105387,
          0.005022793009328008,
          0.004997509564894806,
          0.00499558769080536,
          0.00495823022471512,
          0.004722410181543842,
          0.004718407782254379,
          0.004706830262772627,
          0.004500552802866783,
          0.004490323115710567,
          0.00444530030743072,
          0.004432190578411358,
          0.004405705270354497,
          0.004368469652189235,
          0.0042642896763319445,
          0.004221266281730167,
          0.004057508209100049,
          0.004002754182447993,
          0.004001153543797128,
          0.003956706743889911,
          0.003937349539444338,
          0.003909019896886653,
          0.003829286545410409,
          0.0037904978289203094,
          0.0037903566335829616,
          0.0037415343854605787,
          0.003691825970611074,
          0.003683008567603491,
          0.003678471552064108,
          0.0036780239238361472,
          0.003649980729737827,
          0.0036339426677038686,
          0.003627102568278894,
          0.0035461789304665143,
          0.0035411388572060072,
          0.0035242850737645538,
          0.0035141993887014954,
          0.0034904556589566674,
          0.0034600102933379792,
          0.00345472098568547,
          0.003380809142101443,
          0.003376431523290368,
          0.0033714405867876426,
          0.0033682643443706207,
          0.003354465709044095,
          0.003332601672146001,
          0.0033214359713842627,
          0.0033201621067140245,
          0.003315426653265966,
          0.0032999464282515516,
          0.0032773670877651317,
          0.0032535057532083102,
          0.0032235699334577164,
          0.0032211606676683536,
          0.003216009823566957,
          0.0032118282243233493,
          0.003194099351238863,
          0.0031867663215719272,
          0.00317610462813624,
          0.003175106520286093,
          0.0031614024993930094,
          0.0031495473190328,
          0.0031442196171541786,
          0.003113640230741126,
          0.0031116249216540186,
          0.00309233417971298,
          0.003091614169247193,
          0.003087870114825102,
          0.003061096802581926,
          0.003020598241117202,
          0.003017563862112053,
          0.002964975405399402,
          0.002948146206854865,
          0.0029434858622666912,
          0.0029206670690432976,
          0.002912802339340089,
          0.0029123038705560827,
          0.0029073896715795106,
          0.002904688375244877,
          0.002882561899777047,
          0.002881743990745249,
          0.0028706914337902267,
          0.0028628502286406256,
          0.0028590507887980895,
          0.0028488875641464076,
          0.0028420917730577907,
          0.0028418259230396535,
          0.0028396847858329893,
          0.0028320503963310886,
          0.00282332719261098,
          0.002815933238981555,
          0.0028141221357329996,
          0.0028021976547111626,
          0.0028008850202466133,
          0.002798126826308446,
          0.002786014034857096,
          0.002785886648390072,
          0.002779018856254876,
          0.0027690494805747523,
          0.00276512301601181,
          0.0027540400316341217,
          0.0027536800264012285,
          0.002744901437260675,
          0.0027367320877450182,
          0.002735884690812208,
          0.0027343006677874766,
          0.0027178346611627466,
          0.0027134202849055894,
          0.0027129717423740574,
          0.0026960404193439804,
          0.0026825374538394582,
          0.0026722806203500742,
          0.002666752609012596,
          0.0026658524207440796,
          0.002645899998215004,
          0.002645456914851443,
          0.002645069216908327,
          0.0026431307271927475,
          0.002628592054325901,
          0.002624798153025409,
          0.002622705304311385,
          0.002620572362486534,
          0.0026041393911993755,
          0.002598534386650328,
          0.0025958481937587395,
          0.002595428604924114,
          0.002595000796825929,
          0.0025892307453979422,
          0.0025707142899607394,
          0.002570182156313409,
          0.00256888657108605,
          0.002563652648853985,
          0.0025627110967064177,
          0.0025619412393622304,
          0.0025596261287876244,
          0.0025580587213890273,
          0.0025563694660654503,
          0.0025436806662414713,
          0.002522002812679247,
          0.002517810136351551,
          0.002517282948629566,
          0.0025112469640288025,
          0.0025013606664793463,
          0.0024915962168548704,
          0.002488882331253059,
          0.0024848063837222562,
          0.002461466548132719,
          0.002457565163473334,
          0.002451273671097315,
          0.0024312039544015,
          0.0024175106013679523,
          0.002411701555818937,
          0.002409047193578704,
          0.0024080750028236133,
          0.002406911908994265,
          0.0024040872525515635,
          0.002398726993359172,
          0.002396914840603919,
          0.002392844012201202,
          0.0023887134010395915,
          0.0023858994760681236,
          0.002380548507419571,
          0.0023710221565458206,
          0.0023709667711253758,
          0.00236335127581417,
          0.0023626354525504456,
          0.0023568118853421033,
          0.0023530772803215987,
          0.0023510557124753508,
          0.002349449535282442,
          0.0023490341446291037,
          0.0023454355707024496,
          0.002334772398864483,
          0.0023334729275499995,
          0.002333276992512464,
          0.0023294000130813053,
          0.002328735388035964,
          0.0023275999869168383,
          0.0023195697800380663,
          0.002314169022458894,
          0.0023115825233241062,
          0.0023082485480037875,
          0.0023007960277120505,
          0.002299690663614312,
          0.0022955098011949605,
          0.002295061052405324,
          0.002293582261679439,
          0.0022931890251942787,
          0.0022913502292355,
          0.002284731671492307,
          0.0022685314360121065,
          0.002266066784802298,
          0.0022639067534049383,
          0.002263075972098261,
          0.002262213381895323,
          0.0022592820707977696,
          0.002257451607351188,
          0.0022548235444519366,
          0.00225300933165825,
          0.002247152663720286,
          0.0022467926584873927,
          0.0022450203250331483,
          0.0022419907425348,
          0.0022374879078526106,
          0.0022374239992614888,
          0.0022366238952936665,
          0.0022308139646889727,
          0.002228244081180318,
          0.0022105706384389794,
          0.002210449041299484,
          0.0022041735774548646,
          0.002197416556160559,
          0.002197293229274072,
          0.0021949242122405277,
          0.0021948688268200824,
          0.002190382607764027,
          0.002181465555072361,
          0.002180640692588762,
          0.002179610143487449,
          0.00217945237534354,
          0.002178646437171704,
          0.0021779677185468846,
          0.002177145492277641,
          0.002173074663874924,
          0.00217024246372113,
          0.002169197684443765,
          0.0021679792051939716,
          0.002167009960336182,
          0.0021664007207112855,
          0.0021646088979704247,
          0.002164441017071491,
          0.0021643257392814684,
          0.0021641022257628127,
          0.0021628283610925746,
          0.0021627452829619067,
          0.0021627452829619067,
          0.002161072643264464,
          0.0021604910963497898,
          0.002159899337292982,
          0.00215651442316183,
          0.002156176572097114,
          0.0021544928553155823,
          0.002149985937693365,
          0.0021463788912203705,
          0.0021429909392467667,
          0.002140314187681629,
          0.002138630470900097,
          0.00213546796339268,
          0.0021311811318502267,
          0.002129680186956164,
          0.0021247905881552533,
          0.0021199323529578207,
          0.0021076957061256832,
          0.00210440964124398,
          0.0021041648549005934,
          0.0021041475081309585,
          0.0021008800277319156,
          0.002098858200478449,
          0.0020982766535637748,
          0.0020965269698138664,
          0.0020928211896499294,
          0.002089250851802473,
          0.0020868949496623008,
          0.00208667340798052,
          0.0020854826214409495,
          0.002085113415669484,
          0.0020846241474240497,
          0.0020806917825724456,
          0.0020800825429475494,
          0.0020782409740599875,
          0.0020751809332381554,
          0.0020718179256510355,
          0.002071719344460335,
          0.002071281799638818,
          0.0020647961669046934,
          0.0020632356699567564,
          0.0020631789126276954,
          0.0020555468016903566,
          0.0020538298536565574,
          0.0020511990461854136,
          0.002049249479385745,
          0.0020491220929187213,
          0.0020438106310980333,
          0.0020431681602208697,
          0.0020426143060164183,
          0.002041921988260854,
          0.00203906963910793,
          0.002038820899213518,
          0.002037297305653686,
          0.002035441894068774,
          0.0020320910761318436,
          0.0020318488041161814,
          0.00203178519170136,
          0.0020248632787637543,
          0.0020248355860535312,
          0.0020233235640753793,
          0.002023273717196979,
          0.0020227863254970615,
          0.0020216398472938475,
          0.0020183966443067325,
          0.0020147277468222954,
          0.0020111553872035844,
          0.002009938019929632,
          0.002007285327193183,
          0.0020035770372654705,
          0.0020032241949958416,
          0.0020030414231083727,
          0.002002709110585702,
          0.0020026260324550343,
          0.0020025429543243664,
          0.002002238334511918,
          0.0019987213603136524,
          0.0019956474694789476,
          0.0019952320788256092,
          0.0019947145152814805,
          0.001989748922201541,
          0.0019861488698726076,
          0.0019811364893223236,
          0.001979973395492976,
          0.0019722748220511025,
          0.00197028911348047,
          0.0019695399791394568,
          0.0019683820185814813,
          0.001967151670659928,
          0.0019668311090310954,
          0.0019662931966430283,
          0.0019649085611319,
          0.001963298373765298,
          0.0019627208370243177,
          0.001960579997208805,
          0.001957846920025146,
          0.0019561908959538367,
          0.001955043184256898,
          0.0019485975548108093,
          0.0019481267787370257,
          0.0019468934941484055,
          0.001946188289021446,
          0.0019430313200560737,
          0.0019428928565049608,
          0.001940649746976933,
          0.0019389881843635789,
          0.0019382127884773471,
          0.0019376866269831185,
          0.0019269141627065404,
          0.0019245048969171773,
          0.0019244439729546878,
          0.001920506069561039,
          0.0019186340423499935,
          0.001917969417304652,
          0.001917581719361536,
          0.0019095452948549477,
          0.001909190828164099,
          0.0019081145111715225,
          0.0019076627193096284,
          0.0019072966467848754,
          0.0019058984288244391,
          0.001903873827801366,
          0.0019036522861195857,
          0.0018999457969132104,
          0.0018997476139782038,
          0.0018975752809760988,
          0.0018963414106208285,
          0.0018959428272801056,
          0.0018947352334279198,
          0.0018946244625870296,
          0.0018941906762449767,
          0.0018930920237721803,
          0.001884904321298909,
          0.0018846606254489505,
          0.0018846550869069058,
          0.0018824452086311453,
          0.001880999649157527,
          0.0018785626906579413,
          0.001878468535443185,
          0.0018782580708454932,
          0.001877884969928746,
          0.001873561387191746,
          0.0018728856850623156,
          0.0018683163878755924,
          0.0018675963774098055,
          0.001867236372176912,
          0.0018671422169621555,
          0.0018662233551081863,
          0.001866140574159043,
          0.001865602502273781,
          0.0018649620169718844,
          0.0018648271063875488,
          0.001861443057198352,
          0.001860678738396209,
          0.001856103902667441,
          0.001856048517246996,
          0.0018527253920202881,
          0.0018518669180033883,
          0.0018513684492193821,
          0.0018486268709073485,
          0.0018470206937144396,
          0.0018441683445615154,
          0.0018412883026983685,
          0.00183990366718724,
          0.001838574417096557,
          0.0018357778782783789,
          0.0018351682137391816,
          0.001834752823085843,
          0.001832122015614699,
          0.0018300873878451542,
          0.0018298789060866715,
          0.0018298124435821375,
          0.0018276911819790891,
          0.001827109635064415,
          0.001827021018391703,
          0.0018265945506542756,
          0.001826168082916848,
          0.0018260019266555126,
          0.0018259831611731065,
          0.001825835770394177,
          0.0018242295932012682,
          0.0018229557285310304,
          0.0018227064941390275,
          0.0018212406538782736,
          0.0018165587124696178,
          0.0018165587124696178,
          0.0018160059823994308,
          0.0018160048582651664,
          0.0018154786967709377,
          0.0018140109831291417,
          0.0018133186653735776,
          0.0018130694309815745,
          0.0018122663423851201,
          0.0018103203909064897,
          0.0018096468896769235,
          0.0018089451299891327,
          0.0018087493681868544,
          0.0018061739461361556,
          0.0018055923992214818,
          0.0017988076852169534,
          0.0017958057954288273,
          0.0017938229973768916,
          0.001793601455695111,
          0.0017930752942008823,
          0.001792216820183983,
          0.0017894752418719487,
          0.0017873539802689001,
          0.0017840197779581035,
          0.0017829397622594234,
          0.0017822197517936367,
          0.001782192059083414,
          0.00178212559657888,
          0.0017813945090290042,
          0.0017812338913097137,
          0.001779697270026104,
          0.0017795612516122708,
          0.0017783504991349323,
          0.0017740227095677575,
          0.0017737989960045697,
          0.0017718580794487684,
          0.0017716965219090619,
          0.0017667672194894455,
          0.0017663518288361067,
          0.0017659048568302712,
          0.0017630304603745508,
          0.001762807880692504,
          0.0017615942212198701,
          0.0017603702034280325,
          0.0017589299224554037,
          0.0017587917189453466,
          0.0017576563178262213,
          0.0017570251754560153,
          0.0017523559330896224,
          0.0017522617778748654,
          0.0017516469997079247,
          0.0017466124649894621,
          0.001745414718692746,
          0.0017452776763567344,
          0.0017447293606943281,
          0.0017446961294420606,
          0.001743089952249152,
          0.0017395452853406635,
          0.0017389786027247544,
          0.001735889847591285,
          0.001734505212080157,
          0.001734283670398376,
          0.0017339845891279726,
          0.0017337907401564143,
          0.0017314313212454518,
          0.0017302773099403031,
          0.0017302128419956592,
          0.001729798012270529,
          0.0017287781060995261,
          0.001728185735607367,
          0.0017277038824494947,
          0.001724275524923941,
          0.001724092753036472,
          0.001722311595641592,
          0.0017207901536457572,
          0.001720271159025758,
          0.0017189142162248522,
          0.0017185542109919589,
          0.0017179449713670626,
          0.0017177788151057272,
          0.0017174188098728338,
          0.0017171349609980552,
          0.0017165326431457118,
          0.0017153331937076756,
          0.001714311687785862,
          0.0017124618147429948,
          0.001712229195977125,
          0.0017116587261465403,
          0.0017115202625954276,
          0.001710661788578528,
          0.001710091768408251,
          0.0017100802416638537,
          0.0017063443740456651,
          0.0017053683076353322,
          0.0017052165808336482,
          0.001703572454761551,
          0.001703267834949103,
          0.0017013293452335233,
          0.0016996400899099468,
          0.0016991416211259408,
          0.0016972086699524058,
          0.0016970646678592482,
          0.0016959292667401234,
          0.0016953477198254493,
          0.0016941015478654337,
          0.001692938454036086,
          0.0016915603616585078,
          0.0016884633120641196,
          0.0016878983807755792,
          0.0016869845213382346,
          0.001685489114986216,
          0.001685149554661024,
          0.001684492177418204,
          0.0016844353503975723,
          0.0016838275523728622,
          0.001683384469009301,
          0.0016811967449017185,
          0.0016810693584346948,
          0.0016798342635587682,
          0.001679756723970145,
          0.0016790810218407144,
          0.0016781967103748525,
          0.0016772809956762478,
          0.0016770965533309395,
          0.0016761125519892004,
          0.001675760903429534,
          0.001675580663268582,
          0.0016732766297780648,
          0.0016730167899291493,
          0.0016700919681024698,
          0.0016699535045513567,
          0.0016673503897904358,
          0.001667267311659768,
          0.0016671449998897625,
          0.0016662703740917557,
          0.0016656334417566366,
          0.0016643992219287156,
          0.0016635478995977544,
          0.0016632684843036294,
          0.0016631189436684276,
          0.0016612579935414713,
          0.0016612311708699705,
          0.0016590148840134437,
          0.0016579348683147634,
          0.0016575748630818703,
          0.0016569102380365284,
          0.0016561071494400742,
          0.0016560710774002952,
          0.0016554979098151778,
          0.0016553871389742873,
          0.001652479404400918,
          0.001651593237673796,
          0.0016512414779386632,
          0.0016496457448054497,
          0.0016490676625014983,
          0.0016478713374198835,
          0.0016473008675892983,
          0.0016472196718722463,
          0.0016443654403057065,
          0.0016432577318968038,
          0.0016432548081837571,
          0.0016423715651696818,
          0.0016422054089083465,
          0.0016407100025563278,
          0.001639796143118983,
          0.0016395909382645366,
          0.0016382247167003908,
          0.0016376361117216233,
          0.0016353930021935953,
          0.0016342852937846928,
          0.001633905555991066,
          0.0016335985145711734,
          0.0016325683457508939,
          0.001631654486313549,
          0.0016289572163378711,
          0.0016283590537970638,
          0.0016279713558539476,
          0.0016277221214619447,
          0.0016267805693143775,
          0.0016265967037854296,
          0.001626559027632597,
          0.0016259445158173396,
          0.0016257559390361425,
          0.0016254513192236943,
          0.0016253682410930267,
          0.0016251633150373799,
          0.0016247590014681302,
          0.001624565152496572,
          0.0016243159181045692,
          0.0016240909920893557,
          0.0016233246401359642,
          0.0016229423596775298,
          0.001622711500725827,
          0.0016202450897018523,
          0.0016200404885900693,
          0.0016180711538692205,
          0.001617060428026257,
          0.001616672730083141,
          0.001615481943543571,
          0.0016150942456004548,
          0.0016149557820493421,
          0.0016147065476573392,
          0.0016142357715835556,
          0.0016137926882199944,
          0.0016126849798110917,
          0.0016121865110270855,
          0.0016114941932715214,
          0.0016114388078510762,
          0.001611155377570067,
          0.0016109791088613817,
          0.0016101372504706158,
          0.0016101372504706158,
          0.00161013009672207,
          0.0016095280108457195,
          0.0016093895472946065,
          0.0016084289706700676,
          0.0016077835346860856,
          0.0016073679794483594,
          0.0016072572086074691,
          0.0016069248960847982,
          0.001606786432533685,
          0.0016046540938465478,
          0.0016040503543519238,
          0.001603923006296672,
          0.0016032694583354196,
          0.00160133096861984,
          0.001599503249745151,
          0.0015974816818989034,
          0.0015959308901264397,
          0.0015955764234355909,
          0.0015949339525584275,
          0.0015946800538923047,
          0.0015926686888622218,
          0.0015921369888259483,
          0.0015915000564908292,
          0.001591368216837817,
          0.001588398472945902,
          0.0015882881962196605,
          0.0015876507697698927,
          0.0015874015353778894,
          0.0015863778971732328,
          0.0015855461237929778,
          0.0015850753477191942,
          0.001583079380829176,
          0.0015805337432426936,
          0.0015802014307200226,
          0.0015782906337146656,
          0.0015777921649306596,
          0.0015769613836239824,
          0.0015765183002604216,
          0.0015762690658684183,
          0.0015757954375894944,
          0.0015751336647492932,
          0.0015742198053119486,
          0.0015735551802666067,
          0.0015733281000427817,
          0.0015724751645679268,
          0.001570758216534128,
          0.001570758216534128,
          0.0015680997163527615,
          0.0015680997163527615,
          0.0015672099996464736,
          0.00156590091516109,
          0.0015655076786759295,
          0.0015640288879500445,
          0.0015636301129228396,
          0.0015622842472060227,
          0.001562273170121934,
          0.00156214578365491,
          0.0015620121179324093,
          0.0015617303930015717,
          0.001561702700291349,
          0.0015614257731891236,
          0.0015611488460868974,
          0.001560622684592669,
          0.0015597365178655468,
          0.0015595656254243874,
          0.0015579641844113026,
          0.0015572164812352933,
          0.0015559883929649044,
          0.0015547990686020766,
          0.0015545856737641498,
          0.0015537825851676954,
          0.0015536691101909982,
          0.0015520545600498073,
          0.0015518440954521158,
          0.001551705631901003,
          0.0015505620070507661,
          0.001550199942927607,
          0.0015498225276058685,
          0.0015497394494752008,
          0.0015496598488056166,
          0.0015494348296627527,
          0.0015476901889187311,
          0.0015469099881508129,
          0.0015468704846961431,
          0.001546591479357133,
          0.0015462224752769349,
          0.0015459178554644867,
          0.0015458347773338191,
          0.0015453584627179908,
          0.0015427885792093372,
          0.0015427331937888915,
          0.0015423212625653277,
          0.001541830411435636,
          0.0015415700999595438,
          0.0015408833207460244,
          0.0015401300790279704,
          0.0015397977665052999,
          0.0015390223706190681,
          0.0015384962091248395,
          0.0015379323803646845,
          0.001537737428864741,
          0.0015368900319319306,
          0.0015368346465114853,
          0.0015358834721846256,
          0.0015355501322586319,
          0.0015353669328696895,
          0.0015353669328696895,
          0.0015337607556767806,
          0.0015337009383619492,
          0.0015336730071795767,
          0.001533483828574555,
          0.0015331506357331376,
          0.0015326253545576555,
          0.001529717619984286,
          0.0015290568197981868,
          0.0015289809938923656,
          0.0015277902073527953,
          0.001525314479058898,
          0.0015244560050419987,
          0.0015242621560704406,
          0.0015239298435477699,
          0.0015234036820535412,
          0.001522940812688963,
          0.0015221076632151252,
          0.0015219692569944637,
          0.0015212048808618695,
          0.0015210774943948456,
          0.0015207524192375327,
          0.0015200805568268334,
          0.0015200805568268334,
          0.0015196928588837172,
          0.0015196928588837172,
          0.00151894894369157,
          0.0015184707299642662,
          0.001518308223372589,
          0.001518308223372589,
          0.0015169235878614608,
          0.0015150847919026826,
          0.0015142650876800948,
          0.0015119942854418442,
          0.0015119001302270876,
          0.001511695888764982,
          0.0015116675114612182,
          0.0015114127385271706,
          0.0015107204207716063,
          0.0015105669545639488,
          0.0015101444123989769,
          0.0015101388738569322,
          0.0015097511759138164,
          0.0015097511759138164,
          0.0015095227874383009,
          0.0015088650091866944,
          0.0015079788424595725,
          0.0015070406439530932,
          0.001506926519471115,
          0.001506801639487436,
          0.0015067769788359132,
          0.0015064696385681182,
          0.001502567686882083,
          0.0015021295287966651,
          0.0015017756753697175,
          0.001500474117989257,
          0.0014998427241961826,
          0.0014996433366825802,
          0.0014982430806306068,
          0.0014980094667794487,
          0.0014973891500704632,
          0.0014966802166887657,
          0.00149644582811195,
          0.0014959072220466817,
          0.001495572508279863,
          0.0014955171228594178,
          0.0014945423394595835,
          0.001494409414450515,
          0.0014928155755422991,
          0.0014925263101553809,
          0.0014906708985704688,
          0.0014895219112627345,
          0.0014893139557695632,
          0.0014893139557695632,
          0.001488123169229993,
          0.0014873200806335386,
          0.0014868216118495323,
          0.0014866831482984195,
          0.0014863231430655261,
          0.0014859077524121877,
          0.0014855871571867545,
          0.0014854369763384041,
          0.0014850769711055106,
          0.0014848277367135077,
          0.001483045845061077,
          0.0014830277105490409,
          0.0014819200021401384,
          0.0014815227910870124,
          0.0014811999916743515,
          0.0014807292156005679,
          0.0014801919770222503,
          0.0014800368978450038,
          0.0014798430488734459,
          0.0014787907258849884,
          0.0014786311449884154,
          0.001478624569623653,
          0.0014771623945239016,
          0.0014765652860197372,
          0.0014759937621525094,
          0.001475633756919616,
          0.0014753457527333013,
          0.001475041132920853,
          0.001474470663090268,
          0.0014733075692609204,
          0.0014730044526891936,
          0.0014727592535985139,
          0.0014721444754315727,
          0.0014717290847782343,
          0.0014716474806882633,
          0.0014715352358066762,
          0.001470319901392805,
          0.0014696244388013194,
          0.001469015199176423,
          0.00146887673562531,
          0.0014686478573795623,
          0.0014679960555693526,
          0.0014678521053470752,
          0.0014676722030958094,
          0.0014671320948812883,
          0.0014658637687530948,
          0.001465839435512774,
          0.0014656089958190474,
          0.001465055141614596,
          0.0014640582040465837,
          0.0014635392215321887,
          0.0014635043498421325,
          0.0014629228029274584,
          0.0014616766309674429,
          0.0014595086646419782,
          0.0014594786281692553,
          0.0014569411775193844,
          0.0014567377991924718,
          0.001456156271497549,
          0.0014560827035024848,
          0.001455833469110482,
          0.0014550857659344724,
          0.0014550303805140274,
          0.0014540611356562375,
          0.0014539503648153475,
          0.0014538157894344334,
          0.0014537675929278784,
          0.0014536180522926765,
          0.0014523995730428836,
          0.0014520897191032368,
          0.0014514247896430493,
          0.001451214325045358,
          0.0014511257083726459,
          0.0014505014000567348,
          0.0014500421511723543,
          0.0014497410728615174,
          0.001449519531179737,
          0.0014491318332366207,
          0.0014483974158044323,
          0.0014483564373503892,
          0.0014472487289414865,
          0.0014468333382881482,
          0.001445386031966598,
          0.0014442025308170044,
          0.001443260978669437,
          0.0014428898963524547,
          0.0014424025046525376,
          0.0014421754244287124,
          0.001441339104579991,
          0.0014411840254027447,
          0.001440951406636875,
          0.0014408794055902965,
          0.0014405403487621742,
          0.0014404640149369582,
          0.0014396332336302812,
          0.0014381655199884851,
          0.0014379257434076168,
          0.0014376887321072458,
          0.0014369747334489148,
          0.001436371847998561,
          0.0014358393323297895,
          0.001430466946546612,
          0.0014303901405054449,
          0.001430273097575054,
          0.0014297469360808252,
          0.001429562270367147,
          0.0014289383089423264,
          0.0014286890745503233,
          0.001428113066177694,
          0.0014274484411323524,
          0.001427337670291462,
          0.0014264515035643398,
          0.0014263628868916277,
          0.0014261468837518916,
          0.0014254652107073206,
          0.0014252164742072316,
          0.0014250668680532116,
          0.0014245960919794282,
          0.001424157511913841,
          0.0014240588534011104,
          0.0014239037742238639,
          0.0014235839111633327,
          0.001421992977218507,
          0.0014218545136673942,
          0.0014217160501162813,
          0.0014213006594629427,
          0.001421023732360717,
          0.001420774497968714,
          0.0014207468052584913,
          0.001420044921599674,
          0.001419306784326918,
          0.0014176729144237867,
          0.0014164375035899397,
          0.0014163436643331037,
          0.001416260586202436,
          0.0014150967609100277,
          0.0014148759506913077,
          0.001414643331925438,
          0.001414409958107251,
          0.001414314269949301,
          0.0014134359297597343,
          0.0014125640958105102,
          0.0014123005286406092,
          0.0014115251327543772,
          0.0014100463420284922,
          0.0014097484449634842,
          0.0014081466221072243,
          0.0014078012341916996,
          0.0014067367154903467,
          0.0014060364375882647,
          0.0014060142834200866,
          0.0014054604292156353,
          0.0014053441198327006,
          0.0014044081062271779,
          0.0014038542520227266,
          0.0014032450123978302,
          0.0014029006544061164,
          0.0014028719745692068
         ]
        }
       ],
       "layout": {
        "bargap": 0,
        "height": 500,
        "template": {
         "data": {
          "bar": [
           {
            "error_x": {
             "color": "#2a3f5f"
            },
            "error_y": {
             "color": "#2a3f5f"
            },
            "marker": {
             "line": {
              "color": "white",
              "width": 0.5
             },
             "pattern": {
              "fillmode": "overlay",
              "size": 10,
              "solidity": 0.2
             }
            },
            "type": "bar"
           }
          ],
          "barpolar": [
           {
            "marker": {
             "line": {
              "color": "white",
              "width": 0.5
             },
             "pattern": {
              "fillmode": "overlay",
              "size": 10,
              "solidity": 0.2
             }
            },
            "type": "barpolar"
           }
          ],
          "carpet": [
           {
            "aaxis": {
             "endlinecolor": "#2a3f5f",
             "gridcolor": "#C8D4E3",
             "linecolor": "#C8D4E3",
             "minorgridcolor": "#C8D4E3",
             "startlinecolor": "#2a3f5f"
            },
            "baxis": {
             "endlinecolor": "#2a3f5f",
             "gridcolor": "#C8D4E3",
             "linecolor": "#C8D4E3",
             "minorgridcolor": "#C8D4E3",
             "startlinecolor": "#2a3f5f"
            },
            "type": "carpet"
           }
          ],
          "choropleth": [
           {
            "colorbar": {
             "outlinewidth": 0,
             "ticks": ""
            },
            "type": "choropleth"
           }
          ],
          "contour": [
           {
            "colorbar": {
             "outlinewidth": 0,
             "ticks": ""
            },
            "colorscale": [
             [
              0,
              "#0d0887"
             ],
             [
              0.1111111111111111,
              "#46039f"
             ],
             [
              0.2222222222222222,
              "#7201a8"
             ],
             [
              0.3333333333333333,
              "#9c179e"
             ],
             [
              0.4444444444444444,
              "#bd3786"
             ],
             [
              0.5555555555555556,
              "#d8576b"
             ],
             [
              0.6666666666666666,
              "#ed7953"
             ],
             [
              0.7777777777777778,
              "#fb9f3a"
             ],
             [
              0.8888888888888888,
              "#fdca26"
             ],
             [
              1,
              "#f0f921"
             ]
            ],
            "type": "contour"
           }
          ],
          "contourcarpet": [
           {
            "colorbar": {
             "outlinewidth": 0,
             "ticks": ""
            },
            "type": "contourcarpet"
           }
          ],
          "heatmap": [
           {
            "colorbar": {
             "outlinewidth": 0,
             "ticks": ""
            },
            "colorscale": [
             [
              0,
              "#0d0887"
             ],
             [
              0.1111111111111111,
              "#46039f"
             ],
             [
              0.2222222222222222,
              "#7201a8"
             ],
             [
              0.3333333333333333,
              "#9c179e"
             ],
             [
              0.4444444444444444,
              "#bd3786"
             ],
             [
              0.5555555555555556,
              "#d8576b"
             ],
             [
              0.6666666666666666,
              "#ed7953"
             ],
             [
              0.7777777777777778,
              "#fb9f3a"
             ],
             [
              0.8888888888888888,
              "#fdca26"
             ],
             [
              1,
              "#f0f921"
             ]
            ],
            "type": "heatmap"
           }
          ],
          "heatmapgl": [
           {
            "colorbar": {
             "outlinewidth": 0,
             "ticks": ""
            },
            "colorscale": [
             [
              0,
              "#0d0887"
             ],
             [
              0.1111111111111111,
              "#46039f"
             ],
             [
              0.2222222222222222,
              "#7201a8"
             ],
             [
              0.3333333333333333,
              "#9c179e"
             ],
             [
              0.4444444444444444,
              "#bd3786"
             ],
             [
              0.5555555555555556,
              "#d8576b"
             ],
             [
              0.6666666666666666,
              "#ed7953"
             ],
             [
              0.7777777777777778,
              "#fb9f3a"
             ],
             [
              0.8888888888888888,
              "#fdca26"
             ],
             [
              1,
              "#f0f921"
             ]
            ],
            "type": "heatmapgl"
           }
          ],
          "histogram": [
           {
            "marker": {
             "pattern": {
              "fillmode": "overlay",
              "size": 10,
              "solidity": 0.2
             }
            },
            "type": "histogram"
           }
          ],
          "histogram2d": [
           {
            "colorbar": {
             "outlinewidth": 0,
             "ticks": ""
            },
            "colorscale": [
             [
              0,
              "#0d0887"
             ],
             [
              0.1111111111111111,
              "#46039f"
             ],
             [
              0.2222222222222222,
              "#7201a8"
             ],
             [
              0.3333333333333333,
              "#9c179e"
             ],
             [
              0.4444444444444444,
              "#bd3786"
             ],
             [
              0.5555555555555556,
              "#d8576b"
             ],
             [
              0.6666666666666666,
              "#ed7953"
             ],
             [
              0.7777777777777778,
              "#fb9f3a"
             ],
             [
              0.8888888888888888,
              "#fdca26"
             ],
             [
              1,
              "#f0f921"
             ]
            ],
            "type": "histogram2d"
           }
          ],
          "histogram2dcontour": [
           {
            "colorbar": {
             "outlinewidth": 0,
             "ticks": ""
            },
            "colorscale": [
             [
              0,
              "#0d0887"
             ],
             [
              0.1111111111111111,
              "#46039f"
             ],
             [
              0.2222222222222222,
              "#7201a8"
             ],
             [
              0.3333333333333333,
              "#9c179e"
             ],
             [
              0.4444444444444444,
              "#bd3786"
             ],
             [
              0.5555555555555556,
              "#d8576b"
             ],
             [
              0.6666666666666666,
              "#ed7953"
             ],
             [
              0.7777777777777778,
              "#fb9f3a"
             ],
             [
              0.8888888888888888,
              "#fdca26"
             ],
             [
              1,
              "#f0f921"
             ]
            ],
            "type": "histogram2dcontour"
           }
          ],
          "mesh3d": [
           {
            "colorbar": {
             "outlinewidth": 0,
             "ticks": ""
            },
            "type": "mesh3d"
           }
          ],
          "parcoords": [
           {
            "line": {
             "colorbar": {
              "outlinewidth": 0,
              "ticks": ""
             }
            },
            "type": "parcoords"
           }
          ],
          "pie": [
           {
            "automargin": true,
            "type": "pie"
           }
          ],
          "scatter": [
           {
            "fillpattern": {
             "fillmode": "overlay",
             "size": 10,
             "solidity": 0.2
            },
            "type": "scatter"
           }
          ],
          "scatter3d": [
           {
            "line": {
             "colorbar": {
              "outlinewidth": 0,
              "ticks": ""
             }
            },
            "marker": {
             "colorbar": {
              "outlinewidth": 0,
              "ticks": ""
             }
            },
            "type": "scatter3d"
           }
          ],
          "scattercarpet": [
           {
            "marker": {
             "colorbar": {
              "outlinewidth": 0,
              "ticks": ""
             }
            },
            "type": "scattercarpet"
           }
          ],
          "scattergeo": [
           {
            "marker": {
             "colorbar": {
              "outlinewidth": 0,
              "ticks": ""
             }
            },
            "type": "scattergeo"
           }
          ],
          "scattergl": [
           {
            "marker": {
             "colorbar": {
              "outlinewidth": 0,
              "ticks": ""
             }
            },
            "type": "scattergl"
           }
          ],
          "scattermapbox": [
           {
            "marker": {
             "colorbar": {
              "outlinewidth": 0,
              "ticks": ""
             }
            },
            "type": "scattermapbox"
           }
          ],
          "scatterpolar": [
           {
            "marker": {
             "colorbar": {
              "outlinewidth": 0,
              "ticks": ""
             }
            },
            "type": "scatterpolar"
           }
          ],
          "scatterpolargl": [
           {
            "marker": {
             "colorbar": {
              "outlinewidth": 0,
              "ticks": ""
             }
            },
            "type": "scatterpolargl"
           }
          ],
          "scatterternary": [
           {
            "marker": {
             "colorbar": {
              "outlinewidth": 0,
              "ticks": ""
             }
            },
            "type": "scatterternary"
           }
          ],
          "surface": [
           {
            "colorbar": {
             "outlinewidth": 0,
             "ticks": ""
            },
            "colorscale": [
             [
              0,
              "#0d0887"
             ],
             [
              0.1111111111111111,
              "#46039f"
             ],
             [
              0.2222222222222222,
              "#7201a8"
             ],
             [
              0.3333333333333333,
              "#9c179e"
             ],
             [
              0.4444444444444444,
              "#bd3786"
             ],
             [
              0.5555555555555556,
              "#d8576b"
             ],
             [
              0.6666666666666666,
              "#ed7953"
             ],
             [
              0.7777777777777778,
              "#fb9f3a"
             ],
             [
              0.8888888888888888,
              "#fdca26"
             ],
             [
              1,
              "#f0f921"
             ]
            ],
            "type": "surface"
           }
          ],
          "table": [
           {
            "cells": {
             "fill": {
              "color": "#EBF0F8"
             },
             "line": {
              "color": "white"
             }
            },
            "header": {
             "fill": {
              "color": "#C8D4E3"
             },
             "line": {
              "color": "white"
             }
            },
            "type": "table"
           }
          ]
         },
         "layout": {
          "annotationdefaults": {
           "arrowcolor": "#2a3f5f",
           "arrowhead": 0,
           "arrowwidth": 1
          },
          "autotypenumbers": "strict",
          "coloraxis": {
           "colorbar": {
            "outlinewidth": 0,
            "ticks": ""
           }
          },
          "colorscale": {
           "diverging": [
            [
             0,
             "#8e0152"
            ],
            [
             0.1,
             "#c51b7d"
            ],
            [
             0.2,
             "#de77ae"
            ],
            [
             0.3,
             "#f1b6da"
            ],
            [
             0.4,
             "#fde0ef"
            ],
            [
             0.5,
             "#f7f7f7"
            ],
            [
             0.6,
             "#e6f5d0"
            ],
            [
             0.7,
             "#b8e186"
            ],
            [
             0.8,
             "#7fbc41"
            ],
            [
             0.9,
             "#4d9221"
            ],
            [
             1,
             "#276419"
            ]
           ],
           "sequential": [
            [
             0,
             "#0d0887"
            ],
            [
             0.1111111111111111,
             "#46039f"
            ],
            [
             0.2222222222222222,
             "#7201a8"
            ],
            [
             0.3333333333333333,
             "#9c179e"
            ],
            [
             0.4444444444444444,
             "#bd3786"
            ],
            [
             0.5555555555555556,
             "#d8576b"
            ],
            [
             0.6666666666666666,
             "#ed7953"
            ],
            [
             0.7777777777777778,
             "#fb9f3a"
            ],
            [
             0.8888888888888888,
             "#fdca26"
            ],
            [
             1,
             "#f0f921"
            ]
           ],
           "sequentialminus": [
            [
             0,
             "#0d0887"
            ],
            [
             0.1111111111111111,
             "#46039f"
            ],
            [
             0.2222222222222222,
             "#7201a8"
            ],
            [
             0.3333333333333333,
             "#9c179e"
            ],
            [
             0.4444444444444444,
             "#bd3786"
            ],
            [
             0.5555555555555556,
             "#d8576b"
            ],
            [
             0.6666666666666666,
             "#ed7953"
            ],
            [
             0.7777777777777778,
             "#fb9f3a"
            ],
            [
             0.8888888888888888,
             "#fdca26"
            ],
            [
             1,
             "#f0f921"
            ]
           ]
          },
          "colorway": [
           "#636efa",
           "#EF553B",
           "#00cc96",
           "#ab63fa",
           "#FFA15A",
           "#19d3f3",
           "#FF6692",
           "#B6E880",
           "#FF97FF",
           "#FECB52"
          ],
          "font": {
           "color": "#2a3f5f"
          },
          "geo": {
           "bgcolor": "white",
           "lakecolor": "white",
           "landcolor": "white",
           "showlakes": true,
           "showland": true,
           "subunitcolor": "#C8D4E3"
          },
          "hoverlabel": {
           "align": "left"
          },
          "hovermode": "closest",
          "mapbox": {
           "style": "light"
          },
          "paper_bgcolor": "white",
          "plot_bgcolor": "white",
          "polar": {
           "angularaxis": {
            "gridcolor": "#EBF0F8",
            "linecolor": "#EBF0F8",
            "ticks": ""
           },
           "bgcolor": "white",
           "radialaxis": {
            "gridcolor": "#EBF0F8",
            "linecolor": "#EBF0F8",
            "ticks": ""
           }
          },
          "scene": {
           "xaxis": {
            "backgroundcolor": "white",
            "gridcolor": "#DFE8F3",
            "gridwidth": 2,
            "linecolor": "#EBF0F8",
            "showbackground": true,
            "ticks": "",
            "zerolinecolor": "#EBF0F8"
           },
           "yaxis": {
            "backgroundcolor": "white",
            "gridcolor": "#DFE8F3",
            "gridwidth": 2,
            "linecolor": "#EBF0F8",
            "showbackground": true,
            "ticks": "",
            "zerolinecolor": "#EBF0F8"
           },
           "zaxis": {
            "backgroundcolor": "white",
            "gridcolor": "#DFE8F3",
            "gridwidth": 2,
            "linecolor": "#EBF0F8",
            "showbackground": true,
            "ticks": "",
            "zerolinecolor": "#EBF0F8"
           }
          },
          "shapedefaults": {
           "line": {
            "color": "#2a3f5f"
           }
          },
          "ternary": {
           "aaxis": {
            "gridcolor": "#DFE8F3",
            "linecolor": "#A2B1C6",
            "ticks": ""
           },
           "baxis": {
            "gridcolor": "#DFE8F3",
            "linecolor": "#A2B1C6",
            "ticks": ""
           },
           "bgcolor": "white",
           "caxis": {
            "gridcolor": "#DFE8F3",
            "linecolor": "#A2B1C6",
            "ticks": ""
           }
          },
          "title": {
           "x": 0.05
          },
          "xaxis": {
           "automargin": true,
           "gridcolor": "#EBF0F8",
           "linecolor": "#EBF0F8",
           "ticks": "",
           "title": {
            "standoff": 15
           },
           "zerolinecolor": "#EBF0F8",
           "zerolinewidth": 2
          },
          "yaxis": {
           "automargin": true,
           "gridcolor": "#EBF0F8",
           "linecolor": "#EBF0F8",
           "ticks": "",
           "title": {
            "standoff": 15
           },
           "zerolinecolor": "#EBF0F8",
           "zerolinewidth": 2
          }
         }
        },
        "title": {
         "text": "Revenue by Client"
        },
        "width": 900,
        "xaxis": {
         "title": {
          "text": "Clients Ordered by Revenue"
         }
        },
        "yaxis": {
         "tickformat": ".0f%",
         "title": {
          "text": "% of Revenue (Lifetime Value)"
         }
        }
       }
      }
     },
     "metadata": {},
     "output_type": "display_data"
    }
   ],
   "source": [
    "# -- 2. CLIENT REPARTITION CHART --\n",
    "\n",
    "# Remove canceled/refunded, keep only revenue > 0\n",
    "data_m2_noCancel_noRefund = data_m2[\n",
    "    ~data_m2['order_status'].str.contains(\"|\".join(order_status_keyWords_Refund_Cancel), case=False, na=False) & \n",
    "    (data_m2['revenue_converted'] > 0)\n",
    "].copy()\n",
    "\n",
    "# Group by customer and sum the revenue (Grand Total)\n",
    "client_revenue = data_m2_noCancel_noRefund.groupby('user_id')['revenue_converted'].sum()\n",
    "\n",
    "# Sort by revenue in descending order\n",
    "client_revenue = client_revenue.sort_values(ascending=False)\n",
    "\n",
    "# Calculate the percentage of revenue per client\n",
    "client_revenue_percentage = client_revenue / client_revenue.sum()\n",
    "\n",
    "# Limit the data to top 1000 clients\n",
    "client_revenue_percentage = client_revenue_percentage[:1000]\n",
    "\n",
    "# Create the Plotly figure\n",
    "fig_client_revenue = go.Figure()\n",
    "\n",
    "# Use a bar chart instead of a line chart\n",
    "fig_client_revenue.add_trace(go.Bar(\n",
    "    x=list(range(1, len(client_revenue_percentage) + 1)),  # x-axis: clients ordered by revenue\n",
    "    y=client_revenue_percentage * 100,  # y-axis: the percentage of revenue by each client\n",
    "    name='% of Revenue by Client',\n",
    "    marker=dict(color='blue')  # Set color to blue\n",
    "))\n",
    "\n",
    "# Customize the layout\n",
    "fig_client_revenue.update_layout(\n",
    "    title='Revenue by Client',\n",
    "    xaxis_title='Clients Ordered by Revenue',\n",
    "    yaxis_title='% of Revenue (Lifetime Value)',\n",
    "    yaxis=dict(tickformat='.0f%'),\n",
    "    template='plotly_white',\n",
    "    width=900,\n",
    "    height=500,\n",
    "    bargap=0\n",
    ")\n",
    "\n",
    "fig_client_revenue.show()\n"
   ]
  },
  {
   "cell_type": "code",
   "execution_count": null,
   "metadata": {},
   "outputs": [
    {
     "data": {
      "text/html": [
       "<div>\n",
       "<style scoped>\n",
       "    .dataframe tbody tr th:only-of-type {\n",
       "        vertical-align: middle;\n",
       "    }\n",
       "\n",
       "    .dataframe tbody tr th {\n",
       "        vertical-align: top;\n",
       "    }\n",
       "\n",
       "    .dataframe thead th {\n",
       "        text-align: right;\n",
       "    }\n",
       "</style>\n",
       "<table border=\"1\" class=\"dataframe\">\n",
       "  <thead>\n",
       "    <tr style=\"text-align: right;\">\n",
       "      <th></th>\n",
       "      <th>Clients</th>\n",
       "      <th>Number of Clients</th>\n",
       "      <th>% of Revenue</th>\n",
       "      <th>Revenue</th>\n",
       "    </tr>\n",
       "  </thead>\n",
       "  <tbody>\n",
       "    <tr>\n",
       "      <th>0</th>\n",
       "      <td>Top 100 Clients</td>\n",
       "      <td>100</td>\n",
       "      <td>0.6%</td>\n",
       "      <td>$1,069,896</td>\n",
       "    </tr>\n",
       "    <tr>\n",
       "      <th>1</th>\n",
       "      <td>Top 1%</td>\n",
       "      <td>17615</td>\n",
       "      <td>13.7%</td>\n",
       "      <td>$24,776,795</td>\n",
       "    </tr>\n",
       "    <tr>\n",
       "      <th>2</th>\n",
       "      <td>Top 10%</td>\n",
       "      <td>176150</td>\n",
       "      <td>49.7%</td>\n",
       "      <td>$89,735,891</td>\n",
       "    </tr>\n",
       "    <tr>\n",
       "      <th>3</th>\n",
       "      <td>Top 25%</td>\n",
       "      <td>440376</td>\n",
       "      <td>72.6%</td>\n",
       "      <td>$131,138,233</td>\n",
       "    </tr>\n",
       "    <tr>\n",
       "      <th>4</th>\n",
       "      <td>Top 50%</td>\n",
       "      <td>880753</td>\n",
       "      <td>89.1%</td>\n",
       "      <td>$160,820,746</td>\n",
       "    </tr>\n",
       "    <tr>\n",
       "      <th>5</th>\n",
       "      <td>Top 75%</td>\n",
       "      <td>1321129</td>\n",
       "      <td>96.6%</td>\n",
       "      <td>$174,331,532</td>\n",
       "    </tr>\n",
       "    <tr>\n",
       "      <th>6</th>\n",
       "      <td>All Clients</td>\n",
       "      <td>1761506</td>\n",
       "      <td>100%</td>\n",
       "      <td>$180,552,931</td>\n",
       "    </tr>\n",
       "  </tbody>\n",
       "</table>\n",
       "</div>"
      ],
      "text/plain": [
       "           Clients  Number of Clients % of Revenue       Revenue\n",
       "0  Top 100 Clients                100         0.6%    $1,069,896\n",
       "1           Top 1%              17615        13.7%   $24,776,795\n",
       "2          Top 10%             176150        49.7%   $89,735,891\n",
       "3          Top 25%             440376        72.6%  $131,138,233\n",
       "4          Top 50%             880753        89.1%  $160,820,746\n",
       "5          Top 75%            1321129        96.6%  $174,331,532\n",
       "6      All Clients            1761506         100%  $180,552,931"
      ]
     },
     "execution_count": 16,
     "metadata": {},
     "output_type": "execute_result"
    }
   ],
   "source": [
    "# -- 3. CLIENT REPARTITION --\n",
    "\n",
    "# Remove canceled/refunded, keep only revenue > 0\n",
    "data_m2_noCancel_noRefund = data_m2[\n",
    "    ~data_m2['order_status'].str.contains(\"|\".join(order_status_keyWords_Refund_Cancel), case=False, na=False) & \n",
    "    (data_m2['revenue_converted'] > 0)\n",
    "].copy()\n",
    "# Group and sort revenues by customer\n",
    "client_revenue = data_m2_noCancel_noRefund.groupby('user_id')['revenue_converted'].sum()\n",
    "client_revenue_sorted = client_revenue.sort_values(ascending=False)\n",
    "\n",
    "# Calculate total\n",
    "total_revenue = client_revenue_sorted.sum()\n",
    "total_clients = len(client_revenue_sorted)\n",
    "\n",
    "\n",
    "# Calculate the number of clients in each group\n",
    "top_100_clients_count = client_revenue_sorted.head(100).count()\n",
    "top_1_percent_count = int(len(client_revenue_sorted) * 0.01)\n",
    "top_10_percent_count = int(len(client_revenue_sorted) * 0.10)\n",
    "top_25_percent_count = int(len(client_revenue_sorted) * 0.25)\n",
    "top_50_percent_count = int(len(client_revenue_sorted) * 0.50)\n",
    "top_75_percent_count = int(len(client_revenue_sorted) * 0.75)\n",
    "\n",
    "\n",
    "\n",
    "# Calculate revenue for each group\n",
    "top_100_clients_revenue = client_revenue_sorted.head(100).sum()\n",
    "top_1_percent_revenue = client_revenue_sorted.head(top_1_percent_count).sum()\n",
    "top_10_percent_revenue = client_revenue_sorted.head(top_10_percent_count).sum()\n",
    "top_25_percent_revenue = client_revenue_sorted.head(top_25_percent_count).sum()\n",
    "top_50_percent_revenue = client_revenue_sorted.head(top_50_percent_count).sum()\n",
    "top_75_percent_revenue = client_revenue_sorted.head(top_75_percent_count).sum()\n",
    "\n",
    "# Create the table\n",
    "client_repartition_df = pd.DataFrame({\n",
    "    \"Clients\": [\"Top 100 Clients\", \"Top 1%\", \"Top 10%\", \"Top 25%\", \"Top 50%\", \"Top 75%\", \"All Clients\"],\n",
    "        \"Number of Clients\": [\n",
    "        top_100_clients_count, \n",
    "        top_1_percent_count, \n",
    "        top_10_percent_count, \n",
    "        top_25_percent_count, \n",
    "        top_50_percent_count, \n",
    "        top_75_percent_count, \n",
    "        total_clients\n",
    "    ],\n",
    "    \"% of Revenue\": [\n",
    "        f\"{round((top_100_clients_revenue / total_revenue) * 100, 1)}%\", \n",
    "        f\"{round((top_1_percent_revenue / total_revenue) * 100, 1)}%\", \n",
    "        f\"{round((top_10_percent_revenue / total_revenue) * 100, 1)}%\", \n",
    "        f\"{round((top_25_percent_revenue / total_revenue) * 100, 1)}%\", \n",
    "        f\"{round((top_50_percent_revenue / total_revenue) * 100, 1)}%\", \n",
    "        f\"{round((top_75_percent_revenue / total_revenue) * 100, 1)}%\", \n",
    "        \"100%\"\n",
    "    ],\n",
    "    \"Revenue\": [\n",
    "        f\"${top_100_clients_revenue:,.0f}\", \n",
    "        f\"${top_1_percent_revenue:,.0f}\", \n",
    "        f\"${top_10_percent_revenue:,.0f}\", \n",
    "        f\"${top_25_percent_revenue:,.0f}\", \n",
    "        f\"${top_50_percent_revenue:,.0f}\", \n",
    "        f\"${top_75_percent_revenue:,.0f}\", \n",
    "        f\"${total_revenue:,.0f}\"\n",
    "    ],\n",
    "\n",
    "})\n",
    "\n",
    "# Display the table\n",
    "client_repartition_df"
   ]
  },
  {
   "cell_type": "code",
   "execution_count": null,
   "metadata": {},
   "outputs": [
    {
     "data": {
      "application/vnd.plotly.v1+json": {
       "config": {
        "plotlyServerURL": "https://plot.ly"
       },
       "data": [
        {
         "marker": {
          "color": "lightblue"
         },
         "name": "Revenue by Client",
         "type": "bar",
         "x": [
          1,
          2,
          3,
          4,
          5,
          6,
          7,
          8,
          9,
          10,
          11,
          12,
          13,
          14,
          15,
          16,
          17,
          18,
          19,
          20,
          21,
          22,
          23,
          24,
          25,
          26,
          27,
          28,
          29,
          30,
          31,
          32,
          33,
          34,
          35,
          36,
          37,
          38,
          39,
          40,
          41,
          42,
          43,
          44,
          45,
          46,
          47,
          48,
          49,
          50,
          51,
          52,
          53,
          54,
          55,
          56,
          57,
          58,
          59,
          60,
          61,
          62,
          63,
          64,
          65,
          66,
          67,
          68,
          69,
          70,
          71,
          72,
          73,
          74,
          75,
          76,
          77,
          78,
          79,
          80,
          81,
          82,
          83,
          84,
          85,
          86,
          87,
          88,
          89,
          90,
          91,
          92,
          93,
          94,
          95,
          96,
          97,
          98,
          99,
          100
         ],
         "y": [
          79703.63770497442,
          54466.850000000006,
          47973.01073714316,
          37646.5610227108,
          25462.39,
          24423.5,
          23664.100000000002,
          21899.06,
          21546,
          18968.53,
          18551.977201676367,
          16271.72226279974,
          15687.551059964298,
          15660.25,
          15004.432470556498,
          11883.45,
          11828.4,
          11660,
          11209.2,
          11001.5,
          10974.45,
          10736.34,
          10700.200463849305,
          10456,
          10230.51,
          10203.796769189834,
          10171.84382186234,
          9879.5,
          9302.50616582632,
          9284.9,
          9257.85,
          9140.1,
          9068.8,
          9023.15,
          9019.68,
          8952.23,
          8526.45,
          8519.223550769686,
          8498.32,
          8125.88,
          8107.41,
          8026.12,
          8002.45,
          7954.63,
          7887.400000000001,
          7699.3,
          7621.62,
          7325.95,
          7227.09,
          7224.2,
          7143.95,
          7109,
          7057.85,
          6913.889096868038,
          6843.854932320118,
          6843.6,
          6755.45,
          6665.7,
          6649.779920425415,
          6641.588205885887,
          6640.78,
          6590.1471910893915,
          6561.1900000000005,
          6548.84,
          6402.7300000000005,
          6393.63,
          6363.2,
          6344.99,
          6302.12,
          6247.15,
          6237.6,
          6104.15,
          6096.246080925464,
          6087.234798781872,
          6081.5,
          6056.586159470081,
          6017.11,
          5996.95,
          5994.65,
          5986.1,
          5958.15,
          5917.382338935136,
          5874.3,
          5820.25,
          5815.9,
          5806.6,
          5799.05,
          5767.04,
          5753.8,
          5734.55,
          5732.7478870213035,
          5708.00487562418,
          5686.6,
          5676.980678099394,
          5621.768699626923,
          5618.13,
          5583.3,
          5582,
          5575.24,
          5526.9
         ]
        }
       ],
       "layout": {
        "height": 500,
        "template": {
         "data": {
          "bar": [
           {
            "error_x": {
             "color": "#2a3f5f"
            },
            "error_y": {
             "color": "#2a3f5f"
            },
            "marker": {
             "line": {
              "color": "white",
              "width": 0.5
             },
             "pattern": {
              "fillmode": "overlay",
              "size": 10,
              "solidity": 0.2
             }
            },
            "type": "bar"
           }
          ],
          "barpolar": [
           {
            "marker": {
             "line": {
              "color": "white",
              "width": 0.5
             },
             "pattern": {
              "fillmode": "overlay",
              "size": 10,
              "solidity": 0.2
             }
            },
            "type": "barpolar"
           }
          ],
          "carpet": [
           {
            "aaxis": {
             "endlinecolor": "#2a3f5f",
             "gridcolor": "#C8D4E3",
             "linecolor": "#C8D4E3",
             "minorgridcolor": "#C8D4E3",
             "startlinecolor": "#2a3f5f"
            },
            "baxis": {
             "endlinecolor": "#2a3f5f",
             "gridcolor": "#C8D4E3",
             "linecolor": "#C8D4E3",
             "minorgridcolor": "#C8D4E3",
             "startlinecolor": "#2a3f5f"
            },
            "type": "carpet"
           }
          ],
          "choropleth": [
           {
            "colorbar": {
             "outlinewidth": 0,
             "ticks": ""
            },
            "type": "choropleth"
           }
          ],
          "contour": [
           {
            "colorbar": {
             "outlinewidth": 0,
             "ticks": ""
            },
            "colorscale": [
             [
              0,
              "#0d0887"
             ],
             [
              0.1111111111111111,
              "#46039f"
             ],
             [
              0.2222222222222222,
              "#7201a8"
             ],
             [
              0.3333333333333333,
              "#9c179e"
             ],
             [
              0.4444444444444444,
              "#bd3786"
             ],
             [
              0.5555555555555556,
              "#d8576b"
             ],
             [
              0.6666666666666666,
              "#ed7953"
             ],
             [
              0.7777777777777778,
              "#fb9f3a"
             ],
             [
              0.8888888888888888,
              "#fdca26"
             ],
             [
              1,
              "#f0f921"
             ]
            ],
            "type": "contour"
           }
          ],
          "contourcarpet": [
           {
            "colorbar": {
             "outlinewidth": 0,
             "ticks": ""
            },
            "type": "contourcarpet"
           }
          ],
          "heatmap": [
           {
            "colorbar": {
             "outlinewidth": 0,
             "ticks": ""
            },
            "colorscale": [
             [
              0,
              "#0d0887"
             ],
             [
              0.1111111111111111,
              "#46039f"
             ],
             [
              0.2222222222222222,
              "#7201a8"
             ],
             [
              0.3333333333333333,
              "#9c179e"
             ],
             [
              0.4444444444444444,
              "#bd3786"
             ],
             [
              0.5555555555555556,
              "#d8576b"
             ],
             [
              0.6666666666666666,
              "#ed7953"
             ],
             [
              0.7777777777777778,
              "#fb9f3a"
             ],
             [
              0.8888888888888888,
              "#fdca26"
             ],
             [
              1,
              "#f0f921"
             ]
            ],
            "type": "heatmap"
           }
          ],
          "heatmapgl": [
           {
            "colorbar": {
             "outlinewidth": 0,
             "ticks": ""
            },
            "colorscale": [
             [
              0,
              "#0d0887"
             ],
             [
              0.1111111111111111,
              "#46039f"
             ],
             [
              0.2222222222222222,
              "#7201a8"
             ],
             [
              0.3333333333333333,
              "#9c179e"
             ],
             [
              0.4444444444444444,
              "#bd3786"
             ],
             [
              0.5555555555555556,
              "#d8576b"
             ],
             [
              0.6666666666666666,
              "#ed7953"
             ],
             [
              0.7777777777777778,
              "#fb9f3a"
             ],
             [
              0.8888888888888888,
              "#fdca26"
             ],
             [
              1,
              "#f0f921"
             ]
            ],
            "type": "heatmapgl"
           }
          ],
          "histogram": [
           {
            "marker": {
             "pattern": {
              "fillmode": "overlay",
              "size": 10,
              "solidity": 0.2
             }
            },
            "type": "histogram"
           }
          ],
          "histogram2d": [
           {
            "colorbar": {
             "outlinewidth": 0,
             "ticks": ""
            },
            "colorscale": [
             [
              0,
              "#0d0887"
             ],
             [
              0.1111111111111111,
              "#46039f"
             ],
             [
              0.2222222222222222,
              "#7201a8"
             ],
             [
              0.3333333333333333,
              "#9c179e"
             ],
             [
              0.4444444444444444,
              "#bd3786"
             ],
             [
              0.5555555555555556,
              "#d8576b"
             ],
             [
              0.6666666666666666,
              "#ed7953"
             ],
             [
              0.7777777777777778,
              "#fb9f3a"
             ],
             [
              0.8888888888888888,
              "#fdca26"
             ],
             [
              1,
              "#f0f921"
             ]
            ],
            "type": "histogram2d"
           }
          ],
          "histogram2dcontour": [
           {
            "colorbar": {
             "outlinewidth": 0,
             "ticks": ""
            },
            "colorscale": [
             [
              0,
              "#0d0887"
             ],
             [
              0.1111111111111111,
              "#46039f"
             ],
             [
              0.2222222222222222,
              "#7201a8"
             ],
             [
              0.3333333333333333,
              "#9c179e"
             ],
             [
              0.4444444444444444,
              "#bd3786"
             ],
             [
              0.5555555555555556,
              "#d8576b"
             ],
             [
              0.6666666666666666,
              "#ed7953"
             ],
             [
              0.7777777777777778,
              "#fb9f3a"
             ],
             [
              0.8888888888888888,
              "#fdca26"
             ],
             [
              1,
              "#f0f921"
             ]
            ],
            "type": "histogram2dcontour"
           }
          ],
          "mesh3d": [
           {
            "colorbar": {
             "outlinewidth": 0,
             "ticks": ""
            },
            "type": "mesh3d"
           }
          ],
          "parcoords": [
           {
            "line": {
             "colorbar": {
              "outlinewidth": 0,
              "ticks": ""
             }
            },
            "type": "parcoords"
           }
          ],
          "pie": [
           {
            "automargin": true,
            "type": "pie"
           }
          ],
          "scatter": [
           {
            "fillpattern": {
             "fillmode": "overlay",
             "size": 10,
             "solidity": 0.2
            },
            "type": "scatter"
           }
          ],
          "scatter3d": [
           {
            "line": {
             "colorbar": {
              "outlinewidth": 0,
              "ticks": ""
             }
            },
            "marker": {
             "colorbar": {
              "outlinewidth": 0,
              "ticks": ""
             }
            },
            "type": "scatter3d"
           }
          ],
          "scattercarpet": [
           {
            "marker": {
             "colorbar": {
              "outlinewidth": 0,
              "ticks": ""
             }
            },
            "type": "scattercarpet"
           }
          ],
          "scattergeo": [
           {
            "marker": {
             "colorbar": {
              "outlinewidth": 0,
              "ticks": ""
             }
            },
            "type": "scattergeo"
           }
          ],
          "scattergl": [
           {
            "marker": {
             "colorbar": {
              "outlinewidth": 0,
              "ticks": ""
             }
            },
            "type": "scattergl"
           }
          ],
          "scattermapbox": [
           {
            "marker": {
             "colorbar": {
              "outlinewidth": 0,
              "ticks": ""
             }
            },
            "type": "scattermapbox"
           }
          ],
          "scatterpolar": [
           {
            "marker": {
             "colorbar": {
              "outlinewidth": 0,
              "ticks": ""
             }
            },
            "type": "scatterpolar"
           }
          ],
          "scatterpolargl": [
           {
            "marker": {
             "colorbar": {
              "outlinewidth": 0,
              "ticks": ""
             }
            },
            "type": "scatterpolargl"
           }
          ],
          "scatterternary": [
           {
            "marker": {
             "colorbar": {
              "outlinewidth": 0,
              "ticks": ""
             }
            },
            "type": "scatterternary"
           }
          ],
          "surface": [
           {
            "colorbar": {
             "outlinewidth": 0,
             "ticks": ""
            },
            "colorscale": [
             [
              0,
              "#0d0887"
             ],
             [
              0.1111111111111111,
              "#46039f"
             ],
             [
              0.2222222222222222,
              "#7201a8"
             ],
             [
              0.3333333333333333,
              "#9c179e"
             ],
             [
              0.4444444444444444,
              "#bd3786"
             ],
             [
              0.5555555555555556,
              "#d8576b"
             ],
             [
              0.6666666666666666,
              "#ed7953"
             ],
             [
              0.7777777777777778,
              "#fb9f3a"
             ],
             [
              0.8888888888888888,
              "#fdca26"
             ],
             [
              1,
              "#f0f921"
             ]
            ],
            "type": "surface"
           }
          ],
          "table": [
           {
            "cells": {
             "fill": {
              "color": "#EBF0F8"
             },
             "line": {
              "color": "white"
             }
            },
            "header": {
             "fill": {
              "color": "#C8D4E3"
             },
             "line": {
              "color": "white"
             }
            },
            "type": "table"
           }
          ]
         },
         "layout": {
          "annotationdefaults": {
           "arrowcolor": "#2a3f5f",
           "arrowhead": 0,
           "arrowwidth": 1
          },
          "autotypenumbers": "strict",
          "coloraxis": {
           "colorbar": {
            "outlinewidth": 0,
            "ticks": ""
           }
          },
          "colorscale": {
           "diverging": [
            [
             0,
             "#8e0152"
            ],
            [
             0.1,
             "#c51b7d"
            ],
            [
             0.2,
             "#de77ae"
            ],
            [
             0.3,
             "#f1b6da"
            ],
            [
             0.4,
             "#fde0ef"
            ],
            [
             0.5,
             "#f7f7f7"
            ],
            [
             0.6,
             "#e6f5d0"
            ],
            [
             0.7,
             "#b8e186"
            ],
            [
             0.8,
             "#7fbc41"
            ],
            [
             0.9,
             "#4d9221"
            ],
            [
             1,
             "#276419"
            ]
           ],
           "sequential": [
            [
             0,
             "#0d0887"
            ],
            [
             0.1111111111111111,
             "#46039f"
            ],
            [
             0.2222222222222222,
             "#7201a8"
            ],
            [
             0.3333333333333333,
             "#9c179e"
            ],
            [
             0.4444444444444444,
             "#bd3786"
            ],
            [
             0.5555555555555556,
             "#d8576b"
            ],
            [
             0.6666666666666666,
             "#ed7953"
            ],
            [
             0.7777777777777778,
             "#fb9f3a"
            ],
            [
             0.8888888888888888,
             "#fdca26"
            ],
            [
             1,
             "#f0f921"
            ]
           ],
           "sequentialminus": [
            [
             0,
             "#0d0887"
            ],
            [
             0.1111111111111111,
             "#46039f"
            ],
            [
             0.2222222222222222,
             "#7201a8"
            ],
            [
             0.3333333333333333,
             "#9c179e"
            ],
            [
             0.4444444444444444,
             "#bd3786"
            ],
            [
             0.5555555555555556,
             "#d8576b"
            ],
            [
             0.6666666666666666,
             "#ed7953"
            ],
            [
             0.7777777777777778,
             "#fb9f3a"
            ],
            [
             0.8888888888888888,
             "#fdca26"
            ],
            [
             1,
             "#f0f921"
            ]
           ]
          },
          "colorway": [
           "#636efa",
           "#EF553B",
           "#00cc96",
           "#ab63fa",
           "#FFA15A",
           "#19d3f3",
           "#FF6692",
           "#B6E880",
           "#FF97FF",
           "#FECB52"
          ],
          "font": {
           "color": "#2a3f5f"
          },
          "geo": {
           "bgcolor": "white",
           "lakecolor": "white",
           "landcolor": "white",
           "showlakes": true,
           "showland": true,
           "subunitcolor": "#C8D4E3"
          },
          "hoverlabel": {
           "align": "left"
          },
          "hovermode": "closest",
          "mapbox": {
           "style": "light"
          },
          "paper_bgcolor": "white",
          "plot_bgcolor": "white",
          "polar": {
           "angularaxis": {
            "gridcolor": "#EBF0F8",
            "linecolor": "#EBF0F8",
            "ticks": ""
           },
           "bgcolor": "white",
           "radialaxis": {
            "gridcolor": "#EBF0F8",
            "linecolor": "#EBF0F8",
            "ticks": ""
           }
          },
          "scene": {
           "xaxis": {
            "backgroundcolor": "white",
            "gridcolor": "#DFE8F3",
            "gridwidth": 2,
            "linecolor": "#EBF0F8",
            "showbackground": true,
            "ticks": "",
            "zerolinecolor": "#EBF0F8"
           },
           "yaxis": {
            "backgroundcolor": "white",
            "gridcolor": "#DFE8F3",
            "gridwidth": 2,
            "linecolor": "#EBF0F8",
            "showbackground": true,
            "ticks": "",
            "zerolinecolor": "#EBF0F8"
           },
           "zaxis": {
            "backgroundcolor": "white",
            "gridcolor": "#DFE8F3",
            "gridwidth": 2,
            "linecolor": "#EBF0F8",
            "showbackground": true,
            "ticks": "",
            "zerolinecolor": "#EBF0F8"
           }
          },
          "shapedefaults": {
           "line": {
            "color": "#2a3f5f"
           }
          },
          "ternary": {
           "aaxis": {
            "gridcolor": "#DFE8F3",
            "linecolor": "#A2B1C6",
            "ticks": ""
           },
           "baxis": {
            "gridcolor": "#DFE8F3",
            "linecolor": "#A2B1C6",
            "ticks": ""
           },
           "bgcolor": "white",
           "caxis": {
            "gridcolor": "#DFE8F3",
            "linecolor": "#A2B1C6",
            "ticks": ""
           }
          },
          "title": {
           "x": 0.05
          },
          "xaxis": {
           "automargin": true,
           "gridcolor": "#EBF0F8",
           "linecolor": "#EBF0F8",
           "ticks": "",
           "title": {
            "standoff": 15
           },
           "zerolinecolor": "#EBF0F8",
           "zerolinewidth": 2
          },
          "yaxis": {
           "automargin": true,
           "gridcolor": "#EBF0F8",
           "linecolor": "#EBF0F8",
           "ticks": "",
           "title": {
            "standoff": 15
           },
           "zerolinecolor": "#EBF0F8",
           "zerolinewidth": 2
          }
         }
        },
        "title": {
         "text": "Revenue for Top 100 Clients"
        },
        "width": 900,
        "xaxis": {
         "title": {
          "text": "Clients (Ordered by Revenue)"
         }
        },
        "yaxis": {
         "tickprefix": "$",
         "title": {
          "text": "Revenue"
         }
        }
       }
      }
     },
     "metadata": {},
     "output_type": "display_data"
    }
   ],
   "source": [
    "# -- 4. TOP 100 CLIENTS REVENUE CHART --\n",
    "\n",
    "# Remove canceled/refunded, keep only revenue > 0\n",
    "data_m2_noCancel_noRefund = data_m2[\n",
    "    ~data_m2['order_status'].str.contains(\"|\".join(order_status_keyWords_Refund_Cancel), case=False, na=False) & \n",
    "    (data_m2['revenue_converted'] > 0)\n",
    "].copy()\n",
    "\n",
    "# Group by customer and sum the revenue (Grand Total)\n",
    "client_revenue = data_m2_noCancel_noRefund.groupby('user_id')['revenue_converted'].sum()\n",
    "\n",
    "# Sort by revenue in descending order\n",
    "client_revenue = client_revenue.sort_values(ascending=False)\n",
    "\n",
    "# Limit the data to top 100 clients\n",
    "top_100_revenue = client_revenue.head(100)\n",
    "\n",
    "# Create the Plotly figure\n",
    "fig_top_client_revenue = go.Figure()\n",
    "\n",
    "# Use a bar chart instead of a line chart\n",
    "fig_top_client_revenue.add_trace(go.Bar(\n",
    "    x=list(range(1, len(top_100_revenue) + 1)),  \n",
    "    y=top_100_revenue,  \n",
    "    name='Revenue by Client',\n",
    "    marker=dict(color='lightblue')  \n",
    "))\n",
    "\n",
    "# Customize the layout\n",
    "fig_top_client_revenue.update_layout(\n",
    "    title='Revenue for Top 100 Clients',\n",
    "    xaxis_title='Clients (Ordered by Revenue)',\n",
    "    yaxis_title='Revenue',\n",
    "    yaxis=dict(tickprefix='$'),  \n",
    "    template='plotly_white',\n",
    "    width=900,\n",
    "    height=500,\n",
    ")\n",
    "\n",
    "fig_top_client_revenue.show()"
   ]
  },
  {
   "cell_type": "code",
   "execution_count": null,
   "metadata": {},
   "outputs": [
    {
     "data": {
      "application/vnd.plotly.v1+json": {
       "config": {
        "plotlyServerURL": "https://plot.ly"
       },
       "data": [
        {
         "marker": {
          "color": "lightgreen"
         },
         "name": "Number of Transactions by Client",
         "type": "bar",
         "x": [
          1,
          2,
          3,
          4,
          5,
          6,
          7,
          8,
          9,
          10,
          11,
          12,
          13,
          14,
          15,
          16,
          17,
          18,
          19,
          20,
          21,
          22,
          23,
          24,
          25,
          26,
          27,
          28,
          29,
          30,
          31,
          32,
          33,
          34,
          35,
          36,
          37,
          38,
          39,
          40,
          41,
          42,
          43,
          44,
          45,
          46,
          47,
          48,
          49,
          50,
          51,
          52,
          53,
          54,
          55,
          56,
          57,
          58,
          59,
          60,
          61,
          62,
          63,
          64,
          65,
          66,
          67,
          68,
          69,
          70,
          71,
          72,
          73,
          74,
          75,
          76,
          77,
          78,
          79,
          80,
          81,
          82,
          83,
          84,
          85,
          86,
          87,
          88,
          89,
          90,
          91,
          92,
          93,
          94,
          95,
          96,
          97,
          98,
          99,
          100
         ],
         "y": [
          1512,
          1419,
          1419,
          902,
          752,
          703,
          672,
          641,
          625,
          624,
          558,
          555,
          533,
          509,
          478,
          448,
          442,
          432,
          424,
          422,
          422,
          422,
          417,
          412,
          408,
          401,
          400,
          398,
          397,
          397,
          386,
          380,
          375,
          372,
          369,
          365,
          362,
          357,
          355,
          352,
          348,
          337,
          335,
          329,
          326,
          324,
          318,
          318,
          308,
          306,
          305,
          304,
          302,
          301,
          300,
          298,
          296,
          295,
          291,
          288,
          286,
          285,
          284,
          277,
          276,
          274,
          274,
          273,
          271,
          270,
          268,
          267,
          266,
          265,
          265,
          265,
          262,
          262,
          261,
          258,
          255,
          255,
          253,
          252,
          252,
          250,
          248,
          248,
          246,
          246,
          244,
          244,
          243,
          241,
          240,
          240,
          239,
          238,
          235,
          235
         ]
        }
       ],
       "layout": {
        "height": 500,
        "template": {
         "data": {
          "bar": [
           {
            "error_x": {
             "color": "#2a3f5f"
            },
            "error_y": {
             "color": "#2a3f5f"
            },
            "marker": {
             "line": {
              "color": "white",
              "width": 0.5
             },
             "pattern": {
              "fillmode": "overlay",
              "size": 10,
              "solidity": 0.2
             }
            },
            "type": "bar"
           }
          ],
          "barpolar": [
           {
            "marker": {
             "line": {
              "color": "white",
              "width": 0.5
             },
             "pattern": {
              "fillmode": "overlay",
              "size": 10,
              "solidity": 0.2
             }
            },
            "type": "barpolar"
           }
          ],
          "carpet": [
           {
            "aaxis": {
             "endlinecolor": "#2a3f5f",
             "gridcolor": "#C8D4E3",
             "linecolor": "#C8D4E3",
             "minorgridcolor": "#C8D4E3",
             "startlinecolor": "#2a3f5f"
            },
            "baxis": {
             "endlinecolor": "#2a3f5f",
             "gridcolor": "#C8D4E3",
             "linecolor": "#C8D4E3",
             "minorgridcolor": "#C8D4E3",
             "startlinecolor": "#2a3f5f"
            },
            "type": "carpet"
           }
          ],
          "choropleth": [
           {
            "colorbar": {
             "outlinewidth": 0,
             "ticks": ""
            },
            "type": "choropleth"
           }
          ],
          "contour": [
           {
            "colorbar": {
             "outlinewidth": 0,
             "ticks": ""
            },
            "colorscale": [
             [
              0,
              "#0d0887"
             ],
             [
              0.1111111111111111,
              "#46039f"
             ],
             [
              0.2222222222222222,
              "#7201a8"
             ],
             [
              0.3333333333333333,
              "#9c179e"
             ],
             [
              0.4444444444444444,
              "#bd3786"
             ],
             [
              0.5555555555555556,
              "#d8576b"
             ],
             [
              0.6666666666666666,
              "#ed7953"
             ],
             [
              0.7777777777777778,
              "#fb9f3a"
             ],
             [
              0.8888888888888888,
              "#fdca26"
             ],
             [
              1,
              "#f0f921"
             ]
            ],
            "type": "contour"
           }
          ],
          "contourcarpet": [
           {
            "colorbar": {
             "outlinewidth": 0,
             "ticks": ""
            },
            "type": "contourcarpet"
           }
          ],
          "heatmap": [
           {
            "colorbar": {
             "outlinewidth": 0,
             "ticks": ""
            },
            "colorscale": [
             [
              0,
              "#0d0887"
             ],
             [
              0.1111111111111111,
              "#46039f"
             ],
             [
              0.2222222222222222,
              "#7201a8"
             ],
             [
              0.3333333333333333,
              "#9c179e"
             ],
             [
              0.4444444444444444,
              "#bd3786"
             ],
             [
              0.5555555555555556,
              "#d8576b"
             ],
             [
              0.6666666666666666,
              "#ed7953"
             ],
             [
              0.7777777777777778,
              "#fb9f3a"
             ],
             [
              0.8888888888888888,
              "#fdca26"
             ],
             [
              1,
              "#f0f921"
             ]
            ],
            "type": "heatmap"
           }
          ],
          "heatmapgl": [
           {
            "colorbar": {
             "outlinewidth": 0,
             "ticks": ""
            },
            "colorscale": [
             [
              0,
              "#0d0887"
             ],
             [
              0.1111111111111111,
              "#46039f"
             ],
             [
              0.2222222222222222,
              "#7201a8"
             ],
             [
              0.3333333333333333,
              "#9c179e"
             ],
             [
              0.4444444444444444,
              "#bd3786"
             ],
             [
              0.5555555555555556,
              "#d8576b"
             ],
             [
              0.6666666666666666,
              "#ed7953"
             ],
             [
              0.7777777777777778,
              "#fb9f3a"
             ],
             [
              0.8888888888888888,
              "#fdca26"
             ],
             [
              1,
              "#f0f921"
             ]
            ],
            "type": "heatmapgl"
           }
          ],
          "histogram": [
           {
            "marker": {
             "pattern": {
              "fillmode": "overlay",
              "size": 10,
              "solidity": 0.2
             }
            },
            "type": "histogram"
           }
          ],
          "histogram2d": [
           {
            "colorbar": {
             "outlinewidth": 0,
             "ticks": ""
            },
            "colorscale": [
             [
              0,
              "#0d0887"
             ],
             [
              0.1111111111111111,
              "#46039f"
             ],
             [
              0.2222222222222222,
              "#7201a8"
             ],
             [
              0.3333333333333333,
              "#9c179e"
             ],
             [
              0.4444444444444444,
              "#bd3786"
             ],
             [
              0.5555555555555556,
              "#d8576b"
             ],
             [
              0.6666666666666666,
              "#ed7953"
             ],
             [
              0.7777777777777778,
              "#fb9f3a"
             ],
             [
              0.8888888888888888,
              "#fdca26"
             ],
             [
              1,
              "#f0f921"
             ]
            ],
            "type": "histogram2d"
           }
          ],
          "histogram2dcontour": [
           {
            "colorbar": {
             "outlinewidth": 0,
             "ticks": ""
            },
            "colorscale": [
             [
              0,
              "#0d0887"
             ],
             [
              0.1111111111111111,
              "#46039f"
             ],
             [
              0.2222222222222222,
              "#7201a8"
             ],
             [
              0.3333333333333333,
              "#9c179e"
             ],
             [
              0.4444444444444444,
              "#bd3786"
             ],
             [
              0.5555555555555556,
              "#d8576b"
             ],
             [
              0.6666666666666666,
              "#ed7953"
             ],
             [
              0.7777777777777778,
              "#fb9f3a"
             ],
             [
              0.8888888888888888,
              "#fdca26"
             ],
             [
              1,
              "#f0f921"
             ]
            ],
            "type": "histogram2dcontour"
           }
          ],
          "mesh3d": [
           {
            "colorbar": {
             "outlinewidth": 0,
             "ticks": ""
            },
            "type": "mesh3d"
           }
          ],
          "parcoords": [
           {
            "line": {
             "colorbar": {
              "outlinewidth": 0,
              "ticks": ""
             }
            },
            "type": "parcoords"
           }
          ],
          "pie": [
           {
            "automargin": true,
            "type": "pie"
           }
          ],
          "scatter": [
           {
            "fillpattern": {
             "fillmode": "overlay",
             "size": 10,
             "solidity": 0.2
            },
            "type": "scatter"
           }
          ],
          "scatter3d": [
           {
            "line": {
             "colorbar": {
              "outlinewidth": 0,
              "ticks": ""
             }
            },
            "marker": {
             "colorbar": {
              "outlinewidth": 0,
              "ticks": ""
             }
            },
            "type": "scatter3d"
           }
          ],
          "scattercarpet": [
           {
            "marker": {
             "colorbar": {
              "outlinewidth": 0,
              "ticks": ""
             }
            },
            "type": "scattercarpet"
           }
          ],
          "scattergeo": [
           {
            "marker": {
             "colorbar": {
              "outlinewidth": 0,
              "ticks": ""
             }
            },
            "type": "scattergeo"
           }
          ],
          "scattergl": [
           {
            "marker": {
             "colorbar": {
              "outlinewidth": 0,
              "ticks": ""
             }
            },
            "type": "scattergl"
           }
          ],
          "scattermapbox": [
           {
            "marker": {
             "colorbar": {
              "outlinewidth": 0,
              "ticks": ""
             }
            },
            "type": "scattermapbox"
           }
          ],
          "scatterpolar": [
           {
            "marker": {
             "colorbar": {
              "outlinewidth": 0,
              "ticks": ""
             }
            },
            "type": "scatterpolar"
           }
          ],
          "scatterpolargl": [
           {
            "marker": {
             "colorbar": {
              "outlinewidth": 0,
              "ticks": ""
             }
            },
            "type": "scatterpolargl"
           }
          ],
          "scatterternary": [
           {
            "marker": {
             "colorbar": {
              "outlinewidth": 0,
              "ticks": ""
             }
            },
            "type": "scatterternary"
           }
          ],
          "surface": [
           {
            "colorbar": {
             "outlinewidth": 0,
             "ticks": ""
            },
            "colorscale": [
             [
              0,
              "#0d0887"
             ],
             [
              0.1111111111111111,
              "#46039f"
             ],
             [
              0.2222222222222222,
              "#7201a8"
             ],
             [
              0.3333333333333333,
              "#9c179e"
             ],
             [
              0.4444444444444444,
              "#bd3786"
             ],
             [
              0.5555555555555556,
              "#d8576b"
             ],
             [
              0.6666666666666666,
              "#ed7953"
             ],
             [
              0.7777777777777778,
              "#fb9f3a"
             ],
             [
              0.8888888888888888,
              "#fdca26"
             ],
             [
              1,
              "#f0f921"
             ]
            ],
            "type": "surface"
           }
          ],
          "table": [
           {
            "cells": {
             "fill": {
              "color": "#EBF0F8"
             },
             "line": {
              "color": "white"
             }
            },
            "header": {
             "fill": {
              "color": "#C8D4E3"
             },
             "line": {
              "color": "white"
             }
            },
            "type": "table"
           }
          ]
         },
         "layout": {
          "annotationdefaults": {
           "arrowcolor": "#2a3f5f",
           "arrowhead": 0,
           "arrowwidth": 1
          },
          "autotypenumbers": "strict",
          "coloraxis": {
           "colorbar": {
            "outlinewidth": 0,
            "ticks": ""
           }
          },
          "colorscale": {
           "diverging": [
            [
             0,
             "#8e0152"
            ],
            [
             0.1,
             "#c51b7d"
            ],
            [
             0.2,
             "#de77ae"
            ],
            [
             0.3,
             "#f1b6da"
            ],
            [
             0.4,
             "#fde0ef"
            ],
            [
             0.5,
             "#f7f7f7"
            ],
            [
             0.6,
             "#e6f5d0"
            ],
            [
             0.7,
             "#b8e186"
            ],
            [
             0.8,
             "#7fbc41"
            ],
            [
             0.9,
             "#4d9221"
            ],
            [
             1,
             "#276419"
            ]
           ],
           "sequential": [
            [
             0,
             "#0d0887"
            ],
            [
             0.1111111111111111,
             "#46039f"
            ],
            [
             0.2222222222222222,
             "#7201a8"
            ],
            [
             0.3333333333333333,
             "#9c179e"
            ],
            [
             0.4444444444444444,
             "#bd3786"
            ],
            [
             0.5555555555555556,
             "#d8576b"
            ],
            [
             0.6666666666666666,
             "#ed7953"
            ],
            [
             0.7777777777777778,
             "#fb9f3a"
            ],
            [
             0.8888888888888888,
             "#fdca26"
            ],
            [
             1,
             "#f0f921"
            ]
           ],
           "sequentialminus": [
            [
             0,
             "#0d0887"
            ],
            [
             0.1111111111111111,
             "#46039f"
            ],
            [
             0.2222222222222222,
             "#7201a8"
            ],
            [
             0.3333333333333333,
             "#9c179e"
            ],
            [
             0.4444444444444444,
             "#bd3786"
            ],
            [
             0.5555555555555556,
             "#d8576b"
            ],
            [
             0.6666666666666666,
             "#ed7953"
            ],
            [
             0.7777777777777778,
             "#fb9f3a"
            ],
            [
             0.8888888888888888,
             "#fdca26"
            ],
            [
             1,
             "#f0f921"
            ]
           ]
          },
          "colorway": [
           "#636efa",
           "#EF553B",
           "#00cc96",
           "#ab63fa",
           "#FFA15A",
           "#19d3f3",
           "#FF6692",
           "#B6E880",
           "#FF97FF",
           "#FECB52"
          ],
          "font": {
           "color": "#2a3f5f"
          },
          "geo": {
           "bgcolor": "white",
           "lakecolor": "white",
           "landcolor": "white",
           "showlakes": true,
           "showland": true,
           "subunitcolor": "#C8D4E3"
          },
          "hoverlabel": {
           "align": "left"
          },
          "hovermode": "closest",
          "mapbox": {
           "style": "light"
          },
          "paper_bgcolor": "white",
          "plot_bgcolor": "white",
          "polar": {
           "angularaxis": {
            "gridcolor": "#EBF0F8",
            "linecolor": "#EBF0F8",
            "ticks": ""
           },
           "bgcolor": "white",
           "radialaxis": {
            "gridcolor": "#EBF0F8",
            "linecolor": "#EBF0F8",
            "ticks": ""
           }
          },
          "scene": {
           "xaxis": {
            "backgroundcolor": "white",
            "gridcolor": "#DFE8F3",
            "gridwidth": 2,
            "linecolor": "#EBF0F8",
            "showbackground": true,
            "ticks": "",
            "zerolinecolor": "#EBF0F8"
           },
           "yaxis": {
            "backgroundcolor": "white",
            "gridcolor": "#DFE8F3",
            "gridwidth": 2,
            "linecolor": "#EBF0F8",
            "showbackground": true,
            "ticks": "",
            "zerolinecolor": "#EBF0F8"
           },
           "zaxis": {
            "backgroundcolor": "white",
            "gridcolor": "#DFE8F3",
            "gridwidth": 2,
            "linecolor": "#EBF0F8",
            "showbackground": true,
            "ticks": "",
            "zerolinecolor": "#EBF0F8"
           }
          },
          "shapedefaults": {
           "line": {
            "color": "#2a3f5f"
           }
          },
          "ternary": {
           "aaxis": {
            "gridcolor": "#DFE8F3",
            "linecolor": "#A2B1C6",
            "ticks": ""
           },
           "baxis": {
            "gridcolor": "#DFE8F3",
            "linecolor": "#A2B1C6",
            "ticks": ""
           },
           "bgcolor": "white",
           "caxis": {
            "gridcolor": "#DFE8F3",
            "linecolor": "#A2B1C6",
            "ticks": ""
           }
          },
          "title": {
           "x": 0.05
          },
          "xaxis": {
           "automargin": true,
           "gridcolor": "#EBF0F8",
           "linecolor": "#EBF0F8",
           "ticks": "",
           "title": {
            "standoff": 15
           },
           "zerolinecolor": "#EBF0F8",
           "zerolinewidth": 2
          },
          "yaxis": {
           "automargin": true,
           "gridcolor": "#EBF0F8",
           "linecolor": "#EBF0F8",
           "ticks": "",
           "title": {
            "standoff": 15
           },
           "zerolinecolor": "#EBF0F8",
           "zerolinewidth": 2
          }
         }
        },
        "title": {
         "text": "Number of Transactions for Top 100 Clients"
        },
        "width": 900,
        "xaxis": {
         "title": {
          "text": "Clients (Ordered by Number of Transactions)"
         }
        },
        "yaxis": {
         "tickformat": "d",
         "title": {
          "text": "Total Number of Transactions"
         }
        }
       }
      }
     },
     "metadata": {},
     "output_type": "display_data"
    }
   ],
   "source": [
    "# -- 5. TOP 100 CLIENTS TRANSACTIONS CHART --\n",
    "\n",
    "# Remove canceled/refunded, keep only revenue > 0\n",
    "data_m2_noCancel_noRefund = data_m2[\n",
    "    ~data_m2['order_status'].str.contains(\"|\".join(order_status_keyWords_Refund_Cancel), case=False, na=False) & \n",
    "    (data_m2['revenue_converted'] > 0)\n",
    "].copy()\n",
    "\n",
    "# Group by customer and sum the revenue (Grand Total)\n",
    "client_transaction = data_m2_noCancel_noRefund.groupby('user_id')['transaction_id'].count()\n",
    "\n",
    "# Sort by revenue in descending order\n",
    "client_transaction = client_transaction.sort_values(ascending=False)\n",
    "\n",
    "# Limit the data to top 100 clients\n",
    "top_100_transaction = client_transaction.head(100)\n",
    "\n",
    "# Create the Plotly figure\n",
    "fig_top_client_transactions = go.Figure()\n",
    "\n",
    "# Use a bar chart instead of a line chart\n",
    "fig_top_client_transactions.add_trace(go.Bar(\n",
    "    x=list(range(1, len(top_100_transaction) + 1)), \n",
    "    y=top_100_transaction,  \n",
    "    name='Number of Transactions by Client',\n",
    "    marker=dict(color='lightgreen')  \n",
    "))\n",
    "\n",
    "# Customize the layout\n",
    "fig_top_client_transactions.update_layout(\n",
    "    title='Number of Transactions for Top 100 Clients',\n",
    "    xaxis_title='Clients (Ordered by Number of Transactions)',\n",
    "    yaxis_title='Total Number of Transactions',\n",
    "    yaxis=dict(tickformat=\"d\"),  # Ensure the y-axis shows integer values\n",
    "    template='plotly_white',\n",
    "    width=900,\n",
    "    height=500,\n",
    ")\n",
    "\n",
    "fig_top_client_transactions.show()"
   ]
  },
  {
   "cell_type": "code",
   "execution_count": null,
   "metadata": {},
   "outputs": [
    {
     "data": {
      "text/html": [
       "<div>\n",
       "<style scoped>\n",
       "    .dataframe tbody tr th:only-of-type {\n",
       "        vertical-align: middle;\n",
       "    }\n",
       "\n",
       "    .dataframe tbody tr th {\n",
       "        vertical-align: top;\n",
       "    }\n",
       "\n",
       "    .dataframe thead th {\n",
       "        text-align: right;\n",
       "    }\n",
       "</style>\n",
       "<table border=\"1\" class=\"dataframe\">\n",
       "  <thead>\n",
       "    <tr style=\"text-align: right;\">\n",
       "      <th></th>\n",
       "      <th>Metric</th>\n",
       "      <th>Top 1% Clients</th>\n",
       "      <th>Bottom 99% Clients</th>\n",
       "    </tr>\n",
       "  </thead>\n",
       "  <tbody>\n",
       "    <tr>\n",
       "      <th>0</th>\n",
       "      <td>Number of Clients</td>\n",
       "      <td>17,615</td>\n",
       "      <td>1,743,891</td>\n",
       "    </tr>\n",
       "    <tr>\n",
       "      <th>1</th>\n",
       "      <td>Average # of Orders</td>\n",
       "      <td>53.7</td>\n",
       "      <td>3.3</td>\n",
       "    </tr>\n",
       "    <tr>\n",
       "      <th>2</th>\n",
       "      <td>Min / Max # of Orders</td>\n",
       "      <td>6 / 1512</td>\n",
       "      <td>1 / 72</td>\n",
       "    </tr>\n",
       "    <tr>\n",
       "      <th>3</th>\n",
       "      <td>Average LTV</td>\n",
       "      <td>$1,406.6</td>\n",
       "      <td>$89.3</td>\n",
       "    </tr>\n",
       "    <tr>\n",
       "      <th>4</th>\n",
       "      <td>Min / Max LTV</td>\n",
       "      <td>$869.0 / $79,703.6</td>\n",
       "      <td>$0.5 / $869.0</td>\n",
       "    </tr>\n",
       "    <tr>\n",
       "      <th>5</th>\n",
       "      <td>Average First Purchase Value</td>\n",
       "      <td>$28.9</td>\n",
       "      <td>$27.8</td>\n",
       "    </tr>\n",
       "    <tr>\n",
       "      <th>6</th>\n",
       "      <td>Min / Max First Purchase Value</td>\n",
       "      <td>$0.5 / $189.5</td>\n",
       "      <td>$0.3 / $233.4</td>\n",
       "    </tr>\n",
       "    <tr>\n",
       "      <th>7</th>\n",
       "      <td>Rate of Cancellations (%)</td>\n",
       "      <td>1.0%</td>\n",
       "      <td>1.4%</td>\n",
       "    </tr>\n",
       "    <tr>\n",
       "      <th>8</th>\n",
       "      <td>Rate of Refunds (%)</td>\n",
       "      <td>0.0%</td>\n",
       "      <td>0.0%</td>\n",
       "    </tr>\n",
       "    <tr>\n",
       "      <th>9</th>\n",
       "      <td>Average Order Value (AOV)</td>\n",
       "      <td>$26.2</td>\n",
       "      <td>$26.9</td>\n",
       "    </tr>\n",
       "    <tr>\n",
       "      <th>10</th>\n",
       "      <td>Average Number of Items per Order</td>\n",
       "      <td>2.3</td>\n",
       "      <td>2.4</td>\n",
       "    </tr>\n",
       "    <tr>\n",
       "      <th>11</th>\n",
       "      <td>Average Number of Days Between Orders</td>\n",
       "      <td>55.2</td>\n",
       "      <td>213.2</td>\n",
       "    </tr>\n",
       "  </tbody>\n",
       "</table>\n",
       "</div>"
      ],
      "text/plain": [
       "                                   Metric      Top 1% Clients  \\\n",
       "0                       Number of Clients              17,615   \n",
       "1                     Average # of Orders                53.7   \n",
       "2                   Min / Max # of Orders            6 / 1512   \n",
       "3                             Average LTV            $1,406.6   \n",
       "4                           Min / Max LTV  $869.0 / $79,703.6   \n",
       "5            Average First Purchase Value               $28.9   \n",
       "6          Min / Max First Purchase Value       $0.5 / $189.5   \n",
       "7               Rate of Cancellations (%)                1.0%   \n",
       "8                     Rate of Refunds (%)                0.0%   \n",
       "9               Average Order Value (AOV)               $26.2   \n",
       "10      Average Number of Items per Order                 2.3   \n",
       "11  Average Number of Days Between Orders                55.2   \n",
       "\n",
       "   Bottom 99% Clients  \n",
       "0           1,743,891  \n",
       "1                 3.3  \n",
       "2              1 / 72  \n",
       "3               $89.3  \n",
       "4       $0.5 / $869.0  \n",
       "5               $27.8  \n",
       "6       $0.3 / $233.4  \n",
       "7                1.4%  \n",
       "8                0.0%  \n",
       "9               $26.9  \n",
       "10                2.4  \n",
       "11              213.2  "
      ]
     },
     "execution_count": 19,
     "metadata": {},
     "output_type": "execute_result"
    }
   ],
   "source": [
    "# -- 6. MAIN KPIs TOP 1% CLIENTS VS BOTTOM 99% --\n",
    "\n",
    "# Remove canceled/refunded, keep only revenue > 0\n",
    "data_m2_noCancel_noRefund = data_m2[\n",
    "    ~data_m2['order_status'].str.contains(\"|\".join(order_status_keyWords_Refund_Cancel), case=False, na=False)\n",
    "    & (data_m2['revenue_converted'] > 0)\n",
    "].copy()\n",
    "\n",
    "# Convert 'revenue_converted' => numeric\n",
    "data_m2_noCancel_noRefund['Grand Total (Base)'] = pd.to_numeric(\n",
    "    data_m2_noCancel_noRefund['revenue_converted'],\n",
    "    errors='coerce'\n",
    ")\n",
    "\n",
    "# Sort for consistent \"first\" purchase identification\n",
    "data_m2_noCancel_noRefund = data_m2_noCancel_noRefund.sort_values(by=['user_id', 'datetime'])\n",
    "\n",
    "# BUILD CUSTOMER-LEVEL TABLE\n",
    "client_data = data_m2_noCancel_noRefund.groupby('user_id').agg({\n",
    "    'Grand Total (Base)': 'sum',\n",
    "    'transaction_id': 'nunique',\n",
    "    'revenue_converted': 'first'\n",
    "})\n",
    "\n",
    "# Rename columns for clarity\n",
    "client_data.rename(columns={\n",
    "    'transaction_id': '# of Orders',\n",
    "    'revenue_converted': 'First Purchase Value'\n",
    "}, inplace=True)\n",
    "\n",
    "# Sort by total revenue descending\n",
    "client_data = client_data.sort_values('Grand Total (Base)', ascending=False)\n",
    "\n",
    "# Identify Top 1% and Bottom 99% clients\n",
    "top_1_percent_count = int(len(client_data) * 0.01)\n",
    "top_1_percent_clients = client_data.head(top_1_percent_count)\n",
    "bottom_99_percent_clients = client_data.tail(len(client_data) - top_1_percent_count)\n",
    "top_1_percent_user_ids = top_1_percent_clients.index\n",
    "bottom_99_percent_user_ids = bottom_99_percent_clients.index\n",
    "\n",
    "# SEPARATE DATA FOR METRICS\n",
    "# Data with canceled/refunded orders\n",
    "data_top_1_percent = data_m2[data_m2['user_id'].isin(top_1_percent_user_ids)].copy()\n",
    "data_bottom_99_percent = data_m2[data_m2['user_id'].isin(bottom_99_percent_user_ids)].copy()\n",
    "\n",
    "# Data without canceled/refunded orders\n",
    "data_top_1_percent_clean = data_m2_noCancel_noRefund[\n",
    "    data_m2_noCancel_noRefund['user_id'].isin(top_1_percent_user_ids)\n",
    "].copy()\n",
    "data_bottom_99_percent_clean = data_m2_noCancel_noRefund[\n",
    "    data_m2_noCancel_noRefund['user_id'].isin(bottom_99_percent_user_ids)\n",
    "].copy()\n",
    "\n",
    "def safe_div(numerator, denominator):\n",
    "    \"\"\"Avoid ZeroDivisionError; return 0 if denominator=0.\"\"\"\n",
    "    return numerator / denominator if denominator else 0\n",
    "\n",
    "# Calculate Cancellation and Refund Rates\n",
    "def calculate_rates(data):\n",
    "    cancellations = data[data['order_status'].str.contains('cancel', case=False, na=False)]\n",
    "    refunds = data[data['order_status'].str.contains('refund', case=False, na=False)]\n",
    "    return {\n",
    "        'cancellation_rate': 100 * safe_div(len(cancellations), len(data)),\n",
    "        'refund_rate': 100 * safe_div(len(refunds), len(data))\n",
    "    }\n",
    "\n",
    "rates_top_1_percent = calculate_rates(data_top_1_percent)\n",
    "rates_bottom_99_percent = calculate_rates(data_bottom_99_percent)\n",
    "\n",
    "# Calculate AOV\n",
    "def calculate_aov(data):\n",
    "    total_revenue = data['revenue_converted'].sum()\n",
    "    total_orders = data['transaction_id'].nunique()\n",
    "    return safe_div(total_revenue, total_orders)\n",
    "\n",
    "aov_top_1_percent = calculate_aov(data_top_1_percent_clean)\n",
    "aov_bottom_99_percent = calculate_aov(data_bottom_99_percent_clean)\n",
    "\n",
    "# Calculate Avg Items per Order\n",
    "data_ga4_top_1_percent = data_ga4_item[data_ga4_item['user_id'].isin(top_1_percent_user_ids)]\n",
    "data_ga4_bottom_99_percent = data_ga4_item[data_ga4_item['user_id'].isin(bottom_99_percent_user_ids)]\n",
    "\n",
    "avg_items_per_order_top_1_percent = safe_div(data_ga4_top_1_percent['item_quantity'].sum() , len(data_ga4_top_1_percent['transaction_id'].unique()))\n",
    "avg_items_per_order_bottom_99_percent = safe_div(data_ga4_bottom_99_percent['item_quantity'].sum() , len(data_ga4_bottom_99_percent['transaction_id'].unique()))\n",
    "\n",
    "# Calculate Days Between Orders\n",
    "def calculate_avg_days_between_orders(data):\n",
    "    data_sorted = data.sort_values(['user_id', 'datetime'])\n",
    "    data_sorted['days_between_orders'] = data_sorted.groupby('user_id')['datetime'].diff().dt.days\n",
    "    return data_sorted['days_between_orders'].mean()\n",
    "\n",
    "days_between_orders_top_1_percent = calculate_avg_days_between_orders(data_top_1_percent_clean)\n",
    "days_between_orders_bottom_99_percent = calculate_avg_days_between_orders(data_bottom_99_percent_clean)\n",
    "\n",
    "def safe_percentage(value):\n",
    "    \"\"\"Format a numeric value as a percentage string, handling NaN or inf.\"\"\"\n",
    "    if pd.isna(value) or np.isinf(value):\n",
    "        return \"\"\n",
    "    return f\"{value:.1f}%\"\n",
    "\n",
    "# Create comparison DataFrame\n",
    "top_1_percent_metrics_df = pd.DataFrame({\n",
    "    \"Metric\": [\n",
    "        \"Number of Clients\",\n",
    "        \"Average # of Orders\",\n",
    "        \"Min / Max # of Orders\",\n",
    "        \"Average LTV\",\n",
    "        \"Min / Max LTV\",\n",
    "        \"Average First Purchase Value\",\n",
    "        \"Min / Max First Purchase Value\",\n",
    "        \"Rate of Cancellations (%)\",\n",
    "        \"Rate of Refunds (%)\",\n",
    "        \"Average Order Value (AOV)\",\n",
    "        \"Average Number of Items per Order\",\n",
    "        \"Average Number of Days Between Orders\"\n",
    "    ],\n",
    "    \"Top 1% Clients\": [\n",
    "        f\"{len(top_1_percent_clients):,.0f}\",\n",
    "        f\"{top_1_percent_clients['# of Orders'].mean():.1f}\",\n",
    "        f\"{top_1_percent_clients['# of Orders'].min()} / {top_1_percent_clients['# of Orders'].max()}\",\n",
    "        f\"${top_1_percent_clients['Grand Total (Base)'].mean():,.1f}\",\n",
    "        f\"${top_1_percent_clients['Grand Total (Base)'].min():,.1f} / ${top_1_percent_clients['Grand Total (Base)'].max():,.1f}\",\n",
    "        f\"${top_1_percent_clients['First Purchase Value'].mean():,.1f}\",\n",
    "        f\"${top_1_percent_clients['First Purchase Value'].min():,.1f} / ${top_1_percent_clients['First Purchase Value'].max():,.1f}\",\n",
    "        safe_percentage(rates_top_1_percent['cancellation_rate']),\n",
    "        safe_percentage(rates_top_1_percent['refund_rate']),\n",
    "        f\"${aov_top_1_percent:,.1f}\",\n",
    "        f\"{avg_items_per_order_top_1_percent:.1f}\",\n",
    "        f\"{days_between_orders_top_1_percent:.1f}\"\n",
    "    ],\n",
    "    \"Bottom 99% Clients\": [\n",
    "        f\"{len(bottom_99_percent_clients):,.0f}\",\n",
    "        f\"{bottom_99_percent_clients['# of Orders'].mean():.1f}\",\n",
    "        f\"{bottom_99_percent_clients['# of Orders'].min()} / {bottom_99_percent_clients['# of Orders'].max()}\",\n",
    "        f\"${bottom_99_percent_clients['Grand Total (Base)'].mean():,.1f}\",\n",
    "        f\"${bottom_99_percent_clients['Grand Total (Base)'].min():,.1f} / ${bottom_99_percent_clients['Grand Total (Base)'].max():,.1f}\",\n",
    "        f\"${bottom_99_percent_clients['First Purchase Value'].mean():,.1f}\",\n",
    "        f\"${bottom_99_percent_clients['First Purchase Value'].min():,.1f} / ${bottom_99_percent_clients['First Purchase Value'].max():,.1f}\",\n",
    "        safe_percentage(rates_bottom_99_percent['cancellation_rate']),\n",
    "        safe_percentage(rates_bottom_99_percent['refund_rate']),\n",
    "        f\"${aov_bottom_99_percent:,.1f}\",\n",
    "        f\"{avg_items_per_order_bottom_99_percent:.1f}\",\n",
    "        f\"{days_between_orders_bottom_99_percent:.1f}\"\n",
    "    ]\n",
    "})\n",
    "\n",
    "# Display final comparison\n",
    "top_1_percent_metrics_df"
   ]
  },
  {
   "cell_type": "code",
   "execution_count": null,
   "metadata": {},
   "outputs": [
    {
     "data": {
      "text/html": [
       "<div>\n",
       "<style scoped>\n",
       "    .dataframe tbody tr th:only-of-type {\n",
       "        vertical-align: middle;\n",
       "    }\n",
       "\n",
       "    .dataframe tbody tr th {\n",
       "        vertical-align: top;\n",
       "    }\n",
       "\n",
       "    .dataframe thead th {\n",
       "        text-align: right;\n",
       "    }\n",
       "</style>\n",
       "<table border=\"1\" class=\"dataframe\">\n",
       "  <thead>\n",
       "    <tr style=\"text-align: right;\">\n",
       "      <th></th>\n",
       "      <th>Metric</th>\n",
       "      <th>Value</th>\n",
       "      <th>Description</th>\n",
       "    </tr>\n",
       "  </thead>\n",
       "  <tbody>\n",
       "    <tr>\n",
       "      <th>0</th>\n",
       "      <td>Correlation Coefficient (r)</td>\n",
       "      <td>0.1243</td>\n",
       "      <td>Pearson correlation between First Purchase Val...</td>\n",
       "    </tr>\n",
       "    <tr>\n",
       "      <th>1</th>\n",
       "      <td>P-value</td>\n",
       "      <td>0.0000e+00</td>\n",
       "      <td>Probability that the correlation occurred by c...</td>\n",
       "    </tr>\n",
       "    <tr>\n",
       "      <th>2</th>\n",
       "      <td>Statistical Significance</td>\n",
       "      <td>Statistically Significant</td>\n",
       "      <td>Significant if p-value &lt; 0.05</td>\n",
       "    </tr>\n",
       "  </tbody>\n",
       "</table>\n",
       "</div>"
      ],
      "text/plain": [
       "                        Metric                      Value  \\\n",
       "0  Correlation Coefficient (r)                     0.1243   \n",
       "1                      P-value                 0.0000e+00   \n",
       "2     Statistical Significance  Statistically Significant   \n",
       "\n",
       "                                         Description  \n",
       "0  Pearson correlation between First Purchase Val...  \n",
       "1  Probability that the correlation occurred by c...  \n",
       "2                      Significant if p-value < 0.05  "
      ]
     },
     "execution_count": 20,
     "metadata": {},
     "output_type": "execute_result"
    }
   ],
   "source": [
    "# -- 7. CORRELATION ANALYSIS --\n",
    "# Remove canceled/refunded, keep only revenue > 0\n",
    "data_m2_noCancel_noRefund = data_m2[\n",
    "    ~data_m2['order_status'].str.contains(\"|\".join(order_status_keyWords_Refund_Cancel), case=False, na=False) & \n",
    "    (data_m2['revenue_converted'] > 0)\n",
    "].copy()\n",
    "\n",
    "# Ensure numeric data\n",
    "data_m2_noCancel_noRefund['Grand Total (Base)'] = pd.to_numeric(data_m2_noCancel_noRefund['revenue_converted'], errors='coerce')\n",
    "\n",
    "# Calculate the first purchase value for each customer\n",
    "data_m2_noCancel_noRefund['First Purchase Value'] = data_m2_noCancel_noRefund.groupby('user_id')['Grand Total (Base)'].transform('first')\n",
    "\n",
    "# Group by customer to calculate total and first purchase revenues\n",
    "client_data = data_m2_noCancel_noRefund.groupby('user_id').agg({\n",
    "    'Grand Total (Base)': 'sum',  # Lifetime Value (LTV)\n",
    "    'First Purchase Value': 'first'  # First Purchase Value (FPV)\n",
    "}).rename(columns={'Grand Total (Base)': 'LTV', 'First Purchase Value': 'FPV'})\n",
    "\n",
    "# Calculate the correlation\n",
    "correlation, p_value = pearsonr(client_data['FPV'], client_data['LTV'])\n",
    "\n",
    "# Find illustrative examples\n",
    "high_ltv_examples = client_data.sort_values('LTV', ascending=False).head(5)\n",
    "\n",
    "correlation_results_df = pd.DataFrame({\n",
    "    'Metric': ['Correlation Coefficient (r)', 'P-value', 'Statistical Significance'],\n",
    "    'Value': [\n",
    "        f\"{correlation:.4f}\",\n",
    "        f\"{p_value:.4e}\",\n",
    "        \"Statistically Significant\" if p_value < 0.05 else \"Not Statistically Significant\"\n",
    "    ],\n",
    "    'Description': [\n",
    "        'Pearson correlation between First Purchase Value and Lifetime Value',\n",
    "        'Probability that the correlation occurred by chance',\n",
    "        'Significant if p-value < 0.05'\n",
    "    ]\n",
    "})\n",
    "\n",
    "# Output results\n",
    "correlation_results_df"
   ]
  },
  {
   "cell_type": "code",
   "execution_count": null,
   "metadata": {},
   "outputs": [
    {
     "data": {
      "application/vnd.plotly.v1+json": {
       "config": {
        "plotlyServerURL": "https://plot.ly"
       },
       "data": [
        {
         "marker": {
          "color": [
           "blue",
           "lightblue"
          ]
         },
         "text": [
          "27.5%",
          "72.5%"
         ],
         "textposition": "auto",
         "type": "bar",
         "width": 0.35,
         "x": [
          "First Purchase Revenue",
          "All Revenue less First Purchase"
         ],
         "y": [
          27.49263082541499,
          72.507369174585
         ]
        }
       ],
       "layout": {
        "bargap": 0.3,
        "height": 500,
        "template": {
         "data": {
          "bar": [
           {
            "error_x": {
             "color": "#2a3f5f"
            },
            "error_y": {
             "color": "#2a3f5f"
            },
            "marker": {
             "line": {
              "color": "white",
              "width": 0.5
             },
             "pattern": {
              "fillmode": "overlay",
              "size": 10,
              "solidity": 0.2
             }
            },
            "type": "bar"
           }
          ],
          "barpolar": [
           {
            "marker": {
             "line": {
              "color": "white",
              "width": 0.5
             },
             "pattern": {
              "fillmode": "overlay",
              "size": 10,
              "solidity": 0.2
             }
            },
            "type": "barpolar"
           }
          ],
          "carpet": [
           {
            "aaxis": {
             "endlinecolor": "#2a3f5f",
             "gridcolor": "#C8D4E3",
             "linecolor": "#C8D4E3",
             "minorgridcolor": "#C8D4E3",
             "startlinecolor": "#2a3f5f"
            },
            "baxis": {
             "endlinecolor": "#2a3f5f",
             "gridcolor": "#C8D4E3",
             "linecolor": "#C8D4E3",
             "minorgridcolor": "#C8D4E3",
             "startlinecolor": "#2a3f5f"
            },
            "type": "carpet"
           }
          ],
          "choropleth": [
           {
            "colorbar": {
             "outlinewidth": 0,
             "ticks": ""
            },
            "type": "choropleth"
           }
          ],
          "contour": [
           {
            "colorbar": {
             "outlinewidth": 0,
             "ticks": ""
            },
            "colorscale": [
             [
              0,
              "#0d0887"
             ],
             [
              0.1111111111111111,
              "#46039f"
             ],
             [
              0.2222222222222222,
              "#7201a8"
             ],
             [
              0.3333333333333333,
              "#9c179e"
             ],
             [
              0.4444444444444444,
              "#bd3786"
             ],
             [
              0.5555555555555556,
              "#d8576b"
             ],
             [
              0.6666666666666666,
              "#ed7953"
             ],
             [
              0.7777777777777778,
              "#fb9f3a"
             ],
             [
              0.8888888888888888,
              "#fdca26"
             ],
             [
              1,
              "#f0f921"
             ]
            ],
            "type": "contour"
           }
          ],
          "contourcarpet": [
           {
            "colorbar": {
             "outlinewidth": 0,
             "ticks": ""
            },
            "type": "contourcarpet"
           }
          ],
          "heatmap": [
           {
            "colorbar": {
             "outlinewidth": 0,
             "ticks": ""
            },
            "colorscale": [
             [
              0,
              "#0d0887"
             ],
             [
              0.1111111111111111,
              "#46039f"
             ],
             [
              0.2222222222222222,
              "#7201a8"
             ],
             [
              0.3333333333333333,
              "#9c179e"
             ],
             [
              0.4444444444444444,
              "#bd3786"
             ],
             [
              0.5555555555555556,
              "#d8576b"
             ],
             [
              0.6666666666666666,
              "#ed7953"
             ],
             [
              0.7777777777777778,
              "#fb9f3a"
             ],
             [
              0.8888888888888888,
              "#fdca26"
             ],
             [
              1,
              "#f0f921"
             ]
            ],
            "type": "heatmap"
           }
          ],
          "heatmapgl": [
           {
            "colorbar": {
             "outlinewidth": 0,
             "ticks": ""
            },
            "colorscale": [
             [
              0,
              "#0d0887"
             ],
             [
              0.1111111111111111,
              "#46039f"
             ],
             [
              0.2222222222222222,
              "#7201a8"
             ],
             [
              0.3333333333333333,
              "#9c179e"
             ],
             [
              0.4444444444444444,
              "#bd3786"
             ],
             [
              0.5555555555555556,
              "#d8576b"
             ],
             [
              0.6666666666666666,
              "#ed7953"
             ],
             [
              0.7777777777777778,
              "#fb9f3a"
             ],
             [
              0.8888888888888888,
              "#fdca26"
             ],
             [
              1,
              "#f0f921"
             ]
            ],
            "type": "heatmapgl"
           }
          ],
          "histogram": [
           {
            "marker": {
             "pattern": {
              "fillmode": "overlay",
              "size": 10,
              "solidity": 0.2
             }
            },
            "type": "histogram"
           }
          ],
          "histogram2d": [
           {
            "colorbar": {
             "outlinewidth": 0,
             "ticks": ""
            },
            "colorscale": [
             [
              0,
              "#0d0887"
             ],
             [
              0.1111111111111111,
              "#46039f"
             ],
             [
              0.2222222222222222,
              "#7201a8"
             ],
             [
              0.3333333333333333,
              "#9c179e"
             ],
             [
              0.4444444444444444,
              "#bd3786"
             ],
             [
              0.5555555555555556,
              "#d8576b"
             ],
             [
              0.6666666666666666,
              "#ed7953"
             ],
             [
              0.7777777777777778,
              "#fb9f3a"
             ],
             [
              0.8888888888888888,
              "#fdca26"
             ],
             [
              1,
              "#f0f921"
             ]
            ],
            "type": "histogram2d"
           }
          ],
          "histogram2dcontour": [
           {
            "colorbar": {
             "outlinewidth": 0,
             "ticks": ""
            },
            "colorscale": [
             [
              0,
              "#0d0887"
             ],
             [
              0.1111111111111111,
              "#46039f"
             ],
             [
              0.2222222222222222,
              "#7201a8"
             ],
             [
              0.3333333333333333,
              "#9c179e"
             ],
             [
              0.4444444444444444,
              "#bd3786"
             ],
             [
              0.5555555555555556,
              "#d8576b"
             ],
             [
              0.6666666666666666,
              "#ed7953"
             ],
             [
              0.7777777777777778,
              "#fb9f3a"
             ],
             [
              0.8888888888888888,
              "#fdca26"
             ],
             [
              1,
              "#f0f921"
             ]
            ],
            "type": "histogram2dcontour"
           }
          ],
          "mesh3d": [
           {
            "colorbar": {
             "outlinewidth": 0,
             "ticks": ""
            },
            "type": "mesh3d"
           }
          ],
          "parcoords": [
           {
            "line": {
             "colorbar": {
              "outlinewidth": 0,
              "ticks": ""
             }
            },
            "type": "parcoords"
           }
          ],
          "pie": [
           {
            "automargin": true,
            "type": "pie"
           }
          ],
          "scatter": [
           {
            "fillpattern": {
             "fillmode": "overlay",
             "size": 10,
             "solidity": 0.2
            },
            "type": "scatter"
           }
          ],
          "scatter3d": [
           {
            "line": {
             "colorbar": {
              "outlinewidth": 0,
              "ticks": ""
             }
            },
            "marker": {
             "colorbar": {
              "outlinewidth": 0,
              "ticks": ""
             }
            },
            "type": "scatter3d"
           }
          ],
          "scattercarpet": [
           {
            "marker": {
             "colorbar": {
              "outlinewidth": 0,
              "ticks": ""
             }
            },
            "type": "scattercarpet"
           }
          ],
          "scattergeo": [
           {
            "marker": {
             "colorbar": {
              "outlinewidth": 0,
              "ticks": ""
             }
            },
            "type": "scattergeo"
           }
          ],
          "scattergl": [
           {
            "marker": {
             "colorbar": {
              "outlinewidth": 0,
              "ticks": ""
             }
            },
            "type": "scattergl"
           }
          ],
          "scattermapbox": [
           {
            "marker": {
             "colorbar": {
              "outlinewidth": 0,
              "ticks": ""
             }
            },
            "type": "scattermapbox"
           }
          ],
          "scatterpolar": [
           {
            "marker": {
             "colorbar": {
              "outlinewidth": 0,
              "ticks": ""
             }
            },
            "type": "scatterpolar"
           }
          ],
          "scatterpolargl": [
           {
            "marker": {
             "colorbar": {
              "outlinewidth": 0,
              "ticks": ""
             }
            },
            "type": "scatterpolargl"
           }
          ],
          "scatterternary": [
           {
            "marker": {
             "colorbar": {
              "outlinewidth": 0,
              "ticks": ""
             }
            },
            "type": "scatterternary"
           }
          ],
          "surface": [
           {
            "colorbar": {
             "outlinewidth": 0,
             "ticks": ""
            },
            "colorscale": [
             [
              0,
              "#0d0887"
             ],
             [
              0.1111111111111111,
              "#46039f"
             ],
             [
              0.2222222222222222,
              "#7201a8"
             ],
             [
              0.3333333333333333,
              "#9c179e"
             ],
             [
              0.4444444444444444,
              "#bd3786"
             ],
             [
              0.5555555555555556,
              "#d8576b"
             ],
             [
              0.6666666666666666,
              "#ed7953"
             ],
             [
              0.7777777777777778,
              "#fb9f3a"
             ],
             [
              0.8888888888888888,
              "#fdca26"
             ],
             [
              1,
              "#f0f921"
             ]
            ],
            "type": "surface"
           }
          ],
          "table": [
           {
            "cells": {
             "fill": {
              "color": "#EBF0F8"
             },
             "line": {
              "color": "white"
             }
            },
            "header": {
             "fill": {
              "color": "#C8D4E3"
             },
             "line": {
              "color": "white"
             }
            },
            "type": "table"
           }
          ]
         },
         "layout": {
          "annotationdefaults": {
           "arrowcolor": "#2a3f5f",
           "arrowhead": 0,
           "arrowwidth": 1
          },
          "autotypenumbers": "strict",
          "coloraxis": {
           "colorbar": {
            "outlinewidth": 0,
            "ticks": ""
           }
          },
          "colorscale": {
           "diverging": [
            [
             0,
             "#8e0152"
            ],
            [
             0.1,
             "#c51b7d"
            ],
            [
             0.2,
             "#de77ae"
            ],
            [
             0.3,
             "#f1b6da"
            ],
            [
             0.4,
             "#fde0ef"
            ],
            [
             0.5,
             "#f7f7f7"
            ],
            [
             0.6,
             "#e6f5d0"
            ],
            [
             0.7,
             "#b8e186"
            ],
            [
             0.8,
             "#7fbc41"
            ],
            [
             0.9,
             "#4d9221"
            ],
            [
             1,
             "#276419"
            ]
           ],
           "sequential": [
            [
             0,
             "#0d0887"
            ],
            [
             0.1111111111111111,
             "#46039f"
            ],
            [
             0.2222222222222222,
             "#7201a8"
            ],
            [
             0.3333333333333333,
             "#9c179e"
            ],
            [
             0.4444444444444444,
             "#bd3786"
            ],
            [
             0.5555555555555556,
             "#d8576b"
            ],
            [
             0.6666666666666666,
             "#ed7953"
            ],
            [
             0.7777777777777778,
             "#fb9f3a"
            ],
            [
             0.8888888888888888,
             "#fdca26"
            ],
            [
             1,
             "#f0f921"
            ]
           ],
           "sequentialminus": [
            [
             0,
             "#0d0887"
            ],
            [
             0.1111111111111111,
             "#46039f"
            ],
            [
             0.2222222222222222,
             "#7201a8"
            ],
            [
             0.3333333333333333,
             "#9c179e"
            ],
            [
             0.4444444444444444,
             "#bd3786"
            ],
            [
             0.5555555555555556,
             "#d8576b"
            ],
            [
             0.6666666666666666,
             "#ed7953"
            ],
            [
             0.7777777777777778,
             "#fb9f3a"
            ],
            [
             0.8888888888888888,
             "#fdca26"
            ],
            [
             1,
             "#f0f921"
            ]
           ]
          },
          "colorway": [
           "#636efa",
           "#EF553B",
           "#00cc96",
           "#ab63fa",
           "#FFA15A",
           "#19d3f3",
           "#FF6692",
           "#B6E880",
           "#FF97FF",
           "#FECB52"
          ],
          "font": {
           "color": "#2a3f5f"
          },
          "geo": {
           "bgcolor": "white",
           "lakecolor": "white",
           "landcolor": "white",
           "showlakes": true,
           "showland": true,
           "subunitcolor": "#C8D4E3"
          },
          "hoverlabel": {
           "align": "left"
          },
          "hovermode": "closest",
          "mapbox": {
           "style": "light"
          },
          "paper_bgcolor": "white",
          "plot_bgcolor": "white",
          "polar": {
           "angularaxis": {
            "gridcolor": "#EBF0F8",
            "linecolor": "#EBF0F8",
            "ticks": ""
           },
           "bgcolor": "white",
           "radialaxis": {
            "gridcolor": "#EBF0F8",
            "linecolor": "#EBF0F8",
            "ticks": ""
           }
          },
          "scene": {
           "xaxis": {
            "backgroundcolor": "white",
            "gridcolor": "#DFE8F3",
            "gridwidth": 2,
            "linecolor": "#EBF0F8",
            "showbackground": true,
            "ticks": "",
            "zerolinecolor": "#EBF0F8"
           },
           "yaxis": {
            "backgroundcolor": "white",
            "gridcolor": "#DFE8F3",
            "gridwidth": 2,
            "linecolor": "#EBF0F8",
            "showbackground": true,
            "ticks": "",
            "zerolinecolor": "#EBF0F8"
           },
           "zaxis": {
            "backgroundcolor": "white",
            "gridcolor": "#DFE8F3",
            "gridwidth": 2,
            "linecolor": "#EBF0F8",
            "showbackground": true,
            "ticks": "",
            "zerolinecolor": "#EBF0F8"
           }
          },
          "shapedefaults": {
           "line": {
            "color": "#2a3f5f"
           }
          },
          "ternary": {
           "aaxis": {
            "gridcolor": "#DFE8F3",
            "linecolor": "#A2B1C6",
            "ticks": ""
           },
           "baxis": {
            "gridcolor": "#DFE8F3",
            "linecolor": "#A2B1C6",
            "ticks": ""
           },
           "bgcolor": "white",
           "caxis": {
            "gridcolor": "#DFE8F3",
            "linecolor": "#A2B1C6",
            "ticks": ""
           }
          },
          "title": {
           "x": 0.05
          },
          "xaxis": {
           "automargin": true,
           "gridcolor": "#EBF0F8",
           "linecolor": "#EBF0F8",
           "ticks": "",
           "title": {
            "standoff": 15
           },
           "zerolinecolor": "#EBF0F8",
           "zerolinewidth": 2
          },
          "yaxis": {
           "automargin": true,
           "gridcolor": "#EBF0F8",
           "linecolor": "#EBF0F8",
           "ticks": "",
           "title": {
            "standoff": 15
           },
           "zerolinecolor": "#EBF0F8",
           "zerolinewidth": 2
          }
         }
        },
        "title": {
         "text": "First Purchase vs. Total Revenue"
        },
        "width": 700,
        "xaxis": {
         "title": {
          "text": ""
         }
        },
        "yaxis": {
         "ticksuffix": "%",
         "title": {
          "text": "Percentage of Total Revenue"
         }
        }
       }
      }
     },
     "metadata": {},
     "output_type": "display_data"
    }
   ],
   "source": [
    "# -- 8. FIRST PURCHASE VS. TOTAL REVENUE --\n",
    "\n",
    "# Remove canceled/refunded, keep only revenue > 0\n",
    "data_m2_noCancel_noRefund = data_m2[\n",
    "    ~data_m2['order_status'].str.contains(\"|\".join(order_status_keyWords_Refund_Cancel), case=False, na=False) & \n",
    "    (data_m2['revenue_converted'] > 0)\n",
    "].copy()\n",
    "\n",
    "# Ensure numeric data\n",
    "data_m2_noCancel_noRefund['Grand Total (Base)'] = pd.to_numeric(data_m2_noCancel_noRefund['revenue_converted'], errors='coerce')\n",
    "\n",
    "# Calculate the first purchase value for each customer\n",
    "data_m2_noCancel_noRefund['First Purchase Value'] = data_m2_noCancel_noRefund.groupby('user_id')['Grand Total (Base)'].transform('first')\n",
    "\n",
    "# Group by customer to calculate total and first purchase revenues\n",
    "client_data = data_m2_noCancel_noRefund.groupby('user_id').agg({\n",
    "    'Grand Total (Base)': 'sum',\n",
    "    'First Purchase Value': 'first'\n",
    "})\n",
    "\n",
    "# Calculate metrics\n",
    "total_revenue = client_data['Grand Total (Base)'].sum()\n",
    "first_purchase_revenue = client_data['First Purchase Value'].sum()\n",
    "revenue_less_first_purchase = total_revenue - first_purchase_revenue\n",
    "\n",
    "# Create a Plotly bar chart\n",
    "fig_first_purchase_vs_revenue = go.Figure()\n",
    "\n",
    "# Add bars for first purchase revenue and remaining revenue\n",
    "fig_first_purchase_vs_revenue.add_trace(go.Bar(\n",
    "    x=[\"First Purchase Revenue\", \"All Revenue less First Purchase\"],\n",
    "    y=[first_purchase_revenue / total_revenue * 100, revenue_less_first_purchase / total_revenue * 100],\n",
    "    text=[f\"{first_purchase_revenue / total_revenue * 100:.1f}%\", f\"{revenue_less_first_purchase / total_revenue * 100:.1f}%\"],  # Rounded to 1 decimal place\n",
    "    textposition='auto',\n",
    "    marker=dict(color=['blue', 'lightblue']),\n",
    "    width=0.35  # Reduce the width of the bars\n",
    "))\n",
    "\n",
    "# Customize the layout\n",
    "fig_first_purchase_vs_revenue.update_layout(\n",
    "    title=\"First Purchase vs. Total Revenue\",\n",
    "    xaxis_title=\"\",  # Remove the x-axis title\n",
    "    yaxis_title=\"Percentage of Total Revenue\",\n",
    "    yaxis=dict(ticksuffix=\"%\"),\n",
    "    template=\"plotly_white\",\n",
    "    width=700,\n",
    "    height=500,\n",
    "    bargap=0.3,  # Add some gap between the bars\n",
    ")\n",
    "\n",
    "# Show the chart\n",
    "fig_first_purchase_vs_revenue.show()\n",
    "\n"
   ]
  },
  {
   "cell_type": "code",
   "execution_count": null,
   "metadata": {},
   "outputs": [],
   "source": []
  },
  {
   "cell_type": "code",
   "execution_count": null,
   "metadata": {},
   "outputs": [
    {
     "data": {
      "text/html": [
       "<div>\n",
       "<style scoped>\n",
       "    .dataframe tbody tr th:only-of-type {\n",
       "        vertical-align: middle;\n",
       "    }\n",
       "\n",
       "    .dataframe tbody tr th {\n",
       "        vertical-align: top;\n",
       "    }\n",
       "\n",
       "    .dataframe thead th {\n",
       "        text-align: right;\n",
       "    }\n",
       "</style>\n",
       "<table border=\"1\" class=\"dataframe\">\n",
       "  <thead>\n",
       "    <tr style=\"text-align: right;\">\n",
       "      <th></th>\n",
       "      <th>Data</th>\n",
       "      <th>% of Revenue</th>\n",
       "      <th>Revenue</th>\n",
       "    </tr>\n",
       "  </thead>\n",
       "  <tbody>\n",
       "    <tr>\n",
       "      <th>0</th>\n",
       "      <td>First Purchase Revenue</td>\n",
       "      <td>27.5%</td>\n",
       "      <td>$49638751</td>\n",
       "    </tr>\n",
       "    <tr>\n",
       "      <th>1</th>\n",
       "      <td>All Revenue - First Purchase</td>\n",
       "      <td>72.5%</td>\n",
       "      <td>$130914180</td>\n",
       "    </tr>\n",
       "  </tbody>\n",
       "</table>\n",
       "</div>"
      ],
      "text/plain": [
       "                           Data % of Revenue     Revenue\n",
       "0        First Purchase Revenue        27.5%   $49638751\n",
       "1  All Revenue - First Purchase        72.5%  $130914180"
      ]
     },
     "execution_count": 22,
     "metadata": {},
     "output_type": "execute_result"
    }
   ],
   "source": [
    "# -- 9. FIRST PURCHASE VS. TOTAL REVENUE --\n",
    "# Remove canceled/refunded, keep only revenue > 0\n",
    "data_m2_noCancel_noRefund = data_m2[\n",
    "    ~data_m2['order_status'].str.contains(\"|\".join(order_status_keyWords_Refund_Cancel), case=False, na=False) & \n",
    "    (data_m2['revenue_converted'] > 0)\n",
    "].copy()\n",
    "# Ensure numeric data\n",
    "data_m2_noCancel_noRefund['Grand Total (Base)'] = pd.to_numeric(data_m2_noCancel_noRefund['revenue_converted'], errors='coerce')\n",
    "\n",
    "# Calculate the first purchase value for each customer\n",
    "data_m2_noCancel_noRefund['First Purchase Value'] = data_m2_noCancel_noRefund.groupby('user_id')['Grand Total (Base)'].transform('first')\n",
    "\n",
    "# Group by customer to calculate total and first purchase revenues\n",
    "client_data = data_m2_noCancel_noRefund.groupby('user_id').agg({\n",
    "    'Grand Total (Base)': 'sum',\n",
    "    'First Purchase Value': 'first'\n",
    "})\n",
    "\n",
    "# Calculate metrics\n",
    "total_revenue = client_data['Grand Total (Base)'].sum()\n",
    "first_purchase_revenue = client_data['First Purchase Value'].sum()\n",
    "revenue_less_first_purchase = total_revenue - first_purchase_revenue\n",
    "\n",
    "# Calculate percentages\n",
    "first_purchase_percentage = (first_purchase_revenue / total_revenue) * 100\n",
    "remaining_revenue_percentage = (revenue_less_first_purchase / total_revenue) * 100\n",
    "\n",
    "# Create the table as a pandas DataFrame\n",
    "first_purchase_vs_total_revenue_df = pd.DataFrame({\n",
    "    \"Data\": [\"First Purchase Revenue\", \"All Revenue - First Purchase\"],\n",
    "    \"% of Revenue\": [f\"{first_purchase_percentage:.1f}%\", f\"{remaining_revenue_percentage:.1f}%\"],\n",
    "    \"Revenue\": [f\"${first_purchase_revenue:.0f}\", f\"${revenue_less_first_purchase:.0f}\"]\n",
    "})\n",
    "\n",
    "\n",
    "# Display the table\n",
    "first_purchase_vs_total_revenue_df"
   ]
  },
  {
   "cell_type": "code",
   "execution_count": 23,
   "metadata": {},
   "outputs": [
    {
     "data": {
      "application/vnd.plotly.v1+json": {
       "config": {
        "plotlyServerURL": "https://plot.ly"
       },
       "data": [
        {
         "alignmentgroup": "True",
         "hovertemplate": "Metric=% of Revenue<br>User Origin=%{x}<br>Percentage (%)=%{y}<extra></extra>",
         "legendgroup": "% of Revenue",
         "marker": {
          "color": "lightblue",
          "pattern": {
           "shape": ""
          }
         },
         "name": "% of Revenue",
         "offsetgroup": "% of Revenue",
         "orientation": "v",
         "showlegend": true,
         "textposition": "auto",
         "type": "bar",
         "x": [
          "Direct",
          "Google",
          "Newsletter",
          "Fb",
          "Ig",
          "Dailyteemail",
          "L.facebook.com",
          "M.facebook.com",
          "Instagram.com",
          "Lm.facebook.com"
         ],
         "xaxis": "x",
         "y": [
          27.16598529519314,
          22.75647908825035,
          12.27955059997748,
          12.127235687987996,
          6.665759464423554,
          5.2650950390018565,
          3.5598161126129657,
          2.128774504776393,
          0.984301731221807,
          0.9672427776657326
         ],
         "yaxis": "y"
        },
        {
         "alignmentgroup": "True",
         "hovertemplate": "Metric=% of Items Purchased<br>User Origin=%{x}<br>Percentage (%)=%{y}<extra></extra>",
         "legendgroup": "% of Items Purchased",
         "marker": {
          "color": "lightgreen",
          "pattern": {
           "shape": ""
          }
         },
         "name": "% of Items Purchased",
         "offsetgroup": "% of Items Purchased",
         "orientation": "v",
         "showlegend": true,
         "textposition": "auto",
         "type": "bar",
         "x": [
          "Direct",
          "Google",
          "Newsletter",
          "Fb",
          "Ig",
          "Dailyteemail",
          "L.facebook.com",
          "M.facebook.com",
          "Instagram.com",
          "Lm.facebook.com"
         ],
         "xaxis": "x",
         "y": [
          27.79707594808848,
          22.253313480849318,
          13.911491951185095,
          9.784030984679609,
          5.025294953577727,
          5.529806099010023,
          3.820729293491629,
          2.2659436085616536,
          1.171718075193211,
          1.1635447324733845
         ],
         "yaxis": "y"
        }
       ],
       "layout": {
        "barmode": "group",
        "legend": {
         "orientation": "h",
         "title": {
          "text": ""
         },
         "tracegroupgap": 0,
         "x": 0.5,
         "xanchor": "center",
         "y": 1.02,
         "yanchor": "bottom"
        },
        "paper_bgcolor": "white",
        "plot_bgcolor": "white",
        "template": {
         "data": {
          "bar": [
           {
            "error_x": {
             "color": "#2a3f5f"
            },
            "error_y": {
             "color": "#2a3f5f"
            },
            "marker": {
             "line": {
              "color": "#E5ECF6",
              "width": 0.5
             },
             "pattern": {
              "fillmode": "overlay",
              "size": 10,
              "solidity": 0.2
             }
            },
            "type": "bar"
           }
          ],
          "barpolar": [
           {
            "marker": {
             "line": {
              "color": "#E5ECF6",
              "width": 0.5
             },
             "pattern": {
              "fillmode": "overlay",
              "size": 10,
              "solidity": 0.2
             }
            },
            "type": "barpolar"
           }
          ],
          "carpet": [
           {
            "aaxis": {
             "endlinecolor": "#2a3f5f",
             "gridcolor": "white",
             "linecolor": "white",
             "minorgridcolor": "white",
             "startlinecolor": "#2a3f5f"
            },
            "baxis": {
             "endlinecolor": "#2a3f5f",
             "gridcolor": "white",
             "linecolor": "white",
             "minorgridcolor": "white",
             "startlinecolor": "#2a3f5f"
            },
            "type": "carpet"
           }
          ],
          "choropleth": [
           {
            "colorbar": {
             "outlinewidth": 0,
             "ticks": ""
            },
            "type": "choropleth"
           }
          ],
          "contour": [
           {
            "colorbar": {
             "outlinewidth": 0,
             "ticks": ""
            },
            "colorscale": [
             [
              0,
              "#0d0887"
             ],
             [
              0.1111111111111111,
              "#46039f"
             ],
             [
              0.2222222222222222,
              "#7201a8"
             ],
             [
              0.3333333333333333,
              "#9c179e"
             ],
             [
              0.4444444444444444,
              "#bd3786"
             ],
             [
              0.5555555555555556,
              "#d8576b"
             ],
             [
              0.6666666666666666,
              "#ed7953"
             ],
             [
              0.7777777777777778,
              "#fb9f3a"
             ],
             [
              0.8888888888888888,
              "#fdca26"
             ],
             [
              1,
              "#f0f921"
             ]
            ],
            "type": "contour"
           }
          ],
          "contourcarpet": [
           {
            "colorbar": {
             "outlinewidth": 0,
             "ticks": ""
            },
            "type": "contourcarpet"
           }
          ],
          "heatmap": [
           {
            "colorbar": {
             "outlinewidth": 0,
             "ticks": ""
            },
            "colorscale": [
             [
              0,
              "#0d0887"
             ],
             [
              0.1111111111111111,
              "#46039f"
             ],
             [
              0.2222222222222222,
              "#7201a8"
             ],
             [
              0.3333333333333333,
              "#9c179e"
             ],
             [
              0.4444444444444444,
              "#bd3786"
             ],
             [
              0.5555555555555556,
              "#d8576b"
             ],
             [
              0.6666666666666666,
              "#ed7953"
             ],
             [
              0.7777777777777778,
              "#fb9f3a"
             ],
             [
              0.8888888888888888,
              "#fdca26"
             ],
             [
              1,
              "#f0f921"
             ]
            ],
            "type": "heatmap"
           }
          ],
          "heatmapgl": [
           {
            "colorbar": {
             "outlinewidth": 0,
             "ticks": ""
            },
            "colorscale": [
             [
              0,
              "#0d0887"
             ],
             [
              0.1111111111111111,
              "#46039f"
             ],
             [
              0.2222222222222222,
              "#7201a8"
             ],
             [
              0.3333333333333333,
              "#9c179e"
             ],
             [
              0.4444444444444444,
              "#bd3786"
             ],
             [
              0.5555555555555556,
              "#d8576b"
             ],
             [
              0.6666666666666666,
              "#ed7953"
             ],
             [
              0.7777777777777778,
              "#fb9f3a"
             ],
             [
              0.8888888888888888,
              "#fdca26"
             ],
             [
              1,
              "#f0f921"
             ]
            ],
            "type": "heatmapgl"
           }
          ],
          "histogram": [
           {
            "marker": {
             "pattern": {
              "fillmode": "overlay",
              "size": 10,
              "solidity": 0.2
             }
            },
            "type": "histogram"
           }
          ],
          "histogram2d": [
           {
            "colorbar": {
             "outlinewidth": 0,
             "ticks": ""
            },
            "colorscale": [
             [
              0,
              "#0d0887"
             ],
             [
              0.1111111111111111,
              "#46039f"
             ],
             [
              0.2222222222222222,
              "#7201a8"
             ],
             [
              0.3333333333333333,
              "#9c179e"
             ],
             [
              0.4444444444444444,
              "#bd3786"
             ],
             [
              0.5555555555555556,
              "#d8576b"
             ],
             [
              0.6666666666666666,
              "#ed7953"
             ],
             [
              0.7777777777777778,
              "#fb9f3a"
             ],
             [
              0.8888888888888888,
              "#fdca26"
             ],
             [
              1,
              "#f0f921"
             ]
            ],
            "type": "histogram2d"
           }
          ],
          "histogram2dcontour": [
           {
            "colorbar": {
             "outlinewidth": 0,
             "ticks": ""
            },
            "colorscale": [
             [
              0,
              "#0d0887"
             ],
             [
              0.1111111111111111,
              "#46039f"
             ],
             [
              0.2222222222222222,
              "#7201a8"
             ],
             [
              0.3333333333333333,
              "#9c179e"
             ],
             [
              0.4444444444444444,
              "#bd3786"
             ],
             [
              0.5555555555555556,
              "#d8576b"
             ],
             [
              0.6666666666666666,
              "#ed7953"
             ],
             [
              0.7777777777777778,
              "#fb9f3a"
             ],
             [
              0.8888888888888888,
              "#fdca26"
             ],
             [
              1,
              "#f0f921"
             ]
            ],
            "type": "histogram2dcontour"
           }
          ],
          "mesh3d": [
           {
            "colorbar": {
             "outlinewidth": 0,
             "ticks": ""
            },
            "type": "mesh3d"
           }
          ],
          "parcoords": [
           {
            "line": {
             "colorbar": {
              "outlinewidth": 0,
              "ticks": ""
             }
            },
            "type": "parcoords"
           }
          ],
          "pie": [
           {
            "automargin": true,
            "type": "pie"
           }
          ],
          "scatter": [
           {
            "fillpattern": {
             "fillmode": "overlay",
             "size": 10,
             "solidity": 0.2
            },
            "type": "scatter"
           }
          ],
          "scatter3d": [
           {
            "line": {
             "colorbar": {
              "outlinewidth": 0,
              "ticks": ""
             }
            },
            "marker": {
             "colorbar": {
              "outlinewidth": 0,
              "ticks": ""
             }
            },
            "type": "scatter3d"
           }
          ],
          "scattercarpet": [
           {
            "marker": {
             "colorbar": {
              "outlinewidth": 0,
              "ticks": ""
             }
            },
            "type": "scattercarpet"
           }
          ],
          "scattergeo": [
           {
            "marker": {
             "colorbar": {
              "outlinewidth": 0,
              "ticks": ""
             }
            },
            "type": "scattergeo"
           }
          ],
          "scattergl": [
           {
            "marker": {
             "colorbar": {
              "outlinewidth": 0,
              "ticks": ""
             }
            },
            "type": "scattergl"
           }
          ],
          "scattermapbox": [
           {
            "marker": {
             "colorbar": {
              "outlinewidth": 0,
              "ticks": ""
             }
            },
            "type": "scattermapbox"
           }
          ],
          "scatterpolar": [
           {
            "marker": {
             "colorbar": {
              "outlinewidth": 0,
              "ticks": ""
             }
            },
            "type": "scatterpolar"
           }
          ],
          "scatterpolargl": [
           {
            "marker": {
             "colorbar": {
              "outlinewidth": 0,
              "ticks": ""
             }
            },
            "type": "scatterpolargl"
           }
          ],
          "scatterternary": [
           {
            "marker": {
             "colorbar": {
              "outlinewidth": 0,
              "ticks": ""
             }
            },
            "type": "scatterternary"
           }
          ],
          "surface": [
           {
            "colorbar": {
             "outlinewidth": 0,
             "ticks": ""
            },
            "colorscale": [
             [
              0,
              "#0d0887"
             ],
             [
              0.1111111111111111,
              "#46039f"
             ],
             [
              0.2222222222222222,
              "#7201a8"
             ],
             [
              0.3333333333333333,
              "#9c179e"
             ],
             [
              0.4444444444444444,
              "#bd3786"
             ],
             [
              0.5555555555555556,
              "#d8576b"
             ],
             [
              0.6666666666666666,
              "#ed7953"
             ],
             [
              0.7777777777777778,
              "#fb9f3a"
             ],
             [
              0.8888888888888888,
              "#fdca26"
             ],
             [
              1,
              "#f0f921"
             ]
            ],
            "type": "surface"
           }
          ],
          "table": [
           {
            "cells": {
             "fill": {
              "color": "#EBF0F8"
             },
             "line": {
              "color": "white"
             }
            },
            "header": {
             "fill": {
              "color": "#C8D4E3"
             },
             "line": {
              "color": "white"
             }
            },
            "type": "table"
           }
          ]
         },
         "layout": {
          "annotationdefaults": {
           "arrowcolor": "#2a3f5f",
           "arrowhead": 0,
           "arrowwidth": 1
          },
          "autotypenumbers": "strict",
          "coloraxis": {
           "colorbar": {
            "outlinewidth": 0,
            "ticks": ""
           }
          },
          "colorscale": {
           "diverging": [
            [
             0,
             "#8e0152"
            ],
            [
             0.1,
             "#c51b7d"
            ],
            [
             0.2,
             "#de77ae"
            ],
            [
             0.3,
             "#f1b6da"
            ],
            [
             0.4,
             "#fde0ef"
            ],
            [
             0.5,
             "#f7f7f7"
            ],
            [
             0.6,
             "#e6f5d0"
            ],
            [
             0.7,
             "#b8e186"
            ],
            [
             0.8,
             "#7fbc41"
            ],
            [
             0.9,
             "#4d9221"
            ],
            [
             1,
             "#276419"
            ]
           ],
           "sequential": [
            [
             0,
             "#0d0887"
            ],
            [
             0.1111111111111111,
             "#46039f"
            ],
            [
             0.2222222222222222,
             "#7201a8"
            ],
            [
             0.3333333333333333,
             "#9c179e"
            ],
            [
             0.4444444444444444,
             "#bd3786"
            ],
            [
             0.5555555555555556,
             "#d8576b"
            ],
            [
             0.6666666666666666,
             "#ed7953"
            ],
            [
             0.7777777777777778,
             "#fb9f3a"
            ],
            [
             0.8888888888888888,
             "#fdca26"
            ],
            [
             1,
             "#f0f921"
            ]
           ],
           "sequentialminus": [
            [
             0,
             "#0d0887"
            ],
            [
             0.1111111111111111,
             "#46039f"
            ],
            [
             0.2222222222222222,
             "#7201a8"
            ],
            [
             0.3333333333333333,
             "#9c179e"
            ],
            [
             0.4444444444444444,
             "#bd3786"
            ],
            [
             0.5555555555555556,
             "#d8576b"
            ],
            [
             0.6666666666666666,
             "#ed7953"
            ],
            [
             0.7777777777777778,
             "#fb9f3a"
            ],
            [
             0.8888888888888888,
             "#fdca26"
            ],
            [
             1,
             "#f0f921"
            ]
           ]
          },
          "colorway": [
           "#636efa",
           "#EF553B",
           "#00cc96",
           "#ab63fa",
           "#FFA15A",
           "#19d3f3",
           "#FF6692",
           "#B6E880",
           "#FF97FF",
           "#FECB52"
          ],
          "font": {
           "color": "#2a3f5f"
          },
          "geo": {
           "bgcolor": "white",
           "lakecolor": "white",
           "landcolor": "#E5ECF6",
           "showlakes": true,
           "showland": true,
           "subunitcolor": "white"
          },
          "hoverlabel": {
           "align": "left"
          },
          "hovermode": "closest",
          "mapbox": {
           "style": "light"
          },
          "paper_bgcolor": "white",
          "plot_bgcolor": "#E5ECF6",
          "polar": {
           "angularaxis": {
            "gridcolor": "white",
            "linecolor": "white",
            "ticks": ""
           },
           "bgcolor": "#E5ECF6",
           "radialaxis": {
            "gridcolor": "white",
            "linecolor": "white",
            "ticks": ""
           }
          },
          "scene": {
           "xaxis": {
            "backgroundcolor": "#E5ECF6",
            "gridcolor": "white",
            "gridwidth": 2,
            "linecolor": "white",
            "showbackground": true,
            "ticks": "",
            "zerolinecolor": "white"
           },
           "yaxis": {
            "backgroundcolor": "#E5ECF6",
            "gridcolor": "white",
            "gridwidth": 2,
            "linecolor": "white",
            "showbackground": true,
            "ticks": "",
            "zerolinecolor": "white"
           },
           "zaxis": {
            "backgroundcolor": "#E5ECF6",
            "gridcolor": "white",
            "gridwidth": 2,
            "linecolor": "white",
            "showbackground": true,
            "ticks": "",
            "zerolinecolor": "white"
           }
          },
          "shapedefaults": {
           "line": {
            "color": "#2a3f5f"
           }
          },
          "ternary": {
           "aaxis": {
            "gridcolor": "white",
            "linecolor": "white",
            "ticks": ""
           },
           "baxis": {
            "gridcolor": "white",
            "linecolor": "white",
            "ticks": ""
           },
           "bgcolor": "#E5ECF6",
           "caxis": {
            "gridcolor": "white",
            "linecolor": "white",
            "ticks": ""
           }
          },
          "title": {
           "x": 0.05
          },
          "xaxis": {
           "automargin": true,
           "gridcolor": "white",
           "linecolor": "white",
           "ticks": "",
           "title": {
            "standoff": 15
           },
           "zerolinecolor": "white",
           "zerolinewidth": 2
          },
          "yaxis": {
           "automargin": true,
           "gridcolor": "white",
           "linecolor": "white",
           "ticks": "",
           "title": {
            "standoff": 15
           },
           "zerolinecolor": "white",
           "zerolinewidth": 2
          }
         }
        },
        "title": {
         "text": "User Origin Metrics: % of Revenue vs. % of Items Purchased"
        },
        "xaxis": {
         "anchor": "y",
         "domain": [
          0,
          1
         ],
         "tickangle": -45,
         "title": {
          "text": ""
         }
        },
        "yaxis": {
         "anchor": "x",
         "domain": [
          0,
          1
         ],
         "title": {
          "text": "Percentage (%)"
         }
        }
       }
      }
     },
     "metadata": {},
     "output_type": "display_data"
    }
   ],
   "source": [
    "import pandas as pd\n",
    "import plotly.express as px\n",
    "\n",
    "# Group by user origin (traffic_source) and aggregate revenue and quantity\n",
    "grouped = data_ga4_source.groupby(\"traffic_source\", as_index=False).agg({\n",
    "    \"revenue\": \"sum\",\n",
    "    \"quantity\": \"sum\"\n",
    "})\n",
    "\n",
    "# Rename 'traffic_source' to 'User Origin'\n",
    "grouped.rename(columns={\"traffic_source\": \"User Origin\"}, inplace=True)\n",
    "\n",
    "# Calculate total revenue and total items purchased\n",
    "total_revenue = grouped[\"revenue\"].sum()\n",
    "total_items = grouped[\"quantity\"].sum()\n",
    "\n",
    "# Calculate percentage metrics\n",
    "grouped[\"% of Revenue\"] = grouped[\"revenue\"] / total_revenue * 100\n",
    "grouped[\"% of Items Purchased\"] = grouped[\"quantity\"] / total_items * 100\n",
    "\n",
    "# Optionally, sort by revenue and select the top 10 user origins\n",
    "grouped.sort_values(by=\"revenue\", ascending=False, inplace=True)\n",
    "top10 = grouped.head(10)\n",
    "\n",
    "# Reshape data for plotting\n",
    "# Convert the dataframe from wide to long format for plotting\n",
    "top10_long = top10.melt(\n",
    "    id_vars=[\"User Origin\"],\n",
    "    value_vars=[\"% of Revenue\", \"% of Items Purchased\"],\n",
    "    var_name=\"Metric\",\n",
    "    value_name=\"Percentage\"\n",
    ")\n",
    "\n",
    "# Create the grouped bar chart with specified colors and legend position\n",
    "# Define a color mapping for the metrics\n",
    "color_map = {\n",
    "    \"% of Revenue\": \"lightblue\",\n",
    "    \"% of Items Purchased\": \"lightgreen\"\n",
    "}\n",
    "\n",
    "fig_user_origin_chart = px.bar(\n",
    "    top10_long,\n",
    "    x=\"User Origin\",\n",
    "    y=\"Percentage\",\n",
    "    color=\"Metric\",\n",
    "    barmode=\"group\",  # places bars side-by-side\n",
    "    title=\"User Origin Metrics: % of Revenue vs. % of Items Purchased\",\n",
    "    labels={\"Percentage\": \"Percentage (%)\"},\n",
    "    color_discrete_map=color_map  # apply our custom colors\n",
    ")\n",
    "\n",
    "# Update layout to place the legend at the top center, remove x-axis title and \"Metric\" from the legend\n",
    "fig_user_origin_chart.update_layout(\n",
    "    xaxis_title='',  # Remove the x-axis title\n",
    "    legend_title='',  # Remove the legend title (\"Metric\")\n",
    "    legend=dict(\n",
    "        orientation=\"h\",\n",
    "        yanchor=\"bottom\",\n",
    "        y=1.02,\n",
    "        xanchor=\"center\",\n",
    "        x=0.5\n",
    "    ),\n",
    "    xaxis_tickangle=-45,  # Rotate x-axis labels for better readability\n",
    "    plot_bgcolor=\"white\",\n",
    "    paper_bgcolor=\"white\"\n",
    ")\n",
    "\n",
    "# Display the figure\n",
    "fig_user_origin_chart.show()\n"
   ]
  },
  {
   "cell_type": "code",
   "execution_count": 24,
   "metadata": {},
   "outputs": [
    {
     "data": {
      "text/html": [
       "<div>\n",
       "<style scoped>\n",
       "    .dataframe tbody tr th:only-of-type {\n",
       "        vertical-align: middle;\n",
       "    }\n",
       "\n",
       "    .dataframe tbody tr th {\n",
       "        vertical-align: top;\n",
       "    }\n",
       "\n",
       "    .dataframe thead th {\n",
       "        text-align: right;\n",
       "    }\n",
       "</style>\n",
       "<table border=\"1\" class=\"dataframe\">\n",
       "  <thead>\n",
       "    <tr style=\"text-align: right;\">\n",
       "      <th></th>\n",
       "      <th>User Origin</th>\n",
       "      <th>% of Revenue</th>\n",
       "      <th>% of Items Purchased</th>\n",
       "      <th>Average Revenue per Item</th>\n",
       "    </tr>\n",
       "  </thead>\n",
       "  <tbody>\n",
       "    <tr>\n",
       "      <th>75</th>\n",
       "      <td>Direct</td>\n",
       "      <td>27.2%</td>\n",
       "      <td>27.8%</td>\n",
       "      <td>$17.0</td>\n",
       "    </tr>\n",
       "    <tr>\n",
       "      <th>128</th>\n",
       "      <td>Google</td>\n",
       "      <td>22.8%</td>\n",
       "      <td>22.3%</td>\n",
       "      <td>$17.8</td>\n",
       "    </tr>\n",
       "    <tr>\n",
       "      <th>235</th>\n",
       "      <td>Newsletter</td>\n",
       "      <td>12.3%</td>\n",
       "      <td>13.9%</td>\n",
       "      <td>$15.3</td>\n",
       "    </tr>\n",
       "    <tr>\n",
       "      <th>104</th>\n",
       "      <td>Fb</td>\n",
       "      <td>12.1%</td>\n",
       "      <td>9.8%</td>\n",
       "      <td>$21.5</td>\n",
       "    </tr>\n",
       "    <tr>\n",
       "      <th>143</th>\n",
       "      <td>Ig</td>\n",
       "      <td>6.7%</td>\n",
       "      <td>5.0%</td>\n",
       "      <td>$23.0</td>\n",
       "    </tr>\n",
       "    <tr>\n",
       "      <th>58</th>\n",
       "      <td>Dailyteemail</td>\n",
       "      <td>5.3%</td>\n",
       "      <td>5.5%</td>\n",
       "      <td>$16.5</td>\n",
       "    </tr>\n",
       "    <tr>\n",
       "      <th>163</th>\n",
       "      <td>L.facebook.com</td>\n",
       "      <td>3.6%</td>\n",
       "      <td>3.8%</td>\n",
       "      <td>$16.2</td>\n",
       "    </tr>\n",
       "    <tr>\n",
       "      <th>190</th>\n",
       "      <td>M.facebook.com</td>\n",
       "      <td>2.1%</td>\n",
       "      <td>2.3%</td>\n",
       "      <td>$16.3</td>\n",
       "    </tr>\n",
       "    <tr>\n",
       "      <th>148</th>\n",
       "      <td>Instagram.com</td>\n",
       "      <td>1.0%</td>\n",
       "      <td>1.2%</td>\n",
       "      <td>$14.6</td>\n",
       "    </tr>\n",
       "    <tr>\n",
       "      <th>184</th>\n",
       "      <td>Lm.facebook.com</td>\n",
       "      <td>1.0%</td>\n",
       "      <td>1.2%</td>\n",
       "      <td>$14.4</td>\n",
       "    </tr>\n",
       "  </tbody>\n",
       "</table>\n",
       "</div>"
      ],
      "text/plain": [
       "         User Origin % of Revenue % of Items Purchased  \\\n",
       "75            Direct        27.2%                27.8%   \n",
       "128           Google        22.8%                22.3%   \n",
       "235       Newsletter        12.3%                13.9%   \n",
       "104               Fb        12.1%                 9.8%   \n",
       "143               Ig         6.7%                 5.0%   \n",
       "58      Dailyteemail         5.3%                 5.5%   \n",
       "163   L.facebook.com         3.6%                 3.8%   \n",
       "190   M.facebook.com         2.1%                 2.3%   \n",
       "148    Instagram.com         1.0%                 1.2%   \n",
       "184  Lm.facebook.com         1.0%                 1.2%   \n",
       "\n",
       "    Average Revenue per Item  \n",
       "75                     $17.0  \n",
       "128                    $17.8  \n",
       "235                    $15.3  \n",
       "104                    $21.5  \n",
       "143                    $23.0  \n",
       "58                     $16.5  \n",
       "163                    $16.2  \n",
       "190                    $16.3  \n",
       "148                    $14.6  \n",
       "184                    $14.4  "
      ]
     },
     "execution_count": 24,
     "metadata": {},
     "output_type": "execute_result"
    }
   ],
   "source": [
    "#  -- 11. USER ORIGIN TABLE --\n",
    "\n",
    "# Group by user origin (traffic_source) and aggregate revenue and quantity\n",
    "grouped = data_ga4_source.groupby(\"traffic_source\", as_index=False).agg({\n",
    "    \"revenue\": \"sum\",\n",
    "    \"quantity\": \"sum\"\n",
    "})\n",
    "\n",
    "# Rename 'traffic_source' to 'User Origin'\n",
    "grouped.rename(columns={\"traffic_source\": \"User Origin\"}, inplace=True)\n",
    "\n",
    "# Calculate totals\n",
    "total_revenue = grouped[\"revenue\"].sum()\n",
    "total_items = grouped[\"quantity\"].sum()\n",
    "\n",
    "# Calculate percentages and average revenue\n",
    "grouped[\"% of Revenue\"] = grouped[\"revenue\"] / total_revenue * 100\n",
    "grouped[\"% of Items Purchased\"] = grouped[\"quantity\"] / total_items * 100\n",
    "grouped[\"Average Revenue per Item\"] = grouped[\"revenue\"] / grouped[\"quantity\"]\n",
    "\n",
    "# Replace NaN/inf values (e.g., where quantity = 0)\n",
    "grouped[\"Average Revenue per Item\"] = grouped[\"Average Revenue per Item\"].fillna(0).replace([float('inf'), -float('inf')], 0)\n",
    "\n",
    "# Format columns\n",
    "grouped[\"% of Revenue\"] = grouped[\"% of Revenue\"].map(\"{:.1f}%\".format)\n",
    "grouped[\"% of Items Purchased\"] = grouped[\"% of Items Purchased\"].map(\"{:.1f}%\".format)\n",
    "grouped[\"Average Revenue per Item\"] = grouped[\"Average Revenue per Item\"].map(\"${:,.1f}\".format)\n",
    "\n",
    "# Sort by total revenue desc and keep top 10\n",
    "grouped.sort_values(by=\"revenue\", ascending=False, inplace=True)\n",
    "top10 = grouped.head(10)\n",
    "\n",
    "# Create final table (you can include 'revenue' and 'quantity' columns too if needed)\n",
    "client_origin_df = top10[[\n",
    "    \"User Origin\",\n",
    "    \"% of Revenue\",\n",
    "    \"% of Items Purchased\",\n",
    "    \"Average Revenue per Item\"\n",
    "]]\n",
    "\n",
    "client_origin_df"
   ]
  },
  {
   "cell_type": "code",
   "execution_count": null,
   "metadata": {},
   "outputs": [
    {
     "data": {
      "application/vnd.plotly.v1+json": {
       "config": {
        "plotlyServerURL": "https://plot.ly"
       },
       "data": [
        {
         "alignmentgroup": "True",
         "hovertemplate": "Category=%{y}<br>% of First Purchases=%{x}<extra></extra>",
         "legendgroup": "Mens",
         "marker": {
          "color": "lightgreen",
          "pattern": {
           "shape": ""
          }
         },
         "name": "Mens",
         "offsetgroup": "Mens",
         "orientation": "h",
         "showlegend": true,
         "textposition": "auto",
         "type": "bar",
         "x": [
          77.65189316113883
         ],
         "xaxis": "x",
         "y": [
          "Mens"
         ],
         "yaxis": "y"
        },
        {
         "alignmentgroup": "True",
         "hovertemplate": "Category=%{y}<br>% of First Purchases=%{x}<extra></extra>",
         "legendgroup": "Womens",
         "marker": {
          "color": "lightgreen",
          "pattern": {
           "shape": ""
          }
         },
         "name": "Womens",
         "offsetgroup": "Womens",
         "orientation": "h",
         "showlegend": true,
         "textposition": "auto",
         "type": "bar",
         "x": [
          13.137657763428237
         ],
         "xaxis": "x",
         "y": [
          "Womens"
         ],
         "yaxis": "y"
        },
        {
         "alignmentgroup": "True",
         "hovertemplate": "Category=%{y}<br>% of First Purchases=%{x}<extra></extra>",
         "legendgroup": "Sticker",
         "marker": {
          "color": "lightgreen",
          "pattern": {
           "shape": ""
          }
         },
         "name": "Sticker",
         "offsetgroup": "Sticker",
         "orientation": "h",
         "showlegend": true,
         "textposition": "auto",
         "type": "bar",
         "x": [
          5.001467566774289
         ],
         "xaxis": "x",
         "y": [
          "Sticker"
         ],
         "yaxis": "y"
        },
        {
         "alignmentgroup": "True",
         "hovertemplate": "Category=%{y}<br>% of First Purchases=%{x}<extra></extra>",
         "legendgroup": "Kids",
         "marker": {
          "color": "lightgreen",
          "pattern": {
           "shape": ""
          }
         },
         "name": "Kids",
         "offsetgroup": "Kids",
         "orientation": "h",
         "showlegend": true,
         "textposition": "auto",
         "type": "bar",
         "x": [
          1.9724097446433813
         ],
         "xaxis": "x",
         "y": [
          "Kids"
         ],
         "yaxis": "y"
        },
        {
         "alignmentgroup": "True",
         "hovertemplate": "Category=%{y}<br>% of First Purchases=%{x}<extra></extra>",
         "legendgroup": "Print",
         "marker": {
          "color": "lightgreen",
          "pattern": {
           "shape": ""
          }
         },
         "name": "Print",
         "offsetgroup": "Print",
         "orientation": "h",
         "showlegend": true,
         "textposition": "auto",
         "type": "bar",
         "x": [
          0.9862048723216906
         ],
         "xaxis": "x",
         "y": [
          "Print"
         ],
         "yaxis": "y"
        },
        {
         "alignmentgroup": "True",
         "hovertemplate": "Category=%{y}<br>% of First Purchases=%{x}<extra></extra>",
         "legendgroup": "Sweater",
         "marker": {
          "color": "lightgreen",
          "pattern": {
           "shape": ""
          }
         },
         "name": "Sweater",
         "offsetgroup": "Sweater",
         "orientation": "h",
         "showlegend": true,
         "textposition": "auto",
         "type": "bar",
         "x": [
          0.4754916348693866
         ],
         "xaxis": "x",
         "y": [
          "Sweater"
         ],
         "yaxis": "y"
        },
        {
         "alignmentgroup": "True",
         "hovertemplate": "Category=%{y}<br>% of First Purchases=%{x}<extra></extra>",
         "legendgroup": "Hoodie",
         "marker": {
          "color": "lightgreen",
          "pattern": {
           "shape": ""
          }
         },
         "name": "Hoodie",
         "offsetgroup": "Hoodie",
         "orientation": "h",
         "showlegend": true,
         "textposition": "auto",
         "type": "bar",
         "x": [
          0.407983563252128
         ],
         "xaxis": "x",
         "y": [
          "Hoodie"
         ],
         "yaxis": "y"
        },
        {
         "alignmentgroup": "True",
         "hovertemplate": "Category=%{y}<br>% of First Purchases=%{x}<extra></extra>",
         "legendgroup": "Pullover",
         "marker": {
          "color": "lightgreen",
          "pattern": {
           "shape": ""
          }
         },
         "name": "Pullover",
         "offsetgroup": "Pullover",
         "orientation": "h",
         "showlegend": true,
         "textposition": "auto",
         "type": "bar",
         "x": [
          0.3639565600234811
         ],
         "xaxis": "x",
         "y": [
          "Pullover"
         ],
         "yaxis": "y"
        },
        {
         "alignmentgroup": "True",
         "hovertemplate": "Category=%{y}<br>% of First Purchases=%{x}<extra></extra>",
         "legendgroup": "(Not Set)",
         "marker": {
          "color": "lightgreen",
          "pattern": {
           "shape": ""
          }
         },
         "name": "(Not Set)",
         "offsetgroup": "(Not Set)",
         "orientation": "h",
         "showlegend": true,
         "textposition": "auto",
         "type": "bar",
         "x": [
          0.0029351335485764602
         ],
         "xaxis": "x",
         "y": [
          "(Not Set)"
         ],
         "yaxis": "y"
        }
       ],
       "layout": {
        "bargap": 0.3,
        "barmode": "relative",
        "legend": {
         "title": {
          "text": "Category"
         },
         "tracegroupgap": 0
        },
        "paper_bgcolor": "white",
        "plot_bgcolor": "white",
        "showlegend": false,
        "template": {
         "data": {
          "bar": [
           {
            "error_x": {
             "color": "#2a3f5f"
            },
            "error_y": {
             "color": "#2a3f5f"
            },
            "marker": {
             "line": {
              "color": "#E5ECF6",
              "width": 0.5
             },
             "pattern": {
              "fillmode": "overlay",
              "size": 10,
              "solidity": 0.2
             }
            },
            "type": "bar"
           }
          ],
          "barpolar": [
           {
            "marker": {
             "line": {
              "color": "#E5ECF6",
              "width": 0.5
             },
             "pattern": {
              "fillmode": "overlay",
              "size": 10,
              "solidity": 0.2
             }
            },
            "type": "barpolar"
           }
          ],
          "carpet": [
           {
            "aaxis": {
             "endlinecolor": "#2a3f5f",
             "gridcolor": "white",
             "linecolor": "white",
             "minorgridcolor": "white",
             "startlinecolor": "#2a3f5f"
            },
            "baxis": {
             "endlinecolor": "#2a3f5f",
             "gridcolor": "white",
             "linecolor": "white",
             "minorgridcolor": "white",
             "startlinecolor": "#2a3f5f"
            },
            "type": "carpet"
           }
          ],
          "choropleth": [
           {
            "colorbar": {
             "outlinewidth": 0,
             "ticks": ""
            },
            "type": "choropleth"
           }
          ],
          "contour": [
           {
            "colorbar": {
             "outlinewidth": 0,
             "ticks": ""
            },
            "colorscale": [
             [
              0,
              "#0d0887"
             ],
             [
              0.1111111111111111,
              "#46039f"
             ],
             [
              0.2222222222222222,
              "#7201a8"
             ],
             [
              0.3333333333333333,
              "#9c179e"
             ],
             [
              0.4444444444444444,
              "#bd3786"
             ],
             [
              0.5555555555555556,
              "#d8576b"
             ],
             [
              0.6666666666666666,
              "#ed7953"
             ],
             [
              0.7777777777777778,
              "#fb9f3a"
             ],
             [
              0.8888888888888888,
              "#fdca26"
             ],
             [
              1,
              "#f0f921"
             ]
            ],
            "type": "contour"
           }
          ],
          "contourcarpet": [
           {
            "colorbar": {
             "outlinewidth": 0,
             "ticks": ""
            },
            "type": "contourcarpet"
           }
          ],
          "heatmap": [
           {
            "colorbar": {
             "outlinewidth": 0,
             "ticks": ""
            },
            "colorscale": [
             [
              0,
              "#0d0887"
             ],
             [
              0.1111111111111111,
              "#46039f"
             ],
             [
              0.2222222222222222,
              "#7201a8"
             ],
             [
              0.3333333333333333,
              "#9c179e"
             ],
             [
              0.4444444444444444,
              "#bd3786"
             ],
             [
              0.5555555555555556,
              "#d8576b"
             ],
             [
              0.6666666666666666,
              "#ed7953"
             ],
             [
              0.7777777777777778,
              "#fb9f3a"
             ],
             [
              0.8888888888888888,
              "#fdca26"
             ],
             [
              1,
              "#f0f921"
             ]
            ],
            "type": "heatmap"
           }
          ],
          "heatmapgl": [
           {
            "colorbar": {
             "outlinewidth": 0,
             "ticks": ""
            },
            "colorscale": [
             [
              0,
              "#0d0887"
             ],
             [
              0.1111111111111111,
              "#46039f"
             ],
             [
              0.2222222222222222,
              "#7201a8"
             ],
             [
              0.3333333333333333,
              "#9c179e"
             ],
             [
              0.4444444444444444,
              "#bd3786"
             ],
             [
              0.5555555555555556,
              "#d8576b"
             ],
             [
              0.6666666666666666,
              "#ed7953"
             ],
             [
              0.7777777777777778,
              "#fb9f3a"
             ],
             [
              0.8888888888888888,
              "#fdca26"
             ],
             [
              1,
              "#f0f921"
             ]
            ],
            "type": "heatmapgl"
           }
          ],
          "histogram": [
           {
            "marker": {
             "pattern": {
              "fillmode": "overlay",
              "size": 10,
              "solidity": 0.2
             }
            },
            "type": "histogram"
           }
          ],
          "histogram2d": [
           {
            "colorbar": {
             "outlinewidth": 0,
             "ticks": ""
            },
            "colorscale": [
             [
              0,
              "#0d0887"
             ],
             [
              0.1111111111111111,
              "#46039f"
             ],
             [
              0.2222222222222222,
              "#7201a8"
             ],
             [
              0.3333333333333333,
              "#9c179e"
             ],
             [
              0.4444444444444444,
              "#bd3786"
             ],
             [
              0.5555555555555556,
              "#d8576b"
             ],
             [
              0.6666666666666666,
              "#ed7953"
             ],
             [
              0.7777777777777778,
              "#fb9f3a"
             ],
             [
              0.8888888888888888,
              "#fdca26"
             ],
             [
              1,
              "#f0f921"
             ]
            ],
            "type": "histogram2d"
           }
          ],
          "histogram2dcontour": [
           {
            "colorbar": {
             "outlinewidth": 0,
             "ticks": ""
            },
            "colorscale": [
             [
              0,
              "#0d0887"
             ],
             [
              0.1111111111111111,
              "#46039f"
             ],
             [
              0.2222222222222222,
              "#7201a8"
             ],
             [
              0.3333333333333333,
              "#9c179e"
             ],
             [
              0.4444444444444444,
              "#bd3786"
             ],
             [
              0.5555555555555556,
              "#d8576b"
             ],
             [
              0.6666666666666666,
              "#ed7953"
             ],
             [
              0.7777777777777778,
              "#fb9f3a"
             ],
             [
              0.8888888888888888,
              "#fdca26"
             ],
             [
              1,
              "#f0f921"
             ]
            ],
            "type": "histogram2dcontour"
           }
          ],
          "mesh3d": [
           {
            "colorbar": {
             "outlinewidth": 0,
             "ticks": ""
            },
            "type": "mesh3d"
           }
          ],
          "parcoords": [
           {
            "line": {
             "colorbar": {
              "outlinewidth": 0,
              "ticks": ""
             }
            },
            "type": "parcoords"
           }
          ],
          "pie": [
           {
            "automargin": true,
            "type": "pie"
           }
          ],
          "scatter": [
           {
            "fillpattern": {
             "fillmode": "overlay",
             "size": 10,
             "solidity": 0.2
            },
            "type": "scatter"
           }
          ],
          "scatter3d": [
           {
            "line": {
             "colorbar": {
              "outlinewidth": 0,
              "ticks": ""
             }
            },
            "marker": {
             "colorbar": {
              "outlinewidth": 0,
              "ticks": ""
             }
            },
            "type": "scatter3d"
           }
          ],
          "scattercarpet": [
           {
            "marker": {
             "colorbar": {
              "outlinewidth": 0,
              "ticks": ""
             }
            },
            "type": "scattercarpet"
           }
          ],
          "scattergeo": [
           {
            "marker": {
             "colorbar": {
              "outlinewidth": 0,
              "ticks": ""
             }
            },
            "type": "scattergeo"
           }
          ],
          "scattergl": [
           {
            "marker": {
             "colorbar": {
              "outlinewidth": 0,
              "ticks": ""
             }
            },
            "type": "scattergl"
           }
          ],
          "scattermapbox": [
           {
            "marker": {
             "colorbar": {
              "outlinewidth": 0,
              "ticks": ""
             }
            },
            "type": "scattermapbox"
           }
          ],
          "scatterpolar": [
           {
            "marker": {
             "colorbar": {
              "outlinewidth": 0,
              "ticks": ""
             }
            },
            "type": "scatterpolar"
           }
          ],
          "scatterpolargl": [
           {
            "marker": {
             "colorbar": {
              "outlinewidth": 0,
              "ticks": ""
             }
            },
            "type": "scatterpolargl"
           }
          ],
          "scatterternary": [
           {
            "marker": {
             "colorbar": {
              "outlinewidth": 0,
              "ticks": ""
             }
            },
            "type": "scatterternary"
           }
          ],
          "surface": [
           {
            "colorbar": {
             "outlinewidth": 0,
             "ticks": ""
            },
            "colorscale": [
             [
              0,
              "#0d0887"
             ],
             [
              0.1111111111111111,
              "#46039f"
             ],
             [
              0.2222222222222222,
              "#7201a8"
             ],
             [
              0.3333333333333333,
              "#9c179e"
             ],
             [
              0.4444444444444444,
              "#bd3786"
             ],
             [
              0.5555555555555556,
              "#d8576b"
             ],
             [
              0.6666666666666666,
              "#ed7953"
             ],
             [
              0.7777777777777778,
              "#fb9f3a"
             ],
             [
              0.8888888888888888,
              "#fdca26"
             ],
             [
              1,
              "#f0f921"
             ]
            ],
            "type": "surface"
           }
          ],
          "table": [
           {
            "cells": {
             "fill": {
              "color": "#EBF0F8"
             },
             "line": {
              "color": "white"
             }
            },
            "header": {
             "fill": {
              "color": "#C8D4E3"
             },
             "line": {
              "color": "white"
             }
            },
            "type": "table"
           }
          ]
         },
         "layout": {
          "annotationdefaults": {
           "arrowcolor": "#2a3f5f",
           "arrowhead": 0,
           "arrowwidth": 1
          },
          "autotypenumbers": "strict",
          "coloraxis": {
           "colorbar": {
            "outlinewidth": 0,
            "ticks": ""
           }
          },
          "colorscale": {
           "diverging": [
            [
             0,
             "#8e0152"
            ],
            [
             0.1,
             "#c51b7d"
            ],
            [
             0.2,
             "#de77ae"
            ],
            [
             0.3,
             "#f1b6da"
            ],
            [
             0.4,
             "#fde0ef"
            ],
            [
             0.5,
             "#f7f7f7"
            ],
            [
             0.6,
             "#e6f5d0"
            ],
            [
             0.7,
             "#b8e186"
            ],
            [
             0.8,
             "#7fbc41"
            ],
            [
             0.9,
             "#4d9221"
            ],
            [
             1,
             "#276419"
            ]
           ],
           "sequential": [
            [
             0,
             "#0d0887"
            ],
            [
             0.1111111111111111,
             "#46039f"
            ],
            [
             0.2222222222222222,
             "#7201a8"
            ],
            [
             0.3333333333333333,
             "#9c179e"
            ],
            [
             0.4444444444444444,
             "#bd3786"
            ],
            [
             0.5555555555555556,
             "#d8576b"
            ],
            [
             0.6666666666666666,
             "#ed7953"
            ],
            [
             0.7777777777777778,
             "#fb9f3a"
            ],
            [
             0.8888888888888888,
             "#fdca26"
            ],
            [
             1,
             "#f0f921"
            ]
           ],
           "sequentialminus": [
            [
             0,
             "#0d0887"
            ],
            [
             0.1111111111111111,
             "#46039f"
            ],
            [
             0.2222222222222222,
             "#7201a8"
            ],
            [
             0.3333333333333333,
             "#9c179e"
            ],
            [
             0.4444444444444444,
             "#bd3786"
            ],
            [
             0.5555555555555556,
             "#d8576b"
            ],
            [
             0.6666666666666666,
             "#ed7953"
            ],
            [
             0.7777777777777778,
             "#fb9f3a"
            ],
            [
             0.8888888888888888,
             "#fdca26"
            ],
            [
             1,
             "#f0f921"
            ]
           ]
          },
          "colorway": [
           "#636efa",
           "#EF553B",
           "#00cc96",
           "#ab63fa",
           "#FFA15A",
           "#19d3f3",
           "#FF6692",
           "#B6E880",
           "#FF97FF",
           "#FECB52"
          ],
          "font": {
           "color": "#2a3f5f"
          },
          "geo": {
           "bgcolor": "white",
           "lakecolor": "white",
           "landcolor": "#E5ECF6",
           "showlakes": true,
           "showland": true,
           "subunitcolor": "white"
          },
          "hoverlabel": {
           "align": "left"
          },
          "hovermode": "closest",
          "mapbox": {
           "style": "light"
          },
          "paper_bgcolor": "white",
          "plot_bgcolor": "#E5ECF6",
          "polar": {
           "angularaxis": {
            "gridcolor": "white",
            "linecolor": "white",
            "ticks": ""
           },
           "bgcolor": "#E5ECF6",
           "radialaxis": {
            "gridcolor": "white",
            "linecolor": "white",
            "ticks": ""
           }
          },
          "scene": {
           "xaxis": {
            "backgroundcolor": "#E5ECF6",
            "gridcolor": "white",
            "gridwidth": 2,
            "linecolor": "white",
            "showbackground": true,
            "ticks": "",
            "zerolinecolor": "white"
           },
           "yaxis": {
            "backgroundcolor": "#E5ECF6",
            "gridcolor": "white",
            "gridwidth": 2,
            "linecolor": "white",
            "showbackground": true,
            "ticks": "",
            "zerolinecolor": "white"
           },
           "zaxis": {
            "backgroundcolor": "#E5ECF6",
            "gridcolor": "white",
            "gridwidth": 2,
            "linecolor": "white",
            "showbackground": true,
            "ticks": "",
            "zerolinecolor": "white"
           }
          },
          "shapedefaults": {
           "line": {
            "color": "#2a3f5f"
           }
          },
          "ternary": {
           "aaxis": {
            "gridcolor": "white",
            "linecolor": "white",
            "ticks": ""
           },
           "baxis": {
            "gridcolor": "white",
            "linecolor": "white",
            "ticks": ""
           },
           "bgcolor": "#E5ECF6",
           "caxis": {
            "gridcolor": "white",
            "linecolor": "white",
            "ticks": ""
           }
          },
          "title": {
           "x": 0.05
          },
          "xaxis": {
           "automargin": true,
           "gridcolor": "white",
           "linecolor": "white",
           "ticks": "",
           "title": {
            "standoff": 15
           },
           "zerolinecolor": "white",
           "zerolinewidth": 2
          },
          "yaxis": {
           "automargin": true,
           "gridcolor": "white",
           "linecolor": "white",
           "ticks": "",
           "title": {
            "standoff": 15
           },
           "zerolinecolor": "white",
           "zerolinewidth": 2
          }
         }
        },
        "title": {
         "text": "Distribution of First Purchase Category (Top 10% Customers)"
        },
        "xaxis": {
         "anchor": "y",
         "domain": [
          0,
          1
         ],
         "tickformat": ".0f",
         "title": {
          "text": "% of First Purchases"
         }
        },
        "yaxis": {
         "anchor": "x",
         "categoryarray": [
          "(Not Set)",
          "Pullover",
          "Hoodie",
          "Sweater",
          "Print",
          "Kids",
          "Sticker",
          "Womens",
          "Mens"
         ],
         "categoryorder": "total ascending",
         "domain": [
          0,
          1
         ],
         "title": {
          "text": "Category"
         }
        }
       }
      }
     },
     "metadata": {},
     "output_type": "display_data"
    }
   ],
   "source": [
    "# -- 12. PRODUCTS FOR TOP 10% CUSTOMERS --\n",
    "\n",
    "\"\"\"\n",
    "Example of comment:\n",
    "Among the top 10% of customers, 40% began their journey with premium sneakers, 30% with sportswear bundles, and 20% with high-value accessories.\n",
    "\"\"\"\n",
    "# Remove canceled/refunded, keep only revenue > 0\n",
    "data_ga4_item_noCancel_noRefund = data_ga4_item[\n",
    "    ~data_ga4_item['order_status'].str.contains(\"|\".join(order_status_keyWords_Refund_Cancel), case=False, na=False) & \n",
    "    (data_ga4_item['revenue'] > 0)\n",
    "].copy()\n",
    "\n",
    "# Group by customer to get total revenue\n",
    "customer_revenue = (\n",
    "    data_ga4_item_noCancel_noRefund.groupby('user_id', as_index=False)['revenue']\n",
    "      .sum()\n",
    "      .rename(columns={'revenue': 'total_revenue'})\n",
    ")\n",
    "\n",
    "# Calculate the revenue threshold for top 10%\n",
    "threshold_10pct = customer_revenue['total_revenue'].quantile(0.90)\n",
    "\n",
    "# Get the list (subset) of top 10% customers\n",
    "top_10pct_customers = customer_revenue[\n",
    "    customer_revenue['total_revenue'] >= threshold_10pct\n",
    "]['user_id']\n",
    "\n",
    "# -- 2. Find each top-10%-customer's first purchase category\n",
    "# We'll only consider rows from those top 10% customers\n",
    "df_top_10pct = data_ga4_item_noCancel_noRefund[data_ga4_item_noCancel_noRefund['user_id'].isin(top_10pct_customers)].copy()\n",
    "\n",
    "# Sort by date to identify first purchase\n",
    "df_top_10pct = df_top_10pct.sort_values(by=['user_id', 'datetime_x'])\n",
    "\n",
    "# Drop duplicates so each customer is kept at his/her earliest purchase record\n",
    "df_first_purchase = (\n",
    "    df_top_10pct\n",
    "    .drop_duplicates(subset=['user_id'], keep='first')\n",
    "    .copy()\n",
    ")\n",
    "\n",
    "# --3. Calculate the percentage share of each first-purchase category\n",
    "category_counts = (\n",
    "    df_first_purchase.groupby(category_to_analyse)\n",
    "    .size()\n",
    "    .reset_index(name='count')\n",
    "    .sort_values('count', ascending=False)\n",
    ")\n",
    "\n",
    "total_first_purchases = category_counts['count'].sum()\n",
    "category_counts['percentage'] = (category_counts['count'] / total_first_purchases) * 100\n",
    "\n",
    "# -- 4. Plot horizontal bar chart with Plotly\n",
    "fig_category_percentage_chart = px.bar(\n",
    "    category_counts,\n",
    "    x='percentage',               # numeric axis\n",
    "    y=category_to_analyse,            # category axis\n",
    "    orientation='h',             # horizontal bars\n",
    "    color=category_to_analyse,        # color by category (optional)\n",
    "    title='Distribution of First Purchase Category (Top 10% Customers)',\n",
    "    labels={'percentage': '% of First Purchases', category_to_analyse: 'Category'}\n",
    ")\n",
    "\n",
    "fig_category_percentage_chart.update_traces(marker_color='lightgreen')  # Change 'blue' to any desired color\n",
    "\n",
    "\n",
    "# Make layout adjustments for readability\n",
    "fig_category_percentage_chart.update_layout(\n",
    "    showlegend=False,  # Hide legend if categories are self-explanatory\n",
    "    xaxis_tickformat=\".0f\",  # Format percentages\n",
    "    yaxis={'categoryorder':'total ascending'},  # Largest bar at top\n",
    "    bargap=0.3,\n",
    "    plot_bgcolor=\"white\",  # Set plot background to white\n",
    "    paper_bgcolor=\"white\"  # Set overall figure background to white\n",
    ")\n",
    "\n",
    "fig_category_percentage_chart.show()\n"
   ]
  },
  {
   "cell_type": "code",
   "execution_count": null,
   "metadata": {},
   "outputs": [
    {
     "data": {
      "text/html": [
       "<div>\n",
       "<style scoped>\n",
       "    .dataframe tbody tr th:only-of-type {\n",
       "        vertical-align: middle;\n",
       "    }\n",
       "\n",
       "    .dataframe tbody tr th {\n",
       "        vertical-align: top;\n",
       "    }\n",
       "\n",
       "    .dataframe thead th {\n",
       "        text-align: right;\n",
       "    }\n",
       "</style>\n",
       "<table border=\"1\" class=\"dataframe\">\n",
       "  <thead>\n",
       "    <tr style=\"text-align: right;\">\n",
       "      <th></th>\n",
       "      <th>Category Name</th>\n",
       "      <th>% of First Purchases (Top 10%)</th>\n",
       "      <th>Correlation with LTV (Top 10%)</th>\n",
       "    </tr>\n",
       "  </thead>\n",
       "  <tbody>\n",
       "    <tr>\n",
       "      <th>3</th>\n",
       "      <td>Mens</td>\n",
       "      <td>77.7%</td>\n",
       "      <td>-0.02</td>\n",
       "    </tr>\n",
       "    <tr>\n",
       "      <th>8</th>\n",
       "      <td>Womens</td>\n",
       "      <td>13.1%</td>\n",
       "      <td>-0.00</td>\n",
       "    </tr>\n",
       "    <tr>\n",
       "      <th>6</th>\n",
       "      <td>Sticker</td>\n",
       "      <td>5.0%</td>\n",
       "      <td>0.03</td>\n",
       "    </tr>\n",
       "    <tr>\n",
       "      <th>2</th>\n",
       "      <td>Kids</td>\n",
       "      <td>2.0%</td>\n",
       "      <td>0.01</td>\n",
       "    </tr>\n",
       "    <tr>\n",
       "      <th>4</th>\n",
       "      <td>Print</td>\n",
       "      <td>1.0%</td>\n",
       "      <td>-0.00</td>\n",
       "    </tr>\n",
       "    <tr>\n",
       "      <th>7</th>\n",
       "      <td>Sweater</td>\n",
       "      <td>0.5%</td>\n",
       "      <td>-0.00</td>\n",
       "    </tr>\n",
       "    <tr>\n",
       "      <th>1</th>\n",
       "      <td>Hoodie</td>\n",
       "      <td>0.4%</td>\n",
       "      <td>0.00</td>\n",
       "    </tr>\n",
       "    <tr>\n",
       "      <th>5</th>\n",
       "      <td>Pullover</td>\n",
       "      <td>0.4%</td>\n",
       "      <td>-0.01</td>\n",
       "    </tr>\n",
       "    <tr>\n",
       "      <th>0</th>\n",
       "      <td>(Not Set)</td>\n",
       "      <td>0.0%</td>\n",
       "      <td>-0.00</td>\n",
       "    </tr>\n",
       "  </tbody>\n",
       "</table>\n",
       "</div>"
      ],
      "text/plain": [
       "  Category Name % of First Purchases (Top 10%)  Correlation with LTV (Top 10%)\n",
       "3          Mens                          77.7%                           -0.02\n",
       "8        Womens                          13.1%                           -0.00\n",
       "6       Sticker                           5.0%                            0.03\n",
       "2          Kids                           2.0%                            0.01\n",
       "4         Print                           1.0%                           -0.00\n",
       "7       Sweater                           0.5%                           -0.00\n",
       "1        Hoodie                           0.4%                            0.00\n",
       "5      Pullover                           0.4%                           -0.01\n",
       "0     (Not Set)                           0.0%                           -0.00"
      ]
     },
     "execution_count": 26,
     "metadata": {},
     "output_type": "execute_result"
    }
   ],
   "source": [
    "# -- 13. SUMMARY AND CORRELATION CATEGORY ANALYSIS --\n",
    "\n",
    "\"\"\"\n",
    "Example of comment:\n",
    "The highest positive correlation is about 0.23 for \"Products/FPGA Boards/Expansion Modules/Pmods\". That is a mild positive relationship with LTV. It suggests that customers who spend more on that category tend to have higher LTV, but it’s not a very strong correlation.\n",
    "Many other categories show small (or near-zero) correlations, meaning they don’t appear to strongly drive LTV in a linear sense.\n",
    "A high transaction count + low correlation likely means that category is universal or low-value. Many customers buy it regardless of whether they go on to become high-LTV or low-LTV.\n",
    "A smaller transaction count + high positive correlation might indicate a specialized product that predicts or drives higher overall spend.\n",
    "\"\"\"\n",
    "# Remove canceled/refunded, keep only revenue > 0\n",
    "data_ga4_item_noCancel_noRefund = data_ga4_item[\n",
    "    ~data_ga4_item['order_status'].str.contains(\"|\".join(order_status_keyWords_Refund_Cancel), \n",
    "                                                case=False, na=False) &\n",
    "    (data_ga4_item['revenue'] > 0)\n",
    "].copy()\n",
    "\n",
    "# Group by customer to get total revenue\n",
    "customer_revenue = (\n",
    "    data_ga4_item_noCancel_noRefund.groupby('user_id', as_index=False)['revenue']\n",
    "      .sum()\n",
    "      .rename(columns={'revenue': 'total_revenue'})\n",
    ")\n",
    "\n",
    "# Calculate the revenue threshold for top 10%\n",
    "threshold_10pct = customer_revenue['total_revenue'].quantile(0.90)\n",
    "\n",
    "# Get the list (subset) of top 10% customers\n",
    "top_10pct_customers = customer_revenue[\n",
    "    customer_revenue['total_revenue'] >= threshold_10pct\n",
    "]['user_id']\n",
    "\n",
    "# -- 2. Find each top-10%-customer's first purchase category\n",
    "# We'll only consider rows from those top 10% customers\n",
    "df_top_10pct = data_ga4_item_noCancel_noRefund[\n",
    "    data_ga4_item_noCancel_noRefund['user_id'].isin(top_10pct_customers)\n",
    "].copy()\n",
    "\n",
    "# 2) Identify each user's FIRST purchase (among top 10% only)\n",
    "df_sorted = df_top_10pct.sort_values(by=['user_id', 'datetime_x'])\n",
    "df_first_purchase = df_sorted.drop_duplicates(subset=['user_id'], keep='first').copy()\n",
    "\n",
    "# We'll focus on category_to_analyse\n",
    "df_first_purchase = df_first_purchase[['user_id', category_to_analyse]].copy()\n",
    "\n",
    "# 3) Create a one‐hot encoding for first‐purchase categories\n",
    "df_one_hot = pd.get_dummies(\n",
    "    df_first_purchase[['user_id', category_to_analyse]],\n",
    "    columns=[category_to_analyse],\n",
    "    prefix='firstCat',\n",
    "    dtype=int\n",
    ")\n",
    "df_one_hot.set_index('user_id', inplace=True)\n",
    "\n",
    "# 4) Get total LTV by user (top 10% only)\n",
    "df_ltv = (\n",
    "    df_top_10pct.groupby('user_id', as_index=False)['revenue']\n",
    "               .sum()\n",
    "               .rename(columns={'revenue': 'LTV'})\n",
    ")\n",
    "\n",
    "# Merge one‐hot table with LTV table\n",
    "df_merged = df_one_hot.merge(df_ltv, left_index=True, right_on='user_id', how='left')\n",
    "\n",
    "# 5) Correlation of first‐purchase category with LTV\n",
    "df_merged_numeric = df_merged.drop(columns=['user_id']).select_dtypes(['int', 'float'])\n",
    "corr_matrix = df_merged_numeric.corr()\n",
    "corr_with_ltv = corr_matrix['LTV'].drop('LTV')  # exclude LTV row itself\n",
    "\n",
    "# 6) Count how many users had each first‐purchase category (in top 10%)\n",
    "df_cat_counts = (\n",
    "    df_first_purchase.groupby(category_to_analyse)\n",
    "                     .size()\n",
    "                     .reset_index(name='num_users')\n",
    ")\n",
    "total_first_purchases = df_cat_counts['num_users'].sum()\n",
    "df_cat_counts['pct_total'] = (df_cat_counts['num_users'] / total_first_purchases) * 100\n",
    "\n",
    "# 7) Convert correlation result into DataFrame & map dummy columns back\n",
    "corr_df = corr_with_ltv.to_frame(name='correlation_with_ltv').reset_index()\n",
    "corr_df[category_to_analyse] = corr_df['index'].str.replace('^firstCat_', '', regex=True)\n",
    "\n",
    "category_repartition_df = pd.merge(\n",
    "    df_cat_counts,\n",
    "    corr_df,\n",
    "    on=category_to_analyse,\n",
    "    how='left'\n",
    ")\n",
    "\n",
    "# Rename columns to highlight Top 10% context\n",
    "category_repartition_df.rename(columns={\n",
    "    category_to_analyse: 'Category Name',\n",
    "    'num_users': 'Num First Purchases (Top 10%)',\n",
    "    'pct_total': '% of First Purchases (Top 10%)',\n",
    "    'correlation_with_ltv': 'Correlation with LTV (Top 10%)'\n",
    "}, inplace=True)\n",
    "\n",
    "# Sort and tidy\n",
    "category_repartition_df.sort_values(by='Num First Purchases (Top 10%)', ascending=False, inplace=True)\n",
    "category_repartition_df['% of First Purchases (Top 10%)'] = (category_repartition_df['% of First Purchases (Top 10%)'].round(1)).astype(str) + '%'\n",
    "category_repartition_df['Correlation with LTV (Top 10%)'] = category_repartition_df['Correlation with LTV (Top 10%)'].round(2)\n",
    "\n",
    "# Final summary\n",
    "category_repartition_df = category_repartition_df[['Category Name',\n",
    "            '% of First Purchases (Top 10%)', 'Correlation with LTV (Top 10%)']].head(10)\n",
    "\n",
    "category_repartition_df"
   ]
  },
  {
   "cell_type": "code",
   "execution_count": 27,
   "metadata": {},
   "outputs": [
    {
     "data": {
      "application/vnd.plotly.v1+json": {
       "config": {
        "plotlyServerURL": "https://plot.ly"
       },
       "data": [
        {
         "line": {
          "color": "orange"
         },
         "mode": "lines",
         "name": "Discount Ratio",
         "type": "scatter",
         "x": [
          "2010-11-01T00:00:00",
          "2010-12-01T00:00:00",
          "2011-01-01T00:00:00",
          "2011-02-01T00:00:00",
          "2011-03-01T00:00:00",
          "2011-04-01T00:00:00",
          "2011-05-01T00:00:00",
          "2011-06-01T00:00:00",
          "2011-07-01T00:00:00",
          "2011-08-01T00:00:00",
          "2011-09-01T00:00:00",
          "2011-10-01T00:00:00",
          "2011-11-01T00:00:00",
          "2011-12-01T00:00:00",
          "2012-01-01T00:00:00",
          "2012-02-01T00:00:00",
          "2012-03-01T00:00:00",
          "2012-04-01T00:00:00",
          "2012-05-01T00:00:00",
          "2012-06-01T00:00:00",
          "2012-07-01T00:00:00",
          "2012-08-01T00:00:00",
          "2012-09-01T00:00:00",
          "2012-10-01T00:00:00",
          "2012-11-01T00:00:00",
          "2012-12-01T00:00:00",
          "2013-01-01T00:00:00",
          "2013-02-01T00:00:00",
          "2013-03-01T00:00:00",
          "2013-04-01T00:00:00",
          "2013-05-01T00:00:00",
          "2013-06-01T00:00:00",
          "2013-07-01T00:00:00",
          "2013-08-01T00:00:00",
          "2013-09-01T00:00:00",
          "2013-10-01T00:00:00",
          "2013-11-01T00:00:00",
          "2013-12-01T00:00:00",
          "2014-01-01T00:00:00",
          "2014-02-01T00:00:00",
          "2014-03-01T00:00:00",
          "2014-04-01T00:00:00",
          "2014-05-01T00:00:00",
          "2014-06-01T00:00:00",
          "2014-07-01T00:00:00",
          "2014-08-01T00:00:00",
          "2014-09-01T00:00:00",
          "2014-10-01T00:00:00",
          "2014-11-01T00:00:00",
          "2014-12-01T00:00:00",
          "2015-01-01T00:00:00",
          "2015-02-01T00:00:00",
          "2015-03-01T00:00:00",
          "2015-04-01T00:00:00",
          "2015-05-01T00:00:00",
          "2015-06-01T00:00:00",
          "2015-07-01T00:00:00",
          "2015-08-01T00:00:00",
          "2015-09-01T00:00:00",
          "2015-10-01T00:00:00",
          "2015-11-01T00:00:00",
          "2015-12-01T00:00:00",
          "2016-01-01T00:00:00",
          "2016-02-01T00:00:00",
          "2016-03-01T00:00:00",
          "2016-04-01T00:00:00",
          "2016-05-01T00:00:00",
          "2016-06-01T00:00:00",
          "2016-07-01T00:00:00",
          "2016-08-01T00:00:00",
          "2016-09-01T00:00:00",
          "2016-10-01T00:00:00",
          "2016-11-01T00:00:00",
          "2016-12-01T00:00:00",
          "2017-01-01T00:00:00",
          "2017-02-01T00:00:00",
          "2017-03-01T00:00:00",
          "2017-04-01T00:00:00",
          "2017-05-01T00:00:00",
          "2017-06-01T00:00:00",
          "2017-07-01T00:00:00",
          "2017-08-01T00:00:00",
          "2017-09-01T00:00:00",
          "2017-10-01T00:00:00",
          "2017-11-01T00:00:00",
          "2017-12-01T00:00:00",
          "2018-01-01T00:00:00",
          "2018-02-01T00:00:00",
          "2018-03-01T00:00:00",
          "2018-04-01T00:00:00",
          "2018-05-01T00:00:00",
          "2018-06-01T00:00:00",
          "2018-07-01T00:00:00",
          "2018-08-01T00:00:00",
          "2018-09-01T00:00:00",
          "2018-10-01T00:00:00",
          "2018-11-01T00:00:00",
          "2018-12-01T00:00:00",
          "2019-01-01T00:00:00",
          "2019-02-01T00:00:00",
          "2019-03-01T00:00:00",
          "2019-04-01T00:00:00",
          "2019-05-01T00:00:00",
          "2019-06-01T00:00:00",
          "2019-07-01T00:00:00",
          "2019-08-01T00:00:00",
          "2019-09-01T00:00:00",
          "2019-10-01T00:00:00",
          "2019-11-01T00:00:00",
          "2019-12-01T00:00:00",
          "2020-01-01T00:00:00",
          "2020-02-01T00:00:00",
          "2020-03-01T00:00:00",
          "2020-04-01T00:00:00",
          "2020-05-01T00:00:00",
          "2020-06-01T00:00:00",
          "2020-07-01T00:00:00",
          "2020-08-01T00:00:00",
          "2020-09-01T00:00:00",
          "2020-10-01T00:00:00",
          "2020-11-01T00:00:00",
          "2020-12-01T00:00:00",
          "2021-01-01T00:00:00",
          "2021-02-01T00:00:00",
          "2021-03-01T00:00:00",
          "2021-04-01T00:00:00",
          "2021-05-01T00:00:00",
          "2021-06-01T00:00:00",
          "2021-07-01T00:00:00",
          "2021-08-01T00:00:00",
          "2021-09-01T00:00:00",
          "2021-10-01T00:00:00",
          "2021-11-01T00:00:00",
          "2021-12-01T00:00:00",
          "2022-01-01T00:00:00",
          "2022-02-01T00:00:00",
          "2022-03-01T00:00:00",
          "2022-04-01T00:00:00",
          "2022-05-01T00:00:00",
          "2022-06-01T00:00:00",
          "2022-07-01T00:00:00",
          "2022-08-01T00:00:00",
          "2022-09-01T00:00:00",
          "2022-10-01T00:00:00",
          "2022-11-01T00:00:00",
          "2022-12-01T00:00:00",
          "2023-01-01T00:00:00",
          "2023-02-01T00:00:00",
          "2023-03-01T00:00:00",
          "2023-04-01T00:00:00",
          "2023-05-01T00:00:00",
          "2023-06-01T00:00:00",
          "2023-07-01T00:00:00",
          "2023-08-01T00:00:00",
          "2023-09-01T00:00:00",
          "2023-10-01T00:00:00",
          "2023-11-01T00:00:00",
          "2023-12-01T00:00:00",
          "2024-01-01T00:00:00",
          "2024-02-01T00:00:00",
          "2024-03-01T00:00:00",
          "2024-04-01T00:00:00",
          "2024-05-01T00:00:00",
          "2024-06-01T00:00:00",
          "2024-07-01T00:00:00",
          "2024-08-01T00:00:00",
          "2024-09-01T00:00:00",
          "2024-10-01T00:00:00",
          "2024-11-01T00:00:00",
          "2024-12-01T00:00:00",
          "2025-01-01T00:00:00",
          "2025-02-01T00:00:00"
         ],
         "y": [
          0.5853658536585366,
          0.4797687861271676,
          0.47928994082840237,
          0.31824512534818944,
          0.1963109354413702,
          0.23080684596577017,
          0.16622968012585213,
          0.11902500791389681,
          0.1047943411055803,
          0.04903825829634327,
          0.04372173163902649,
          0.05137579372715028,
          0.03554970375246873,
          0.030385797200409695,
          0.034940366201915,
          0.029674591131343787,
          0.02621626267835654,
          0.017840576607435953,
          0.02445210379137673,
          0.018768816859906477,
          0.018722466960352423,
          0.03289057558507274,
          0.033278777959629025,
          0.021342484097756947,
          0.015818246997669833,
          0.016870880041711667,
          0.013194703468854905,
          0.02558438561208005,
          0.02475955289836236,
          0.026961839951761563,
          0.02378201908588649,
          0.026265772057981633,
          0.02595683021884681,
          0.0446426661532867,
          0.040330852665808256,
          0.011643793715206265,
          0.03866381789793738,
          0.03025358623971718,
          0.03246721351736333,
          0.03271979303617626,
          0.030330862720806543,
          0.014797226707189666,
          0.03742188843662214,
          0.04493887624112797,
          0.040299599806910724,
          0.046061465578370875,
          0.0445399323531442,
          0.05290660790009683,
          0.06844827865795321,
          0.04446403829197632,
          0.0639010977983824,
          0.04325364455878354,
          0.08609946310302935,
          0.08377345527931641,
          0.05338671327250188,
          0.05434077642916705,
          0.05192213635919006,
          0.0571912986875369,
          0.05127262327899661,
          0.07771793701506162,
          0.1588623859540194,
          0.08891340081321913,
          0.07853982300884955,
          0.05881608370954812,
          0.08237154150197629,
          0.24551412573173836,
          0.11470034482029151,
          0.16557080709560795,
          0.1314630750801308,
          0.17574424228009672,
          0.11206992913192193,
          0.18124082905355832,
          0.22498975134646104,
          0.31537356321839083,
          0.2606872451951077,
          0.44959382615759547,
          0.2662965651176021,
          0.47625207162779415,
          0.2555745425749177,
          0.3788062045112144,
          0.2894613124387855,
          0.4369820256161877,
          0.27341828254847644,
          0.37611542618706484,
          0.2288376481688978,
          0.4478226879925627,
          0.35193188415145454,
          0.3949624036884612,
          0.4416356043832852,
          0.2719801999342576,
          0.41153701413902477,
          0.2548583971304674,
          0.43334137256478283,
          0.26805928346364805,
          0.4316559509947856,
          0.21759110826119482,
          0.22588446655610836,
          0.32936580047246955,
          0.2974169952568718,
          0.3406133562625394,
          0.22458602426869875,
          0.3048060035126936,
          0.2110808571090328,
          0.3338870431893688,
          0.2370060503779242,
          0.3598653030680968,
          0.2787837896661298,
          0.2866327785901632,
          0.26301249539568755,
          0.2219195916199873,
          0.2236100533130236,
          0.38483613614188145,
          0.2002905049101645,
          0.33533653846153844,
          0.1724037005459196,
          0.30338820113397813,
          0.1961784209783726,
          0.27748443000270784,
          0.1965426974506521,
          0.41971049625882845,
          0.2990487761103364,
          0.17896174863387979,
          0.2683553980332882,
          0.47617221945328375,
          0.22228498267811417,
          0.33040911008013496,
          0.19237273310397107,
          0.30134976525821594,
          0.2585762542224446,
          0.38143902255072026,
          0.21923194251432057,
          0.37691914022517914,
          0.23471918787062437,
          0.2155898403287745,
          0.2118850792790351,
          0.29031910886293927,
          0.19404784567548702,
          0.2758628313692542,
          0.14400412292836412,
          0.2667706374978636,
          0.18331423332569333,
          0.2961395468468679,
          0.14903004412073675,
          0.22498868266183794,
          0.22500198302530341,
          0.20881876398426047,
          0.17911468681801895,
          0.23478158759981213,
          0.26803091013165425,
          0.3058425860556661,
          0.1464807614961791,
          0.289596492882059,
          0.23453302731468637,
          0.29480836859986886,
          0.2050504425326484,
          0.301531589023612,
          0.25979254257097867,
          0.22530258423290808,
          0.14542421188001808,
          0.25672579139438173,
          0.2940896614821592,
          0.3100294097214181,
          0.15945082086299578,
          0.2888779272028662,
          0.28823194997157475,
          0.3228872757156554,
          0.2691556327327979,
          0.3648239928834668,
          0.3048186766848118,
          0.2511672949884135,
          0.3232972098269014,
          0.48316048326740085
         ]
        }
       ],
       "layout": {
        "height": 500,
        "template": {
         "data": {
          "bar": [
           {
            "error_x": {
             "color": "#2a3f5f"
            },
            "error_y": {
             "color": "#2a3f5f"
            },
            "marker": {
             "line": {
              "color": "white",
              "width": 0.5
             },
             "pattern": {
              "fillmode": "overlay",
              "size": 10,
              "solidity": 0.2
             }
            },
            "type": "bar"
           }
          ],
          "barpolar": [
           {
            "marker": {
             "line": {
              "color": "white",
              "width": 0.5
             },
             "pattern": {
              "fillmode": "overlay",
              "size": 10,
              "solidity": 0.2
             }
            },
            "type": "barpolar"
           }
          ],
          "carpet": [
           {
            "aaxis": {
             "endlinecolor": "#2a3f5f",
             "gridcolor": "#C8D4E3",
             "linecolor": "#C8D4E3",
             "minorgridcolor": "#C8D4E3",
             "startlinecolor": "#2a3f5f"
            },
            "baxis": {
             "endlinecolor": "#2a3f5f",
             "gridcolor": "#C8D4E3",
             "linecolor": "#C8D4E3",
             "minorgridcolor": "#C8D4E3",
             "startlinecolor": "#2a3f5f"
            },
            "type": "carpet"
           }
          ],
          "choropleth": [
           {
            "colorbar": {
             "outlinewidth": 0,
             "ticks": ""
            },
            "type": "choropleth"
           }
          ],
          "contour": [
           {
            "colorbar": {
             "outlinewidth": 0,
             "ticks": ""
            },
            "colorscale": [
             [
              0,
              "#0d0887"
             ],
             [
              0.1111111111111111,
              "#46039f"
             ],
             [
              0.2222222222222222,
              "#7201a8"
             ],
             [
              0.3333333333333333,
              "#9c179e"
             ],
             [
              0.4444444444444444,
              "#bd3786"
             ],
             [
              0.5555555555555556,
              "#d8576b"
             ],
             [
              0.6666666666666666,
              "#ed7953"
             ],
             [
              0.7777777777777778,
              "#fb9f3a"
             ],
             [
              0.8888888888888888,
              "#fdca26"
             ],
             [
              1,
              "#f0f921"
             ]
            ],
            "type": "contour"
           }
          ],
          "contourcarpet": [
           {
            "colorbar": {
             "outlinewidth": 0,
             "ticks": ""
            },
            "type": "contourcarpet"
           }
          ],
          "heatmap": [
           {
            "colorbar": {
             "outlinewidth": 0,
             "ticks": ""
            },
            "colorscale": [
             [
              0,
              "#0d0887"
             ],
             [
              0.1111111111111111,
              "#46039f"
             ],
             [
              0.2222222222222222,
              "#7201a8"
             ],
             [
              0.3333333333333333,
              "#9c179e"
             ],
             [
              0.4444444444444444,
              "#bd3786"
             ],
             [
              0.5555555555555556,
              "#d8576b"
             ],
             [
              0.6666666666666666,
              "#ed7953"
             ],
             [
              0.7777777777777778,
              "#fb9f3a"
             ],
             [
              0.8888888888888888,
              "#fdca26"
             ],
             [
              1,
              "#f0f921"
             ]
            ],
            "type": "heatmap"
           }
          ],
          "heatmapgl": [
           {
            "colorbar": {
             "outlinewidth": 0,
             "ticks": ""
            },
            "colorscale": [
             [
              0,
              "#0d0887"
             ],
             [
              0.1111111111111111,
              "#46039f"
             ],
             [
              0.2222222222222222,
              "#7201a8"
             ],
             [
              0.3333333333333333,
              "#9c179e"
             ],
             [
              0.4444444444444444,
              "#bd3786"
             ],
             [
              0.5555555555555556,
              "#d8576b"
             ],
             [
              0.6666666666666666,
              "#ed7953"
             ],
             [
              0.7777777777777778,
              "#fb9f3a"
             ],
             [
              0.8888888888888888,
              "#fdca26"
             ],
             [
              1,
              "#f0f921"
             ]
            ],
            "type": "heatmapgl"
           }
          ],
          "histogram": [
           {
            "marker": {
             "pattern": {
              "fillmode": "overlay",
              "size": 10,
              "solidity": 0.2
             }
            },
            "type": "histogram"
           }
          ],
          "histogram2d": [
           {
            "colorbar": {
             "outlinewidth": 0,
             "ticks": ""
            },
            "colorscale": [
             [
              0,
              "#0d0887"
             ],
             [
              0.1111111111111111,
              "#46039f"
             ],
             [
              0.2222222222222222,
              "#7201a8"
             ],
             [
              0.3333333333333333,
              "#9c179e"
             ],
             [
              0.4444444444444444,
              "#bd3786"
             ],
             [
              0.5555555555555556,
              "#d8576b"
             ],
             [
              0.6666666666666666,
              "#ed7953"
             ],
             [
              0.7777777777777778,
              "#fb9f3a"
             ],
             [
              0.8888888888888888,
              "#fdca26"
             ],
             [
              1,
              "#f0f921"
             ]
            ],
            "type": "histogram2d"
           }
          ],
          "histogram2dcontour": [
           {
            "colorbar": {
             "outlinewidth": 0,
             "ticks": ""
            },
            "colorscale": [
             [
              0,
              "#0d0887"
             ],
             [
              0.1111111111111111,
              "#46039f"
             ],
             [
              0.2222222222222222,
              "#7201a8"
             ],
             [
              0.3333333333333333,
              "#9c179e"
             ],
             [
              0.4444444444444444,
              "#bd3786"
             ],
             [
              0.5555555555555556,
              "#d8576b"
             ],
             [
              0.6666666666666666,
              "#ed7953"
             ],
             [
              0.7777777777777778,
              "#fb9f3a"
             ],
             [
              0.8888888888888888,
              "#fdca26"
             ],
             [
              1,
              "#f0f921"
             ]
            ],
            "type": "histogram2dcontour"
           }
          ],
          "mesh3d": [
           {
            "colorbar": {
             "outlinewidth": 0,
             "ticks": ""
            },
            "type": "mesh3d"
           }
          ],
          "parcoords": [
           {
            "line": {
             "colorbar": {
              "outlinewidth": 0,
              "ticks": ""
             }
            },
            "type": "parcoords"
           }
          ],
          "pie": [
           {
            "automargin": true,
            "type": "pie"
           }
          ],
          "scatter": [
           {
            "fillpattern": {
             "fillmode": "overlay",
             "size": 10,
             "solidity": 0.2
            },
            "type": "scatter"
           }
          ],
          "scatter3d": [
           {
            "line": {
             "colorbar": {
              "outlinewidth": 0,
              "ticks": ""
             }
            },
            "marker": {
             "colorbar": {
              "outlinewidth": 0,
              "ticks": ""
             }
            },
            "type": "scatter3d"
           }
          ],
          "scattercarpet": [
           {
            "marker": {
             "colorbar": {
              "outlinewidth": 0,
              "ticks": ""
             }
            },
            "type": "scattercarpet"
           }
          ],
          "scattergeo": [
           {
            "marker": {
             "colorbar": {
              "outlinewidth": 0,
              "ticks": ""
             }
            },
            "type": "scattergeo"
           }
          ],
          "scattergl": [
           {
            "marker": {
             "colorbar": {
              "outlinewidth": 0,
              "ticks": ""
             }
            },
            "type": "scattergl"
           }
          ],
          "scattermapbox": [
           {
            "marker": {
             "colorbar": {
              "outlinewidth": 0,
              "ticks": ""
             }
            },
            "type": "scattermapbox"
           }
          ],
          "scatterpolar": [
           {
            "marker": {
             "colorbar": {
              "outlinewidth": 0,
              "ticks": ""
             }
            },
            "type": "scatterpolar"
           }
          ],
          "scatterpolargl": [
           {
            "marker": {
             "colorbar": {
              "outlinewidth": 0,
              "ticks": ""
             }
            },
            "type": "scatterpolargl"
           }
          ],
          "scatterternary": [
           {
            "marker": {
             "colorbar": {
              "outlinewidth": 0,
              "ticks": ""
             }
            },
            "type": "scatterternary"
           }
          ],
          "surface": [
           {
            "colorbar": {
             "outlinewidth": 0,
             "ticks": ""
            },
            "colorscale": [
             [
              0,
              "#0d0887"
             ],
             [
              0.1111111111111111,
              "#46039f"
             ],
             [
              0.2222222222222222,
              "#7201a8"
             ],
             [
              0.3333333333333333,
              "#9c179e"
             ],
             [
              0.4444444444444444,
              "#bd3786"
             ],
             [
              0.5555555555555556,
              "#d8576b"
             ],
             [
              0.6666666666666666,
              "#ed7953"
             ],
             [
              0.7777777777777778,
              "#fb9f3a"
             ],
             [
              0.8888888888888888,
              "#fdca26"
             ],
             [
              1,
              "#f0f921"
             ]
            ],
            "type": "surface"
           }
          ],
          "table": [
           {
            "cells": {
             "fill": {
              "color": "#EBF0F8"
             },
             "line": {
              "color": "white"
             }
            },
            "header": {
             "fill": {
              "color": "#C8D4E3"
             },
             "line": {
              "color": "white"
             }
            },
            "type": "table"
           }
          ]
         },
         "layout": {
          "annotationdefaults": {
           "arrowcolor": "#2a3f5f",
           "arrowhead": 0,
           "arrowwidth": 1
          },
          "autotypenumbers": "strict",
          "coloraxis": {
           "colorbar": {
            "outlinewidth": 0,
            "ticks": ""
           }
          },
          "colorscale": {
           "diverging": [
            [
             0,
             "#8e0152"
            ],
            [
             0.1,
             "#c51b7d"
            ],
            [
             0.2,
             "#de77ae"
            ],
            [
             0.3,
             "#f1b6da"
            ],
            [
             0.4,
             "#fde0ef"
            ],
            [
             0.5,
             "#f7f7f7"
            ],
            [
             0.6,
             "#e6f5d0"
            ],
            [
             0.7,
             "#b8e186"
            ],
            [
             0.8,
             "#7fbc41"
            ],
            [
             0.9,
             "#4d9221"
            ],
            [
             1,
             "#276419"
            ]
           ],
           "sequential": [
            [
             0,
             "#0d0887"
            ],
            [
             0.1111111111111111,
             "#46039f"
            ],
            [
             0.2222222222222222,
             "#7201a8"
            ],
            [
             0.3333333333333333,
             "#9c179e"
            ],
            [
             0.4444444444444444,
             "#bd3786"
            ],
            [
             0.5555555555555556,
             "#d8576b"
            ],
            [
             0.6666666666666666,
             "#ed7953"
            ],
            [
             0.7777777777777778,
             "#fb9f3a"
            ],
            [
             0.8888888888888888,
             "#fdca26"
            ],
            [
             1,
             "#f0f921"
            ]
           ],
           "sequentialminus": [
            [
             0,
             "#0d0887"
            ],
            [
             0.1111111111111111,
             "#46039f"
            ],
            [
             0.2222222222222222,
             "#7201a8"
            ],
            [
             0.3333333333333333,
             "#9c179e"
            ],
            [
             0.4444444444444444,
             "#bd3786"
            ],
            [
             0.5555555555555556,
             "#d8576b"
            ],
            [
             0.6666666666666666,
             "#ed7953"
            ],
            [
             0.7777777777777778,
             "#fb9f3a"
            ],
            [
             0.8888888888888888,
             "#fdca26"
            ],
            [
             1,
             "#f0f921"
            ]
           ]
          },
          "colorway": [
           "#636efa",
           "#EF553B",
           "#00cc96",
           "#ab63fa",
           "#FFA15A",
           "#19d3f3",
           "#FF6692",
           "#B6E880",
           "#FF97FF",
           "#FECB52"
          ],
          "font": {
           "color": "#2a3f5f"
          },
          "geo": {
           "bgcolor": "white",
           "lakecolor": "white",
           "landcolor": "white",
           "showlakes": true,
           "showland": true,
           "subunitcolor": "#C8D4E3"
          },
          "hoverlabel": {
           "align": "left"
          },
          "hovermode": "closest",
          "mapbox": {
           "style": "light"
          },
          "paper_bgcolor": "white",
          "plot_bgcolor": "white",
          "polar": {
           "angularaxis": {
            "gridcolor": "#EBF0F8",
            "linecolor": "#EBF0F8",
            "ticks": ""
           },
           "bgcolor": "white",
           "radialaxis": {
            "gridcolor": "#EBF0F8",
            "linecolor": "#EBF0F8",
            "ticks": ""
           }
          },
          "scene": {
           "xaxis": {
            "backgroundcolor": "white",
            "gridcolor": "#DFE8F3",
            "gridwidth": 2,
            "linecolor": "#EBF0F8",
            "showbackground": true,
            "ticks": "",
            "zerolinecolor": "#EBF0F8"
           },
           "yaxis": {
            "backgroundcolor": "white",
            "gridcolor": "#DFE8F3",
            "gridwidth": 2,
            "linecolor": "#EBF0F8",
            "showbackground": true,
            "ticks": "",
            "zerolinecolor": "#EBF0F8"
           },
           "zaxis": {
            "backgroundcolor": "white",
            "gridcolor": "#DFE8F3",
            "gridwidth": 2,
            "linecolor": "#EBF0F8",
            "showbackground": true,
            "ticks": "",
            "zerolinecolor": "#EBF0F8"
           }
          },
          "shapedefaults": {
           "line": {
            "color": "#2a3f5f"
           }
          },
          "ternary": {
           "aaxis": {
            "gridcolor": "#DFE8F3",
            "linecolor": "#A2B1C6",
            "ticks": ""
           },
           "baxis": {
            "gridcolor": "#DFE8F3",
            "linecolor": "#A2B1C6",
            "ticks": ""
           },
           "bgcolor": "white",
           "caxis": {
            "gridcolor": "#DFE8F3",
            "linecolor": "#A2B1C6",
            "ticks": ""
           }
          },
          "title": {
           "x": 0.05
          },
          "xaxis": {
           "automargin": true,
           "gridcolor": "#EBF0F8",
           "linecolor": "#EBF0F8",
           "ticks": "",
           "title": {
            "standoff": 15
           },
           "zerolinecolor": "#EBF0F8",
           "zerolinewidth": 2
          },
          "yaxis": {
           "automargin": true,
           "gridcolor": "#EBF0F8",
           "linecolor": "#EBF0F8",
           "ticks": "",
           "title": {
            "standoff": 15
           },
           "zerolinecolor": "#EBF0F8",
           "zerolinewidth": 2
          }
         }
        },
        "title": {
         "text": "Monthly Trend of Ratio: Discounted Transactions / Total Transactions"
        },
        "width": 900,
        "yaxis": {
         "tickformat": ".0%",
         "title": {
          "text": "Discount Ratio"
         }
        }
       }
      }
     },
     "metadata": {},
     "output_type": "display_data"
    }
   ],
   "source": [
    "# -- 14. Ratio discount over time --\n",
    "# Remove canceled/refunded, keep only revenue > 0\n",
    "data_m2_noCancel_noRefund = data_m2[\n",
    "    ~data_m2['order_status'].str.contains(\"|\".join(order_status_keyWords_Refund_Cancel), case=False, na=False) & \n",
    "    (data_m2['revenue_converted'] > 0)\n",
    "].copy()\n",
    "\n",
    "\n",
    "# Here we designate an order as 'Discounted' if it has a discount value > 0 or a discount code exists.\n",
    "data_m2_noCancel_noRefund['order_type'] = data_m2_noCancel_noRefund.apply(\n",
    "    lambda row: 'Discounted' if (row['discount'] > 0) else 'Full Price',\n",
    "    axis=1\n",
    ")\n",
    "\n",
    "# Create a new column 'order_month' by extracting the month from 'datetime'\n",
    "# The .to_period('M') converts to a monthly period, and .to_timestamp() converts it back to a datetime for plotting.\n",
    "data_m2_noCancel_noRefund['order_month'] = data_m2_noCancel_noRefund['datetime'].dt.to_period('M').dt.to_timestamp()\n",
    "\n",
    "# Group the data by order_month and order_type to get monthly order counts\n",
    "monthly_trend = data_m2_noCancel_noRefund.groupby(['order_month', 'order_type']).agg(\n",
    "    order_count=('transaction_id', 'count')\n",
    ").reset_index()\n",
    "\n",
    "# Pivot the table to have separate columns for each order type’s count per month\n",
    "monthly_count_pivot = monthly_trend.pivot(index='order_month', columns='order_type', values='order_count').fillna(0)\n",
    "\n",
    "# --- Calculate the Discount Ratio ---\n",
    "# Ensure that both columns exist; if one of the types is missing for a month, fill with 0.\n",
    "# Ratio = (Discounted orders) / (Discounted orders + Full Price orders)\n",
    "monthly_count_pivot['discount_ratio'] = (\n",
    "    monthly_count_pivot.get('Discounted', 0) / \n",
    "    (monthly_count_pivot.get('Discounted', 0) + monthly_count_pivot.get('Full Price', 0))\n",
    ")\n",
    "\n",
    "# --- Generate a Line Chart for the Monthly Discount Ratio ---\n",
    "fig_ratio_discount = go.Figure()\n",
    "\n",
    "fig_ratio_discount.add_trace(go.Scatter(\n",
    "    x=monthly_count_pivot.index,\n",
    "    y=monthly_count_pivot['discount_ratio'],\n",
    "    mode='lines',\n",
    "    name='Discount Ratio',\n",
    "    line=dict(color='orange')\n",
    "))\n",
    "\n",
    "# Customize the layout\n",
    "fig_ratio_discount.update_layout(\n",
    "    title='Monthly Trend of Ratio: Discounted Transactions / Total Transactions',\n",
    "    yaxis_title='Discount Ratio',\n",
    "    yaxis=dict(tickformat='.0%'),  # Display as percentage\n",
    "    template='plotly_white',\n",
    "    width=900,\n",
    "    height=500\n",
    ")\n",
    "\n",
    "fig_ratio_discount.show()\n"
   ]
  },
  {
   "cell_type": "code",
   "execution_count": 28,
   "metadata": {},
   "outputs": [
    {
     "data": {
      "application/vnd.plotly.v1+json": {
       "config": {
        "plotlyServerURL": "https://plot.ly"
       },
       "data": [
        {
         "marker": {
          "color": "lightblue"
         },
         "name": "% of Revenue",
         "offsetgroup": "0",
         "text": [
          "21.8%",
          "78.2%"
         ],
         "textposition": "outside",
         "type": "bar",
         "width": 0.35,
         "x": [
          "Discounted",
          "Full Price",
          "Discounted",
          "Full Price"
         ],
         "y": [
          21.82591428922874,
          78.17408571077125
         ]
        },
        {
         "marker": {
          "color": "lightgreen"
         },
         "name": "% of Transactions",
         "offsetgroup": "1",
         "text": [
          "20.1%",
          "79.9%"
         ],
         "textposition": "outside",
         "type": "bar",
         "width": 0.35,
         "x": [
          "Discounted",
          "Full Price",
          "Discounted",
          "Full Price"
         ],
         "y": [
          20.06945577383319,
          79.93054422616682
         ]
        }
       ],
       "layout": {
        "bargap": 0.2,
        "bargroupgap": 0.3,
        "barmode": "group",
        "height": 500,
        "legend": {
         "orientation": "h",
         "x": 0.5,
         "xanchor": "center",
         "y": 1.02,
         "yanchor": "bottom"
        },
        "template": {
         "data": {
          "bar": [
           {
            "error_x": {
             "color": "#2a3f5f"
            },
            "error_y": {
             "color": "#2a3f5f"
            },
            "marker": {
             "line": {
              "color": "white",
              "width": 0.5
             },
             "pattern": {
              "fillmode": "overlay",
              "size": 10,
              "solidity": 0.2
             }
            },
            "type": "bar"
           }
          ],
          "barpolar": [
           {
            "marker": {
             "line": {
              "color": "white",
              "width": 0.5
             },
             "pattern": {
              "fillmode": "overlay",
              "size": 10,
              "solidity": 0.2
             }
            },
            "type": "barpolar"
           }
          ],
          "carpet": [
           {
            "aaxis": {
             "endlinecolor": "#2a3f5f",
             "gridcolor": "#C8D4E3",
             "linecolor": "#C8D4E3",
             "minorgridcolor": "#C8D4E3",
             "startlinecolor": "#2a3f5f"
            },
            "baxis": {
             "endlinecolor": "#2a3f5f",
             "gridcolor": "#C8D4E3",
             "linecolor": "#C8D4E3",
             "minorgridcolor": "#C8D4E3",
             "startlinecolor": "#2a3f5f"
            },
            "type": "carpet"
           }
          ],
          "choropleth": [
           {
            "colorbar": {
             "outlinewidth": 0,
             "ticks": ""
            },
            "type": "choropleth"
           }
          ],
          "contour": [
           {
            "colorbar": {
             "outlinewidth": 0,
             "ticks": ""
            },
            "colorscale": [
             [
              0,
              "#0d0887"
             ],
             [
              0.1111111111111111,
              "#46039f"
             ],
             [
              0.2222222222222222,
              "#7201a8"
             ],
             [
              0.3333333333333333,
              "#9c179e"
             ],
             [
              0.4444444444444444,
              "#bd3786"
             ],
             [
              0.5555555555555556,
              "#d8576b"
             ],
             [
              0.6666666666666666,
              "#ed7953"
             ],
             [
              0.7777777777777778,
              "#fb9f3a"
             ],
             [
              0.8888888888888888,
              "#fdca26"
             ],
             [
              1,
              "#f0f921"
             ]
            ],
            "type": "contour"
           }
          ],
          "contourcarpet": [
           {
            "colorbar": {
             "outlinewidth": 0,
             "ticks": ""
            },
            "type": "contourcarpet"
           }
          ],
          "heatmap": [
           {
            "colorbar": {
             "outlinewidth": 0,
             "ticks": ""
            },
            "colorscale": [
             [
              0,
              "#0d0887"
             ],
             [
              0.1111111111111111,
              "#46039f"
             ],
             [
              0.2222222222222222,
              "#7201a8"
             ],
             [
              0.3333333333333333,
              "#9c179e"
             ],
             [
              0.4444444444444444,
              "#bd3786"
             ],
             [
              0.5555555555555556,
              "#d8576b"
             ],
             [
              0.6666666666666666,
              "#ed7953"
             ],
             [
              0.7777777777777778,
              "#fb9f3a"
             ],
             [
              0.8888888888888888,
              "#fdca26"
             ],
             [
              1,
              "#f0f921"
             ]
            ],
            "type": "heatmap"
           }
          ],
          "heatmapgl": [
           {
            "colorbar": {
             "outlinewidth": 0,
             "ticks": ""
            },
            "colorscale": [
             [
              0,
              "#0d0887"
             ],
             [
              0.1111111111111111,
              "#46039f"
             ],
             [
              0.2222222222222222,
              "#7201a8"
             ],
             [
              0.3333333333333333,
              "#9c179e"
             ],
             [
              0.4444444444444444,
              "#bd3786"
             ],
             [
              0.5555555555555556,
              "#d8576b"
             ],
             [
              0.6666666666666666,
              "#ed7953"
             ],
             [
              0.7777777777777778,
              "#fb9f3a"
             ],
             [
              0.8888888888888888,
              "#fdca26"
             ],
             [
              1,
              "#f0f921"
             ]
            ],
            "type": "heatmapgl"
           }
          ],
          "histogram": [
           {
            "marker": {
             "pattern": {
              "fillmode": "overlay",
              "size": 10,
              "solidity": 0.2
             }
            },
            "type": "histogram"
           }
          ],
          "histogram2d": [
           {
            "colorbar": {
             "outlinewidth": 0,
             "ticks": ""
            },
            "colorscale": [
             [
              0,
              "#0d0887"
             ],
             [
              0.1111111111111111,
              "#46039f"
             ],
             [
              0.2222222222222222,
              "#7201a8"
             ],
             [
              0.3333333333333333,
              "#9c179e"
             ],
             [
              0.4444444444444444,
              "#bd3786"
             ],
             [
              0.5555555555555556,
              "#d8576b"
             ],
             [
              0.6666666666666666,
              "#ed7953"
             ],
             [
              0.7777777777777778,
              "#fb9f3a"
             ],
             [
              0.8888888888888888,
              "#fdca26"
             ],
             [
              1,
              "#f0f921"
             ]
            ],
            "type": "histogram2d"
           }
          ],
          "histogram2dcontour": [
           {
            "colorbar": {
             "outlinewidth": 0,
             "ticks": ""
            },
            "colorscale": [
             [
              0,
              "#0d0887"
             ],
             [
              0.1111111111111111,
              "#46039f"
             ],
             [
              0.2222222222222222,
              "#7201a8"
             ],
             [
              0.3333333333333333,
              "#9c179e"
             ],
             [
              0.4444444444444444,
              "#bd3786"
             ],
             [
              0.5555555555555556,
              "#d8576b"
             ],
             [
              0.6666666666666666,
              "#ed7953"
             ],
             [
              0.7777777777777778,
              "#fb9f3a"
             ],
             [
              0.8888888888888888,
              "#fdca26"
             ],
             [
              1,
              "#f0f921"
             ]
            ],
            "type": "histogram2dcontour"
           }
          ],
          "mesh3d": [
           {
            "colorbar": {
             "outlinewidth": 0,
             "ticks": ""
            },
            "type": "mesh3d"
           }
          ],
          "parcoords": [
           {
            "line": {
             "colorbar": {
              "outlinewidth": 0,
              "ticks": ""
             }
            },
            "type": "parcoords"
           }
          ],
          "pie": [
           {
            "automargin": true,
            "type": "pie"
           }
          ],
          "scatter": [
           {
            "fillpattern": {
             "fillmode": "overlay",
             "size": 10,
             "solidity": 0.2
            },
            "type": "scatter"
           }
          ],
          "scatter3d": [
           {
            "line": {
             "colorbar": {
              "outlinewidth": 0,
              "ticks": ""
             }
            },
            "marker": {
             "colorbar": {
              "outlinewidth": 0,
              "ticks": ""
             }
            },
            "type": "scatter3d"
           }
          ],
          "scattercarpet": [
           {
            "marker": {
             "colorbar": {
              "outlinewidth": 0,
              "ticks": ""
             }
            },
            "type": "scattercarpet"
           }
          ],
          "scattergeo": [
           {
            "marker": {
             "colorbar": {
              "outlinewidth": 0,
              "ticks": ""
             }
            },
            "type": "scattergeo"
           }
          ],
          "scattergl": [
           {
            "marker": {
             "colorbar": {
              "outlinewidth": 0,
              "ticks": ""
             }
            },
            "type": "scattergl"
           }
          ],
          "scattermapbox": [
           {
            "marker": {
             "colorbar": {
              "outlinewidth": 0,
              "ticks": ""
             }
            },
            "type": "scattermapbox"
           }
          ],
          "scatterpolar": [
           {
            "marker": {
             "colorbar": {
              "outlinewidth": 0,
              "ticks": ""
             }
            },
            "type": "scatterpolar"
           }
          ],
          "scatterpolargl": [
           {
            "marker": {
             "colorbar": {
              "outlinewidth": 0,
              "ticks": ""
             }
            },
            "type": "scatterpolargl"
           }
          ],
          "scatterternary": [
           {
            "marker": {
             "colorbar": {
              "outlinewidth": 0,
              "ticks": ""
             }
            },
            "type": "scatterternary"
           }
          ],
          "surface": [
           {
            "colorbar": {
             "outlinewidth": 0,
             "ticks": ""
            },
            "colorscale": [
             [
              0,
              "#0d0887"
             ],
             [
              0.1111111111111111,
              "#46039f"
             ],
             [
              0.2222222222222222,
              "#7201a8"
             ],
             [
              0.3333333333333333,
              "#9c179e"
             ],
             [
              0.4444444444444444,
              "#bd3786"
             ],
             [
              0.5555555555555556,
              "#d8576b"
             ],
             [
              0.6666666666666666,
              "#ed7953"
             ],
             [
              0.7777777777777778,
              "#fb9f3a"
             ],
             [
              0.8888888888888888,
              "#fdca26"
             ],
             [
              1,
              "#f0f921"
             ]
            ],
            "type": "surface"
           }
          ],
          "table": [
           {
            "cells": {
             "fill": {
              "color": "#EBF0F8"
             },
             "line": {
              "color": "white"
             }
            },
            "header": {
             "fill": {
              "color": "#C8D4E3"
             },
             "line": {
              "color": "white"
             }
            },
            "type": "table"
           }
          ]
         },
         "layout": {
          "annotationdefaults": {
           "arrowcolor": "#2a3f5f",
           "arrowhead": 0,
           "arrowwidth": 1
          },
          "autotypenumbers": "strict",
          "coloraxis": {
           "colorbar": {
            "outlinewidth": 0,
            "ticks": ""
           }
          },
          "colorscale": {
           "diverging": [
            [
             0,
             "#8e0152"
            ],
            [
             0.1,
             "#c51b7d"
            ],
            [
             0.2,
             "#de77ae"
            ],
            [
             0.3,
             "#f1b6da"
            ],
            [
             0.4,
             "#fde0ef"
            ],
            [
             0.5,
             "#f7f7f7"
            ],
            [
             0.6,
             "#e6f5d0"
            ],
            [
             0.7,
             "#b8e186"
            ],
            [
             0.8,
             "#7fbc41"
            ],
            [
             0.9,
             "#4d9221"
            ],
            [
             1,
             "#276419"
            ]
           ],
           "sequential": [
            [
             0,
             "#0d0887"
            ],
            [
             0.1111111111111111,
             "#46039f"
            ],
            [
             0.2222222222222222,
             "#7201a8"
            ],
            [
             0.3333333333333333,
             "#9c179e"
            ],
            [
             0.4444444444444444,
             "#bd3786"
            ],
            [
             0.5555555555555556,
             "#d8576b"
            ],
            [
             0.6666666666666666,
             "#ed7953"
            ],
            [
             0.7777777777777778,
             "#fb9f3a"
            ],
            [
             0.8888888888888888,
             "#fdca26"
            ],
            [
             1,
             "#f0f921"
            ]
           ],
           "sequentialminus": [
            [
             0,
             "#0d0887"
            ],
            [
             0.1111111111111111,
             "#46039f"
            ],
            [
             0.2222222222222222,
             "#7201a8"
            ],
            [
             0.3333333333333333,
             "#9c179e"
            ],
            [
             0.4444444444444444,
             "#bd3786"
            ],
            [
             0.5555555555555556,
             "#d8576b"
            ],
            [
             0.6666666666666666,
             "#ed7953"
            ],
            [
             0.7777777777777778,
             "#fb9f3a"
            ],
            [
             0.8888888888888888,
             "#fdca26"
            ],
            [
             1,
             "#f0f921"
            ]
           ]
          },
          "colorway": [
           "#636efa",
           "#EF553B",
           "#00cc96",
           "#ab63fa",
           "#FFA15A",
           "#19d3f3",
           "#FF6692",
           "#B6E880",
           "#FF97FF",
           "#FECB52"
          ],
          "font": {
           "color": "#2a3f5f"
          },
          "geo": {
           "bgcolor": "white",
           "lakecolor": "white",
           "landcolor": "white",
           "showlakes": true,
           "showland": true,
           "subunitcolor": "#C8D4E3"
          },
          "hoverlabel": {
           "align": "left"
          },
          "hovermode": "closest",
          "mapbox": {
           "style": "light"
          },
          "paper_bgcolor": "white",
          "plot_bgcolor": "white",
          "polar": {
           "angularaxis": {
            "gridcolor": "#EBF0F8",
            "linecolor": "#EBF0F8",
            "ticks": ""
           },
           "bgcolor": "white",
           "radialaxis": {
            "gridcolor": "#EBF0F8",
            "linecolor": "#EBF0F8",
            "ticks": ""
           }
          },
          "scene": {
           "xaxis": {
            "backgroundcolor": "white",
            "gridcolor": "#DFE8F3",
            "gridwidth": 2,
            "linecolor": "#EBF0F8",
            "showbackground": true,
            "ticks": "",
            "zerolinecolor": "#EBF0F8"
           },
           "yaxis": {
            "backgroundcolor": "white",
            "gridcolor": "#DFE8F3",
            "gridwidth": 2,
            "linecolor": "#EBF0F8",
            "showbackground": true,
            "ticks": "",
            "zerolinecolor": "#EBF0F8"
           },
           "zaxis": {
            "backgroundcolor": "white",
            "gridcolor": "#DFE8F3",
            "gridwidth": 2,
            "linecolor": "#EBF0F8",
            "showbackground": true,
            "ticks": "",
            "zerolinecolor": "#EBF0F8"
           }
          },
          "shapedefaults": {
           "line": {
            "color": "#2a3f5f"
           }
          },
          "ternary": {
           "aaxis": {
            "gridcolor": "#DFE8F3",
            "linecolor": "#A2B1C6",
            "ticks": ""
           },
           "baxis": {
            "gridcolor": "#DFE8F3",
            "linecolor": "#A2B1C6",
            "ticks": ""
           },
           "bgcolor": "white",
           "caxis": {
            "gridcolor": "#DFE8F3",
            "linecolor": "#A2B1C6",
            "ticks": ""
           }
          },
          "title": {
           "x": 0.05
          },
          "xaxis": {
           "automargin": true,
           "gridcolor": "#EBF0F8",
           "linecolor": "#EBF0F8",
           "ticks": "",
           "title": {
            "standoff": 15
           },
           "zerolinecolor": "#EBF0F8",
           "zerolinewidth": 2
          },
          "yaxis": {
           "automargin": true,
           "gridcolor": "#EBF0F8",
           "linecolor": "#EBF0F8",
           "ticks": "",
           "title": {
            "standoff": 15
           },
           "zerolinecolor": "#EBF0F8",
           "zerolinewidth": 2
          }
         }
        },
        "title": {
         "text": "Discount vs Full Price Transactions"
        },
        "width": 900,
        "xaxis": {
         "tickangle": -45
        },
        "yaxis": {
         "title": {
          "text": "Percentage (%)"
         }
        }
       }
      }
     },
     "metadata": {},
     "output_type": "display_data"
    }
   ],
   "source": [
    "# -- 15. Customer Segmentation Discount --\n",
    "# Remove canceled/refunded, keep only revenue > 0\n",
    "data_m2_noCancel_noRefund = data_m2[\n",
    "    ~data_m2['order_status'].str.contains(\"|\".join(order_status_keyWords_Refund_Cancel), case=False, na=False) & \n",
    "    (data_m2['revenue_converted'] > 0)\n",
    "].copy()\n",
    "\n",
    "\n",
    "# --- Prepare the data ---\n",
    "# Create a new column 'order_type' that designates whether an order was discounted.\n",
    "data_m2_noCancel_noRefund['order_type'] = data_m2_noCancel_noRefund.apply(\n",
    "    lambda row: 'Discounted' if (row['discount'] > 0) else 'Full Price', \n",
    "    axis=1\n",
    ")\n",
    "\n",
    "# Group the data by order_type to calculate:\n",
    "# - The count of orders\n",
    "# - Total revenue\n",
    "order_summary = data_m2_noCancel_noRefund.groupby('order_type').agg(\n",
    "    order_count=('transaction_id', 'count'),\n",
    "    total_revenue=('revenue_converted', 'sum')\n",
    ").reset_index()\n",
    "\n",
    "# Calculate total revenue and total transactions\n",
    "total_revenue = order_summary['total_revenue'].sum()\n",
    "total_orders = order_summary['order_count'].sum()\n",
    "\n",
    "# Calculate percentage metrics\n",
    "order_summary['% of Revenue'] = (order_summary['total_revenue'] / total_revenue) * 100\n",
    "order_summary['% of Transactions'] = (order_summary['order_count'] / total_orders) * 100\n",
    "\n",
    "# Reshape the data for plotting\n",
    "# Convert the dataframe from wide to long format for plotting\n",
    "order_summary_long = order_summary.melt(\n",
    "    id_vars=[\"order_type\"],\n",
    "    value_vars=[\"% of Revenue\", \"% of Transactions\"],\n",
    "    var_name=\"Metric\",\n",
    "    value_name=\"Percentage\"\n",
    ")\n",
    "\n",
    "# --- Generate the grouped bar chart ---\n",
    "fig_share_discount = go.Figure()\n",
    "\n",
    "# Define a color mapping for the metrics\n",
    "color_map = {\n",
    "    \"% of Revenue\": \"lightblue\",\n",
    "    \"% of Transactions\": \"lightgreen\"\n",
    "}\n",
    "\n",
    "# Add bars for % of Revenue (left side)\n",
    "fig_share_discount.add_trace(go.Bar(\n",
    "    x=order_summary_long['order_type'],\n",
    "    y=order_summary_long[order_summary_long['Metric'] == \"% of Revenue\"]['Percentage'],\n",
    "    name=\"% of Revenue\",  # Change legend name\n",
    "    marker=dict(color=\"lightblue\"),\n",
    "    offsetgroup=0,  # Ensure this group is on the left side\n",
    "    width=0.35,  # Reduce the bar width\n",
    "    text=order_summary_long[order_summary_long['Metric'] == \"% of Revenue\"]['Percentage'].round(1).astype(str) + '%',  # Add the label text\n",
    "    textposition='outside',  # Position the text outside the bar (top)\n",
    "))\n",
    "\n",
    "# Add bars for % of Transactions (right side)\n",
    "fig_share_discount.add_trace(go.Bar(\n",
    "    x=order_summary_long['order_type'],\n",
    "    y=order_summary_long[order_summary_long['Metric'] == \"% of Transactions\"]['Percentage'],\n",
    "    name=\"% of Transactions\",  # Change legend name\n",
    "    marker=dict(color=\"lightgreen\"),\n",
    "    offsetgroup=1,  # Ensure this group is on the right side\n",
    "    width=0.35,  # Reduce the bar width\n",
    "    text=order_summary_long[order_summary_long['Metric'] == \"% of Transactions\"]['Percentage'].round(1).astype(str) + '%',  # Add the label text\n",
    "    textposition='outside',  # Position the text outside the bar (top)\n",
    "))\n",
    "\n",
    "# Customize the layout\n",
    "fig_share_discount.update_layout(\n",
    "    title=\"Discount vs Full Price Transactions\",\n",
    "    yaxis_title=\"Percentage (%)\",\n",
    "    barmode=\"group\",  # places bars side-by-side\n",
    "    template=\"plotly_white\",\n",
    "    width=900,\n",
    "    height=500,\n",
    "    xaxis_tickangle=-45,  # Rotate x-axis labels for better readability\n",
    "    legend=dict(\n",
    "        orientation=\"h\",\n",
    "        yanchor=\"bottom\",\n",
    "        y=1.02,\n",
    "        xanchor=\"center\",\n",
    "        x=0.5\n",
    "    ),\n",
    "    bargap=0.2,  # Add small gap between bars (adjust value for more or less space)\n",
    "    bargroupgap=0.3  # Adjust gap between groups\n",
    ")\n",
    "\n",
    "fig_share_discount.show()\n"
   ]
  },
  {
   "cell_type": "code",
   "execution_count": 29,
   "metadata": {},
   "outputs": [
    {
     "data": {
      "application/vnd.plotly.v1+json": {
       "config": {
        "plotlyServerURL": "https://plot.ly"
       },
       "data": [
        {
         "hole": 0.5,
         "labels": [
          "Discount Only",
          "Full Price Only",
          "Mixed"
         ],
         "marker": {
          "colors": [
           "#66c2a5",
           "#fc8d62",
           "#8da0cb"
          ]
         },
         "textinfo": "percent",
         "texttemplate": "%{value:.1f}%",
         "type": "pie",
         "values": [
          7.415643205302736,
          71.06793845720651,
          21.516418337490762
         ]
        }
       ],
       "layout": {
        "template": {
         "data": {
          "bar": [
           {
            "error_x": {
             "color": "#2a3f5f"
            },
            "error_y": {
             "color": "#2a3f5f"
            },
            "marker": {
             "line": {
              "color": "white",
              "width": 0.5
             },
             "pattern": {
              "fillmode": "overlay",
              "size": 10,
              "solidity": 0.2
             }
            },
            "type": "bar"
           }
          ],
          "barpolar": [
           {
            "marker": {
             "line": {
              "color": "white",
              "width": 0.5
             },
             "pattern": {
              "fillmode": "overlay",
              "size": 10,
              "solidity": 0.2
             }
            },
            "type": "barpolar"
           }
          ],
          "carpet": [
           {
            "aaxis": {
             "endlinecolor": "#2a3f5f",
             "gridcolor": "#C8D4E3",
             "linecolor": "#C8D4E3",
             "minorgridcolor": "#C8D4E3",
             "startlinecolor": "#2a3f5f"
            },
            "baxis": {
             "endlinecolor": "#2a3f5f",
             "gridcolor": "#C8D4E3",
             "linecolor": "#C8D4E3",
             "minorgridcolor": "#C8D4E3",
             "startlinecolor": "#2a3f5f"
            },
            "type": "carpet"
           }
          ],
          "choropleth": [
           {
            "colorbar": {
             "outlinewidth": 0,
             "ticks": ""
            },
            "type": "choropleth"
           }
          ],
          "contour": [
           {
            "colorbar": {
             "outlinewidth": 0,
             "ticks": ""
            },
            "colorscale": [
             [
              0,
              "#0d0887"
             ],
             [
              0.1111111111111111,
              "#46039f"
             ],
             [
              0.2222222222222222,
              "#7201a8"
             ],
             [
              0.3333333333333333,
              "#9c179e"
             ],
             [
              0.4444444444444444,
              "#bd3786"
             ],
             [
              0.5555555555555556,
              "#d8576b"
             ],
             [
              0.6666666666666666,
              "#ed7953"
             ],
             [
              0.7777777777777778,
              "#fb9f3a"
             ],
             [
              0.8888888888888888,
              "#fdca26"
             ],
             [
              1,
              "#f0f921"
             ]
            ],
            "type": "contour"
           }
          ],
          "contourcarpet": [
           {
            "colorbar": {
             "outlinewidth": 0,
             "ticks": ""
            },
            "type": "contourcarpet"
           }
          ],
          "heatmap": [
           {
            "colorbar": {
             "outlinewidth": 0,
             "ticks": ""
            },
            "colorscale": [
             [
              0,
              "#0d0887"
             ],
             [
              0.1111111111111111,
              "#46039f"
             ],
             [
              0.2222222222222222,
              "#7201a8"
             ],
             [
              0.3333333333333333,
              "#9c179e"
             ],
             [
              0.4444444444444444,
              "#bd3786"
             ],
             [
              0.5555555555555556,
              "#d8576b"
             ],
             [
              0.6666666666666666,
              "#ed7953"
             ],
             [
              0.7777777777777778,
              "#fb9f3a"
             ],
             [
              0.8888888888888888,
              "#fdca26"
             ],
             [
              1,
              "#f0f921"
             ]
            ],
            "type": "heatmap"
           }
          ],
          "heatmapgl": [
           {
            "colorbar": {
             "outlinewidth": 0,
             "ticks": ""
            },
            "colorscale": [
             [
              0,
              "#0d0887"
             ],
             [
              0.1111111111111111,
              "#46039f"
             ],
             [
              0.2222222222222222,
              "#7201a8"
             ],
             [
              0.3333333333333333,
              "#9c179e"
             ],
             [
              0.4444444444444444,
              "#bd3786"
             ],
             [
              0.5555555555555556,
              "#d8576b"
             ],
             [
              0.6666666666666666,
              "#ed7953"
             ],
             [
              0.7777777777777778,
              "#fb9f3a"
             ],
             [
              0.8888888888888888,
              "#fdca26"
             ],
             [
              1,
              "#f0f921"
             ]
            ],
            "type": "heatmapgl"
           }
          ],
          "histogram": [
           {
            "marker": {
             "pattern": {
              "fillmode": "overlay",
              "size": 10,
              "solidity": 0.2
             }
            },
            "type": "histogram"
           }
          ],
          "histogram2d": [
           {
            "colorbar": {
             "outlinewidth": 0,
             "ticks": ""
            },
            "colorscale": [
             [
              0,
              "#0d0887"
             ],
             [
              0.1111111111111111,
              "#46039f"
             ],
             [
              0.2222222222222222,
              "#7201a8"
             ],
             [
              0.3333333333333333,
              "#9c179e"
             ],
             [
              0.4444444444444444,
              "#bd3786"
             ],
             [
              0.5555555555555556,
              "#d8576b"
             ],
             [
              0.6666666666666666,
              "#ed7953"
             ],
             [
              0.7777777777777778,
              "#fb9f3a"
             ],
             [
              0.8888888888888888,
              "#fdca26"
             ],
             [
              1,
              "#f0f921"
             ]
            ],
            "type": "histogram2d"
           }
          ],
          "histogram2dcontour": [
           {
            "colorbar": {
             "outlinewidth": 0,
             "ticks": ""
            },
            "colorscale": [
             [
              0,
              "#0d0887"
             ],
             [
              0.1111111111111111,
              "#46039f"
             ],
             [
              0.2222222222222222,
              "#7201a8"
             ],
             [
              0.3333333333333333,
              "#9c179e"
             ],
             [
              0.4444444444444444,
              "#bd3786"
             ],
             [
              0.5555555555555556,
              "#d8576b"
             ],
             [
              0.6666666666666666,
              "#ed7953"
             ],
             [
              0.7777777777777778,
              "#fb9f3a"
             ],
             [
              0.8888888888888888,
              "#fdca26"
             ],
             [
              1,
              "#f0f921"
             ]
            ],
            "type": "histogram2dcontour"
           }
          ],
          "mesh3d": [
           {
            "colorbar": {
             "outlinewidth": 0,
             "ticks": ""
            },
            "type": "mesh3d"
           }
          ],
          "parcoords": [
           {
            "line": {
             "colorbar": {
              "outlinewidth": 0,
              "ticks": ""
             }
            },
            "type": "parcoords"
           }
          ],
          "pie": [
           {
            "automargin": true,
            "type": "pie"
           }
          ],
          "scatter": [
           {
            "fillpattern": {
             "fillmode": "overlay",
             "size": 10,
             "solidity": 0.2
            },
            "type": "scatter"
           }
          ],
          "scatter3d": [
           {
            "line": {
             "colorbar": {
              "outlinewidth": 0,
              "ticks": ""
             }
            },
            "marker": {
             "colorbar": {
              "outlinewidth": 0,
              "ticks": ""
             }
            },
            "type": "scatter3d"
           }
          ],
          "scattercarpet": [
           {
            "marker": {
             "colorbar": {
              "outlinewidth": 0,
              "ticks": ""
             }
            },
            "type": "scattercarpet"
           }
          ],
          "scattergeo": [
           {
            "marker": {
             "colorbar": {
              "outlinewidth": 0,
              "ticks": ""
             }
            },
            "type": "scattergeo"
           }
          ],
          "scattergl": [
           {
            "marker": {
             "colorbar": {
              "outlinewidth": 0,
              "ticks": ""
             }
            },
            "type": "scattergl"
           }
          ],
          "scattermapbox": [
           {
            "marker": {
             "colorbar": {
              "outlinewidth": 0,
              "ticks": ""
             }
            },
            "type": "scattermapbox"
           }
          ],
          "scatterpolar": [
           {
            "marker": {
             "colorbar": {
              "outlinewidth": 0,
              "ticks": ""
             }
            },
            "type": "scatterpolar"
           }
          ],
          "scatterpolargl": [
           {
            "marker": {
             "colorbar": {
              "outlinewidth": 0,
              "ticks": ""
             }
            },
            "type": "scatterpolargl"
           }
          ],
          "scatterternary": [
           {
            "marker": {
             "colorbar": {
              "outlinewidth": 0,
              "ticks": ""
             }
            },
            "type": "scatterternary"
           }
          ],
          "surface": [
           {
            "colorbar": {
             "outlinewidth": 0,
             "ticks": ""
            },
            "colorscale": [
             [
              0,
              "#0d0887"
             ],
             [
              0.1111111111111111,
              "#46039f"
             ],
             [
              0.2222222222222222,
              "#7201a8"
             ],
             [
              0.3333333333333333,
              "#9c179e"
             ],
             [
              0.4444444444444444,
              "#bd3786"
             ],
             [
              0.5555555555555556,
              "#d8576b"
             ],
             [
              0.6666666666666666,
              "#ed7953"
             ],
             [
              0.7777777777777778,
              "#fb9f3a"
             ],
             [
              0.8888888888888888,
              "#fdca26"
             ],
             [
              1,
              "#f0f921"
             ]
            ],
            "type": "surface"
           }
          ],
          "table": [
           {
            "cells": {
             "fill": {
              "color": "#EBF0F8"
             },
             "line": {
              "color": "white"
             }
            },
            "header": {
             "fill": {
              "color": "#C8D4E3"
             },
             "line": {
              "color": "white"
             }
            },
            "type": "table"
           }
          ]
         },
         "layout": {
          "annotationdefaults": {
           "arrowcolor": "#2a3f5f",
           "arrowhead": 0,
           "arrowwidth": 1
          },
          "autotypenumbers": "strict",
          "coloraxis": {
           "colorbar": {
            "outlinewidth": 0,
            "ticks": ""
           }
          },
          "colorscale": {
           "diverging": [
            [
             0,
             "#8e0152"
            ],
            [
             0.1,
             "#c51b7d"
            ],
            [
             0.2,
             "#de77ae"
            ],
            [
             0.3,
             "#f1b6da"
            ],
            [
             0.4,
             "#fde0ef"
            ],
            [
             0.5,
             "#f7f7f7"
            ],
            [
             0.6,
             "#e6f5d0"
            ],
            [
             0.7,
             "#b8e186"
            ],
            [
             0.8,
             "#7fbc41"
            ],
            [
             0.9,
             "#4d9221"
            ],
            [
             1,
             "#276419"
            ]
           ],
           "sequential": [
            [
             0,
             "#0d0887"
            ],
            [
             0.1111111111111111,
             "#46039f"
            ],
            [
             0.2222222222222222,
             "#7201a8"
            ],
            [
             0.3333333333333333,
             "#9c179e"
            ],
            [
             0.4444444444444444,
             "#bd3786"
            ],
            [
             0.5555555555555556,
             "#d8576b"
            ],
            [
             0.6666666666666666,
             "#ed7953"
            ],
            [
             0.7777777777777778,
             "#fb9f3a"
            ],
            [
             0.8888888888888888,
             "#fdca26"
            ],
            [
             1,
             "#f0f921"
            ]
           ],
           "sequentialminus": [
            [
             0,
             "#0d0887"
            ],
            [
             0.1111111111111111,
             "#46039f"
            ],
            [
             0.2222222222222222,
             "#7201a8"
            ],
            [
             0.3333333333333333,
             "#9c179e"
            ],
            [
             0.4444444444444444,
             "#bd3786"
            ],
            [
             0.5555555555555556,
             "#d8576b"
            ],
            [
             0.6666666666666666,
             "#ed7953"
            ],
            [
             0.7777777777777778,
             "#fb9f3a"
            ],
            [
             0.8888888888888888,
             "#fdca26"
            ],
            [
             1,
             "#f0f921"
            ]
           ]
          },
          "colorway": [
           "#636efa",
           "#EF553B",
           "#00cc96",
           "#ab63fa",
           "#FFA15A",
           "#19d3f3",
           "#FF6692",
           "#B6E880",
           "#FF97FF",
           "#FECB52"
          ],
          "font": {
           "color": "#2a3f5f"
          },
          "geo": {
           "bgcolor": "white",
           "lakecolor": "white",
           "landcolor": "white",
           "showlakes": true,
           "showland": true,
           "subunitcolor": "#C8D4E3"
          },
          "hoverlabel": {
           "align": "left"
          },
          "hovermode": "closest",
          "mapbox": {
           "style": "light"
          },
          "paper_bgcolor": "white",
          "plot_bgcolor": "white",
          "polar": {
           "angularaxis": {
            "gridcolor": "#EBF0F8",
            "linecolor": "#EBF0F8",
            "ticks": ""
           },
           "bgcolor": "white",
           "radialaxis": {
            "gridcolor": "#EBF0F8",
            "linecolor": "#EBF0F8",
            "ticks": ""
           }
          },
          "scene": {
           "xaxis": {
            "backgroundcolor": "white",
            "gridcolor": "#DFE8F3",
            "gridwidth": 2,
            "linecolor": "#EBF0F8",
            "showbackground": true,
            "ticks": "",
            "zerolinecolor": "#EBF0F8"
           },
           "yaxis": {
            "backgroundcolor": "white",
            "gridcolor": "#DFE8F3",
            "gridwidth": 2,
            "linecolor": "#EBF0F8",
            "showbackground": true,
            "ticks": "",
            "zerolinecolor": "#EBF0F8"
           },
           "zaxis": {
            "backgroundcolor": "white",
            "gridcolor": "#DFE8F3",
            "gridwidth": 2,
            "linecolor": "#EBF0F8",
            "showbackground": true,
            "ticks": "",
            "zerolinecolor": "#EBF0F8"
           }
          },
          "shapedefaults": {
           "line": {
            "color": "#2a3f5f"
           }
          },
          "ternary": {
           "aaxis": {
            "gridcolor": "#DFE8F3",
            "linecolor": "#A2B1C6",
            "ticks": ""
           },
           "baxis": {
            "gridcolor": "#DFE8F3",
            "linecolor": "#A2B1C6",
            "ticks": ""
           },
           "bgcolor": "white",
           "caxis": {
            "gridcolor": "#DFE8F3",
            "linecolor": "#A2B1C6",
            "ticks": ""
           }
          },
          "title": {
           "x": 0.05
          },
          "xaxis": {
           "automargin": true,
           "gridcolor": "#EBF0F8",
           "linecolor": "#EBF0F8",
           "ticks": "",
           "title": {
            "standoff": 15
           },
           "zerolinecolor": "#EBF0F8",
           "zerolinewidth": 2
          },
          "yaxis": {
           "automargin": true,
           "gridcolor": "#EBF0F8",
           "linecolor": "#EBF0F8",
           "ticks": "",
           "title": {
            "standoff": 15
           },
           "zerolinecolor": "#EBF0F8",
           "zerolinewidth": 2
          }
         }
        },
        "title": {
         "text": "Discount vs Full Price Buyers"
        }
       }
      }
     },
     "metadata": {},
     "output_type": "display_data"
    }
   ],
   "source": [
    "# -- 16.Customer Segmentation Discount --\n",
    "# Remove canceled/refunded, keep only revenue > 0\n",
    "data_m2_noCancel_noRefund = data_m2[\n",
    "    ~data_m2['order_status'].str.contains(\"|\".join(order_status_keyWords_Refund_Cancel), case=False, na=False) & \n",
    "    (data_m2['revenue_converted'] > 0)\n",
    "].copy()\n",
    "\n",
    "# Create a new column 'order_type' that designates whether an order was discounted.\n",
    "data_m2_noCancel_noRefund['order_type'] = data_m2_noCancel_noRefund.apply(\n",
    "    lambda row: 'Discounted' if (row['discount'] > 0 ) else 'Full Price', \n",
    "    axis=1\n",
    ")\n",
    "\n",
    "# Group orders by customer (using 'user_name' or another unique identifier)\n",
    "customer_discount = data_m2_noCancel_noRefund.groupby('user_id').agg(\n",
    "    total_orders=('transaction_id', 'count'),\n",
    "    discounted_orders=('order_type', lambda x: (x == 'Discounted').sum()),\n",
    "    fullprice_orders=('order_type', lambda x: (x == 'Full Price').sum()),\n",
    "    total_revenue=('revenue_converted', 'sum')\n",
    ").reset_index()\n",
    "\n",
    "# Classify each customer\n",
    "customer_discount['customer_segment'] = customer_discount.apply(\n",
    "    lambda row: 'Discount Only' if row['discounted_orders'] == row['total_orders'] \n",
    "                else ('Full Price Only' if row['fullprice_orders'] == row['total_orders'] else 'Mixed'),\n",
    "    axis=1\n",
    ")\n",
    "\n",
    "# Create a summary table by segment\n",
    "customer_segment_discount_df = customer_discount.groupby('customer_segment').agg(\n",
    "    number_of_customers=('user_id', 'count'),\n",
    "    total_revenue=('total_revenue', 'sum'),\n",
    "    average_revenue_per_customer=('total_revenue', 'mean')\n",
    ").reset_index()\n",
    "\n",
    "# Calculate percentage values manually\n",
    "customer_segment_discount_df['percentage_customers'] = (customer_segment_discount_df['number_of_customers'] / customer_segment_discount_df['number_of_customers'].sum()) * 100\n",
    "\n",
    "# --- Generate a pie chart to visualize customer segmentation ---\n",
    "fig_client_distribution_discount = go.Figure(data=[go.Pie(\n",
    "    labels=customer_segment_discount_df['customer_segment'],\n",
    "    values=customer_segment_discount_df['percentage_customers'],\n",
    "    hole=0.5,  # Increase the hole size to 50%\n",
    "    marker=dict(colors=['#66c2a5', '#fc8d62', '#8da0cb']),  # Custom colors\n",
    "    textinfo='percent',  # Display the percentage\n",
    "    texttemplate='%{value:.1f}%',  # Manually format percentages with 1 decimal place\n",
    ")])\n",
    "\n",
    "fig_client_distribution_discount.update_layout(\n",
    "    title='Discount vs Full Price Buyers',\n",
    "    template='plotly_white'\n",
    ")\n",
    "\n",
    "# Render the pie chart\n",
    "fig_client_distribution_discount.show()\n"
   ]
  },
  {
   "cell_type": "code",
   "execution_count": 30,
   "metadata": {},
   "outputs": [
    {
     "data": {
      "text/html": [
       "<div>\n",
       "<style scoped>\n",
       "    .dataframe tbody tr th:only-of-type {\n",
       "        vertical-align: middle;\n",
       "    }\n",
       "\n",
       "    .dataframe tbody tr th {\n",
       "        vertical-align: top;\n",
       "    }\n",
       "\n",
       "    .dataframe thead th {\n",
       "        text-align: right;\n",
       "    }\n",
       "</style>\n",
       "<table border=\"1\" class=\"dataframe\">\n",
       "  <thead>\n",
       "    <tr style=\"text-align: right;\">\n",
       "      <th></th>\n",
       "      <th>Client Segment</th>\n",
       "      <th>Number of Clients</th>\n",
       "      <th>Total Revenue</th>\n",
       "      <th>Avg Revenue per Client</th>\n",
       "      <th>% of Clients</th>\n",
       "    </tr>\n",
       "  </thead>\n",
       "  <tbody>\n",
       "    <tr>\n",
       "      <th>0</th>\n",
       "      <td>Discount Only</td>\n",
       "      <td>130627</td>\n",
       "      <td>$5903575.6</td>\n",
       "      <td>$45.2</td>\n",
       "      <td>7.4%</td>\n",
       "    </tr>\n",
       "    <tr>\n",
       "      <th>1</th>\n",
       "      <td>Full Price Only</td>\n",
       "      <td>1251866</td>\n",
       "      <td>$72159048.0</td>\n",
       "      <td>$57.6</td>\n",
       "      <td>71.1%</td>\n",
       "    </tr>\n",
       "    <tr>\n",
       "      <th>2</th>\n",
       "      <td>Mixed</td>\n",
       "      <td>379013</td>\n",
       "      <td>$102490307.4</td>\n",
       "      <td>$270.4</td>\n",
       "      <td>21.5%</td>\n",
       "    </tr>\n",
       "  </tbody>\n",
       "</table>\n",
       "</div>"
      ],
      "text/plain": [
       "    Client Segment  Number of Clients Total Revenue Avg Revenue per Client  \\\n",
       "0    Discount Only             130627    $5903575.6                  $45.2   \n",
       "1  Full Price Only            1251866   $72159048.0                  $57.6   \n",
       "2            Mixed             379013  $102490307.4                 $270.4   \n",
       "\n",
       "  % of Clients  \n",
       "0         7.4%  \n",
       "1        71.1%  \n",
       "2        21.5%  "
      ]
     },
     "execution_count": 30,
     "metadata": {},
     "output_type": "execute_result"
    }
   ],
   "source": [
    "# -- Customer Segmentation Discount Table --\n",
    "\n",
    "# Calculate percentage values manually\n",
    "customer_segment_discount_df['percentage_customers'] = (customer_segment_discount_df['number_of_customers'] / customer_segment_discount_df['number_of_customers'].sum()) * 100\n",
    "\n",
    "# Format values to 1 decimal place for all columns\n",
    "customer_segment_discount_df['percentage_customers'] = customer_segment_discount_df['percentage_customers'].round(1).astype(str) + '%'  # Add '%' sign\n",
    "customer_segment_discount_df['total_revenue'] = '$' + customer_segment_discount_df['total_revenue'].round(1).astype(str)  # Add '$' sign and convert to string\n",
    "customer_segment_discount_df['average_revenue_per_customer'] = '$' + customer_segment_discount_df['average_revenue_per_customer'].round(1).astype(str)  # Add '$' sign and convert to string\n",
    "\n",
    "# Rename columns to something more natural\n",
    "customer_segment_discount_df.rename(columns={\n",
    "    'customer_segment': 'Client Segment',\n",
    "    'number_of_customers': 'Number of Clients',\n",
    "    'percentage_customers': '% of Clients',\n",
    "    'total_revenue': 'Total Revenue',\n",
    "    'average_revenue_per_customer': 'Avg Revenue per Client'\n",
    "}, inplace=True)\n",
    "\n",
    "# Display the final summary table\n",
    "customer_segment_discount_df\n"
   ]
  },
  {
   "cell_type": "code",
   "execution_count": 31,
   "metadata": {},
   "outputs": [
    {
     "name": "stderr",
     "output_type": "stream",
     "text": [
      "/Users/alexandrekocev/Projects/scandiweb/revenue_analysis/venv/lib/python3.13/site-packages/openpyxl/workbook/child.py:99: UserWarning:\n",
      "\n",
      "Title is more than 31 characters. Some applications may not be able to read the file\n",
      "\n",
      "Python(57463) MallocStackLogging: can't turn off malloc stack logging because it was not enabled.\n"
     ]
    },
    {
     "name": "stdout",
     "output_type": "stream",
     "text": [
      "All tables have been successfully written to 20250214_1834_results/combined_results.xlsx\n",
      "All figures have been successfully saved as PNG files in the 'results' folder.\n"
     ]
    }
   ],
   "source": [
    "import pandas as pd\n",
    "import plotly.io as pio\n",
    "import os\n",
    "from datetime import datetime\n",
    "\n",
    "# -- Create output folder --\n",
    "# Get the current date and time formatted as YYYYMMDD_HHMMSS\n",
    "current_datetime = datetime.now().strftime('%Y%m%d_%H%M')\n",
    "# Define the folder path as [datetime]_revenue\n",
    "output_dir = f'{current_datetime}_results/'\n",
    "# Create the results directory if it doesn't exist\n",
    "if not os.path.exists(output_dir):\n",
    "    os.makedirs(output_dir)\n",
    "    \n",
    "    \n",
    "    \n",
    "# -- Export all tables to a single Excel file --\n",
    "# Use ExcelWriter to create a file with multiple sheets\n",
    "output_excel_path = os.path.join(output_dir, \"combined_results.xlsx\")\n",
    "with pd.ExcelWriter(output_excel_path) as writer:\n",
    "    # Write each DataFrame to a separate sheet in the Excel file\n",
    "    client_repartition_df.to_excel(writer, sheet_name='client_repartition_df', index=False)\n",
    "    top_1_percent_metrics_df.to_excel(writer, sheet_name='top_1_percent_metrics_df', index=False)\n",
    "    correlation_results_df.to_excel(writer, sheet_name='correlation_results_df', index=False)\n",
    "    first_purchase_vs_total_revenue_df.to_excel(writer, sheet_name='first_purchase_vs_total_revenue_df', index=False)\n",
    "    client_origin_df.to_excel(writer, sheet_name='client_origin_df', index=False)\n",
    "    customer_segment_discount_df.to_excel(writer, sheet_name='customer_segment_discount_df', index=False)\n",
    "    category_repartition_df.to_excel(writer, sheet_name='category_repartition_df', index=False)\n",
    "\n",
    "\n",
    "# Output confirmation\n",
    "print(f\"All tables have been successfully written to {output_excel_path}\")\n",
    "\n",
    "\n",
    "# -- Export all figures to PNG files --\n",
    "figures = {\n",
    "    \"1-revenue_timeline\": fig_revenue_timeline,\n",
    "    \"2-revenue_month_and_weekday\": fig_revenue_distributin_month_and_weekday,\n",
    "    \"3-client_revenue\": fig_client_revenue,  \n",
    "    \"4-top_client_revenue\": fig_top_client_revenue,  \n",
    "    \"5-top_client_transactions\": fig_top_client_transactions,  \n",
    "    \"6-first_purchase_vs_revenue\": fig_first_purchase_vs_revenue, \n",
    "    \"7-user_origin_chart\": fig_user_origin_chart,\n",
    "    \"8-ratio_discount\": fig_ratio_discount, \n",
    "    \"9-share_discountt\": fig_share_discount, \n",
    "    \"10-client_distribution_discount\": fig_client_distribution_discount, \n",
    "    \"11-category_percentage_chart\": fig_category_percentage_chart, \n",
    "}  \n",
    "\n",
    "# Save each figure as a PNG in the /results/ folder\n",
    "for fig_name, fig_obj in figures.items():\n",
    "    fig_file_path = os.path.join(output_dir, f\"{fig_name}.png\")\n",
    "    pio.write_image(fig_obj, fig_file_path)\n",
    "\n",
    "# Output confirmation\n",
    "print(\"All figures have been successfully saved as PNG files in the 'results' folder.\")\n",
    "\n"
   ]
  },
  {
   "cell_type": "code",
   "execution_count": null,
   "metadata": {},
   "outputs": [],
   "source": []
  },
  {
   "cell_type": "code",
   "execution_count": null,
   "metadata": {},
   "outputs": [],
   "source": []
  },
  {
   "cell_type": "code",
   "execution_count": null,
   "metadata": {},
   "outputs": [],
   "source": []
  },
  {
   "cell_type": "code",
   "execution_count": null,
   "metadata": {},
   "outputs": [],
   "source": []
  }
 ],
 "metadata": {
  "kernelspec": {
   "display_name": "venv",
   "language": "python",
   "name": "python3"
  },
  "language_info": {
   "codemirror_mode": {
    "name": "ipython",
    "version": 3
   },
   "file_extension": ".py",
   "mimetype": "text/x-python",
   "name": "python",
   "nbconvert_exporter": "python",
   "pygments_lexer": "ipython3",
   "version": "3.13.1"
  }
 },
 "nbformat": 4,
 "nbformat_minor": 2
}
