{
 "cells": [
  {
   "cell_type": "code",
   "execution_count": null,
   "metadata": {},
   "outputs": [],
   "source": [
    "# -- Convert XML to CSV --\n",
    "xml_file = \"export_M2.xml\"\n",
    "csv_file = \"export_M2.csv\"\n",
    "\n",
    "\n",
    "import xml.etree.ElementTree as ET\n",
    "import csv\n",
    "\n",
    "# Parse the XML file\n",
    "tree = ET.parse(xml_file)\n",
    "root = tree.getroot()\n",
    "\n",
    "# Define namespace map (based on your XML file)\n",
    "namespaces = {\n",
    "    'ss': 'urn:schemas-microsoft-com:office:spreadsheet',\n",
    "    '': 'urn:schemas-microsoft-com:office:spreadsheet'  # Default namespace\n",
    "}\n",
    "\n",
    "# Locate the rows within the Table\n",
    "rows = root.find('.//ss:Table', namespaces).findall('ss:Row', namespaces)\n",
    "\n",
    "# Extract column names from the first row\n",
    "columns = [\n",
    "    cell.find('ss:Data', namespaces).text if cell.find('ss:Data', namespaces) is not None else ''\n",
    "    for cell in rows[0].findall('ss:Cell', namespaces)\n",
    "]\n",
    "\n",
    "# Write to CSV\n",
    "with open(csv_file, mode='w', newline='', encoding='utf-8') as csv_out:\n",
    "    writer = csv.writer(csv_out, quoting=csv.QUOTE_ALL)  # Use QUOTE_ALL to handle special characters\n",
    "    writer.writerow(columns)  # Write header\n",
    "\n",
    "    # Write data rows\n",
    "    for row in rows[1:]:\n",
    "        row_data = [\n",
    "            (cell.find('ss:Data', namespaces).text or '').replace(\"\\n\", \" \").strip()  # Replace line breaks with spaces\n",
    "            if cell.find('ss:Data', namespaces) is not None else ''\n",
    "            for cell in row.findall('ss:Cell', namespaces)\n",
    "        ]\n",
    "        writer.writerow(row_data)\n",
    "\n",
    "print(f\"XML file successfully converted to CSV: {csv_file}\")"
   ]
  },
  {
   "cell_type": "code",
   "execution_count": null,
   "metadata": {},
   "outputs": [],
   "source": [
    "# -- Viz the data --\n",
    "csv_file = \"export_M2.csv\"\n",
    "\n",
    "import pandas as pd\n",
    "import matplotlib.pyplot as plt\n",
    "\n",
    "# Load the data from the CSV file\n",
    "file_path = csv_file  # Replace with the actual file path\n",
    "data = pd.read_csv(file_path)\n",
    "data"
   ]
  }
 ],
 "metadata": {
  "kernelspec": {
   "display_name": "venv",
   "language": "python",
   "name": "python3"
  },
  "language_info": {
   "codemirror_mode": {
    "name": "ipython",
    "version": 3
   },
   "file_extension": ".py",
   "mimetype": "text/x-python",
   "name": "python",
   "nbconvert_exporter": "python",
   "pygments_lexer": "ipython3",
   "version": "3.12.3"
  }
 },
 "nbformat": 4,
 "nbformat_minor": 2
}
