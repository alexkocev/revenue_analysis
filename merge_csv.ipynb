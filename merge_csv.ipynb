{
 "cells": [
  {
   "cell_type": "code",
   "execution_count": null,
   "metadata": {},
   "outputs": [
    {
     "name": "stdout",
     "output_type": "stream",
     "text": [
      "Merged CSV saved as data/bq_magento.csv\n"
     ]
    }
   ],
   "source": [
    "# -- This script merges two CSV files with the same format into a single file --\n",
    "\n",
    "import pandas as pd\n",
    "\n",
    "csv_file1 = \"data/bq_magento1.csv\"  \n",
    "csv_file12 = \"data/bq_magento2.csv\"  \n",
    "\n",
    "\n",
    "data1 = pd.read_csv(csv_file1)\n",
    "data2 = pd.read_csv(csv_file12)\n",
    "\n",
    "# Merge the two DataFrames (concatenate along rows)\n",
    "merged_data = pd.concat([data1, data2], ignore_index=True)\n",
    "\n",
    "# Save the merged DataFrame back as a single CSV file\n",
    "merged_csv_file = \"data/bq_magento.csv\"\n",
    "merged_data.to_csv(merged_csv_file, index=False)\n",
    "\n",
    "print(f\"Merged CSV saved as {merged_csv_file}\")\n",
    "\n"
   ]
  }
 ],
 "metadata": {
  "kernelspec": {
   "display_name": "venv",
   "language": "python",
   "name": "python3"
  },
  "language_info": {
   "codemirror_mode": {
    "name": "ipython",
    "version": 3
   },
   "file_extension": ".py",
   "mimetype": "text/x-python",
   "name": "python",
   "nbconvert_exporter": "python",
   "pygments_lexer": "ipython3",
   "version": "3.13.1"
  }
 },
 "nbformat": 4,
 "nbformat_minor": 2
}
